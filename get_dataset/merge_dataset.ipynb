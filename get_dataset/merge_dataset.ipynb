{
 "cells": [
  {
   "cell_type": "markdown",
   "metadata": {},
   "source": [
    "# Testing a simple Decision Tree Regressor on the NC data\n",
    "\n",
    "Trying to predict **leaf area index, high vegetation** (lai_hv) "
   ]
  },
  {
   "cell_type": "code",
   "execution_count": 1,
   "metadata": {},
   "outputs": [],
   "source": [
    "import os\n",
    "import sys\n",
    "import cdsapi\n",
    "from sklearn.tree import DecisionTreeRegressor\n",
    "from sklearn.model_selection import train_test_split\n",
    "import netCDF4 as nc\n",
    "import numpy as np\n",
    "import xarray as xa\n",
    "\n",
    "module_path = os.path.abspath(os.path.join('./get_dataset'))\n",
    "if module_path not in sys.path:\n",
    "    sys.path.append(module_path)\n",
    "\n",
    "import dataset_api as api\n",
    "\n",
    "#api.get_era5_data()"
   ]
  },
  {
   "cell_type": "code",
   "execution_count": 2,
   "metadata": {},
   "outputs": [],
   "source": [
    "folder = './'"
   ]
  },
  {
   "cell_type": "code",
   "execution_count": 3,
   "metadata": {},
   "outputs": [
    {
     "name": "stdout",
     "output_type": "stream",
     "text": [
      "Coordinates:\n",
      "  * longitude  (longitude) float32 10.0 10.1 10.2 10.3 ... 29.7 29.8 29.9 30.0\n",
      "  * latitude   (latitude) float32 70.0 69.9 69.8 69.7 ... 35.3 35.2 35.1 35.0\n",
      "  * time       (time) datetime64[ns] 2019-01-01 2019-02-01 ... 2019-12-01\n",
      "(846612, 25)\n"
     ]
    },
    {
     "data": {
      "text/plain": [
       "u10       244944\n",
       "v10       244944\n",
       "d2m       244944\n",
       "t2m       244944\n",
       "fal       244944\n",
       "lai_hv    244944\n",
       "lai_lv    244944\n",
       "src       244944\n",
       "skt       244944\n",
       "stl1      244944\n",
       "stl2      244944\n",
       "stl3      244944\n",
       "stl4      244944\n",
       "slhf      244944\n",
       "ssr       244944\n",
       "str       244944\n",
       "sp        244944\n",
       "sshf      244944\n",
       "ssrd      244944\n",
       "strd      244944\n",
       "tp        244944\n",
       "swvl1     244944\n",
       "swvl2     244944\n",
       "swvl3     244944\n",
       "swvl4     244944\n",
       "dtype: int64"
      ]
     },
     "execution_count": 3,
     "metadata": {},
     "output_type": "execute_result"
    }
   ],
   "source": [
    "nc_path = folder + 'ERA5_land.nc'\n",
    "\n",
    "with xa.open_mfdataset(nc_path) as ds:\n",
    "    #print(ds.coords)\n",
    "    df_land = ds.to_dataframe() \n",
    "\n",
    "#print(df_land.shape)\n",
    "#df_land.isnull().sum()\n",
    "\n",
    "\n",
    "\n"
   ]
  },
  {
   "cell_type": "code",
   "execution_count": 4,
   "metadata": {},
   "outputs": [
    {
     "name": "stdout",
     "output_type": "stream",
     "text": [
      "Coordinates:\n",
      "  * longitude  (longitude) float32 10.0 10.25 10.5 10.75 ... 29.5 29.75 30.0\n",
      "  * latitude   (latitude) float32 70.0 69.75 69.5 69.25 ... 35.5 35.25 35.0\n",
      "  * level      (level) int32 1 2 3 5 7 10 20 30 ... 850 875 900 925 950 975 1000\n",
      "  * time       (time) datetime64[ns] 2019-01-01 2019-02-01 ... 2019-12-01\n",
      "(5070924, 3)\n"
     ]
    },
    {
     "data": {
      "text/plain": [
       "q       0\n",
       "crwc    0\n",
       "t       0\n",
       "dtype: int64"
      ]
     },
     "execution_count": 4,
     "metadata": {},
     "output_type": "execute_result"
    }
   ],
   "source": [
    "nc_path = folder + 'ERA5_pressure.nc'\n",
    "\n",
    "with xa.open_mfdataset(nc_path) as ds:\n",
    "    print(ds.coords)\n",
    "    df_pressure = ds.to_dataframe() \n",
    "\n",
    "print(df_pressure.shape)\n",
    "df_pressure.isnull().sum()"
   ]
  },
  {
   "cell_type": "code",
   "execution_count": 6,
   "metadata": {},
   "outputs": [
    {
     "name": "stdout",
     "output_type": "stream",
     "text": [
      "Coordinates:\n",
      "  * longitude  (longitude) float32 10.0 10.25 10.5 10.75 ... 29.5 29.75 30.0\n",
      "  * latitude   (latitude) float32 70.0 69.75 69.5 69.25 ... 35.5 35.25 35.0\n",
      "  * time       (time) datetime64[ns] 2019-01-01 2019-02-01 ... 2019-12-01\n",
      "(137052, 25)\n"
     ]
    },
    {
     "data": {
      "text/plain": [
       "d2m       0\n",
       "t2m       0\n",
       "cvh       0\n",
       "lai_hv    0\n",
       "lai_lv    0\n",
       "cvl       0\n",
       "mer       0\n",
       "mslhf     0\n",
       "mtpr      0\n",
       "skt       0\n",
       "stl1      0\n",
       "stl2      0\n",
       "stl3      0\n",
       "stl4      0\n",
       "slt       0\n",
       "ssr       0\n",
       "sp        0\n",
       "ssrd      0\n",
       "tcc       0\n",
       "tvh       0\n",
       "tvl       0\n",
       "swvl1     0\n",
       "swvl2     0\n",
       "swvl3     0\n",
       "swvl4     0\n",
       "dtype: int64"
      ]
     },
     "execution_count": 6,
     "metadata": {},
     "output_type": "execute_result"
    }
   ],
   "source": [
    "nc_path = folder + 'ERA5_data.nc'\n",
    "\n",
    "with xa.open_mfdataset(nc_path) as ds:\n",
    "    print(ds.coords)\n",
    "    df_data = ds.to_dataframe() \n",
    "\n",
    "print(df_data.shape)\n",
    "df_data.isnull().sum()"
   ]
  },
  {
   "cell_type": "code",
   "execution_count": 7,
   "metadata": {},
   "outputs": [],
   "source": [
    "#Working with ERA5_data \n",
    "\n",
    "dataset = df_data.dropna()\n",
    "\n",
    "y = dataset['lai_hv']\n",
    "X = dataset.drop(columns=['lai_hv'])\n",
    "\n",
    "X_train, X_test, y_train, y_test = train_test_split(X, y, test_size=0.2)\n"
   ]
  },
  {
   "cell_type": "code",
   "execution_count": 8,
   "metadata": {},
   "outputs": [
    {
     "name": "stdout",
     "output_type": "stream",
     "text": [
      "Prediction score on train:  0.9999999973453197\n",
      "Prediction score on test:  0.9606260359420854\n"
     ]
    }
   ],
   "source": [
    "model = DecisionTreeRegressor()\n",
    "model.fit(X_train, y_train)\n",
    "print(\"Prediction score on train: \", model.score(X_train, y_train))\n",
    "print(\"Prediction score on test: \", model.score(X_test, y_test))"
   ]
  },
  {
   "cell_type": "code",
   "execution_count": 9,
   "metadata": {},
   "outputs": [
    {
     "name": "stdout",
     "output_type": "stream",
     "text": [
      "<class 'pandas.core.frame.DataFrame'>\n",
      "MultiIndex: 137052 entries, (70.0, 10.0, Timestamp('2019-01-01 00:00:00')) to (35.0, 30.0, Timestamp('2019-12-01 00:00:00'))\n",
      "Data columns (total 25 columns):\n",
      " #   Column  Non-Null Count   Dtype  \n",
      "---  ------  --------------   -----  \n",
      " 0   d2m     137052 non-null  float32\n",
      " 1   t2m     137052 non-null  float32\n",
      " 2   cvh     137052 non-null  float32\n",
      " 3   lai_hv  137052 non-null  float32\n",
      " 4   lai_lv  137052 non-null  float32\n",
      " 5   cvl     137052 non-null  float32\n",
      " 6   mer     137052 non-null  float32\n",
      " 7   mslhf   137052 non-null  float32\n",
      " 8   mtpr    137052 non-null  float32\n",
      " 9   skt     137052 non-null  float32\n",
      " 10  stl1    137052 non-null  float32\n",
      " 11  stl2    137052 non-null  float32\n",
      " 12  stl3    137052 non-null  float32\n",
      " 13  stl4    137052 non-null  float32\n",
      " 14  slt     137052 non-null  float32\n",
      " 15  ssr     137052 non-null  float32\n",
      " 16  sp      137052 non-null  float32\n",
      " 17  ssrd    137052 non-null  float32\n",
      " 18  tcc     137052 non-null  float32\n",
      " 19  tvh     137052 non-null  float32\n",
      " 20  tvl     137052 non-null  float32\n",
      " 21  swvl1   137052 non-null  float32\n",
      " 22  swvl2   137052 non-null  float32\n",
      " 23  swvl3   137052 non-null  float32\n",
      " 24  swvl4   137052 non-null  float32\n",
      "dtypes: float32(25)\n",
      "memory usage: 13.6 MB\n"
     ]
    }
   ],
   "source": [
    "dataset.info()"
   ]
  },
  {
   "cell_type": "code",
   "execution_count": null,
   "metadata": {},
   "outputs": [],
   "source": []
  }
 ],
 "metadata": {
  "kernelspec": {
   "display_name": "Python 3",
   "language": "python",
   "name": "python3"
  },
  "language_info": {
   "codemirror_mode": {
    "name": "ipython",
    "version": 3
   },
   "file_extension": ".py",
   "mimetype": "text/x-python",
   "name": "python",
   "nbconvert_exporter": "python",
   "pygments_lexer": "ipython3",
   "version": "3.7.6"
  }
 },
 "nbformat": 4,
 "nbformat_minor": 4
}
