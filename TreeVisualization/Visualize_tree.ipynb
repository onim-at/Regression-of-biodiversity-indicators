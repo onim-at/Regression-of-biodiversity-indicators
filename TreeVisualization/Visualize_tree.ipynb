{
 "cells": [
  {
   "cell_type": "markdown",
   "metadata": {},
   "source": [
    "# Regression Tree"
   ]
  },
  {
   "cell_type": "code",
   "execution_count": 19,
   "metadata": {},
   "outputs": [],
   "source": [
    "import pandas as pd\n",
    "import numpy as np\n",
    "\n",
    "from sklearn import tree\n",
    "from sklearn.tree import DecisionTreeRegressor\n",
    "from sklearn.ensemble import RandomForestRegressor \n",
    "from sklearn import preprocessing\n",
    "from sklearn.model_selection import train_test_split\n",
    "\n",
    "import graphviz\n",
    "import matplotlib.pyplot as plt"
   ]
  },
  {
   "cell_type": "markdown",
   "metadata": {},
   "source": [
    "## Load the data"
   ]
  },
  {
   "cell_type": "code",
   "execution_count": 46,
   "metadata": {},
   "outputs": [
    {
     "data": {
      "text/html": [
       "<div>\n",
       "<style scoped>\n",
       "    .dataframe tbody tr th:only-of-type {\n",
       "        vertical-align: middle;\n",
       "    }\n",
       "\n",
       "    .dataframe tbody tr th {\n",
       "        vertical-align: top;\n",
       "    }\n",
       "\n",
       "    .dataframe thead th {\n",
       "        text-align: right;\n",
       "    }\n",
       "</style>\n",
       "<table border=\"1\" class=\"dataframe\">\n",
       "  <thead>\n",
       "    <tr style=\"text-align: right;\">\n",
       "      <th></th>\n",
       "      <th></th>\n",
       "      <th>habitat_richness</th>\n",
       "      <th>NDVI</th>\n",
       "      <th>ALBH-AL-BH-BB</th>\n",
       "      <th>ALBH-AL-BH-NI</th>\n",
       "      <th>ALBH-AL-BH-VI</th>\n",
       "      <th>ALDH-AL-DH-BB</th>\n",
       "      <th>ALDH-AL-DH-NI</th>\n",
       "      <th>ALDH-AL-DH-VI</th>\n",
       "      <th>DMP-RT6-DMP</th>\n",
       "      <th>FAPAR300-FAPAR</th>\n",
       "      <th>...</th>\n",
       "      <th>ssr</th>\n",
       "      <th>str</th>\n",
       "      <th>sp</th>\n",
       "      <th>ssrd</th>\n",
       "      <th>strd</th>\n",
       "      <th>tp</th>\n",
       "      <th>swvl1</th>\n",
       "      <th>swvl2</th>\n",
       "      <th>swvl3</th>\n",
       "      <th>swvl4</th>\n",
       "    </tr>\n",
       "    <tr>\n",
       "      <th>longitude</th>\n",
       "      <th>latitude</th>\n",
       "      <th></th>\n",
       "      <th></th>\n",
       "      <th></th>\n",
       "      <th></th>\n",
       "      <th></th>\n",
       "      <th></th>\n",
       "      <th></th>\n",
       "      <th></th>\n",
       "      <th></th>\n",
       "      <th></th>\n",
       "      <th></th>\n",
       "      <th></th>\n",
       "      <th></th>\n",
       "      <th></th>\n",
       "      <th></th>\n",
       "      <th></th>\n",
       "      <th></th>\n",
       "      <th></th>\n",
       "      <th></th>\n",
       "      <th></th>\n",
       "      <th></th>\n",
       "    </tr>\n",
       "  </thead>\n",
       "  <tbody>\n",
       "    <tr>\n",
       "      <th>25.00</th>\n",
       "      <th>67.03</th>\n",
       "      <td>0.206254</td>\n",
       "      <td>135.000000</td>\n",
       "      <td>1190.0</td>\n",
       "      <td>1770.5</td>\n",
       "      <td>385.0</td>\n",
       "      <td>1161.0</td>\n",
       "      <td>1721.0</td>\n",
       "      <td>380.0</td>\n",
       "      <td>3502.5</td>\n",
       "      <td>108.750000</td>\n",
       "      <td>...</td>\n",
       "      <td>6191994.0</td>\n",
       "      <td>-3533157.8</td>\n",
       "      <td>99186.53</td>\n",
       "      <td>7848361.0</td>\n",
       "      <td>24666998.0</td>\n",
       "      <td>0.001808</td>\n",
       "      <td>0.649113</td>\n",
       "      <td>0.649609</td>\n",
       "      <td>0.649762</td>\n",
       "      <td>0.669249</td>\n",
       "    </tr>\n",
       "    <tr>\n",
       "      <th rowspan=\"3\" valign=\"top\">25.01</th>\n",
       "      <th>67.01</th>\n",
       "      <td>0.257198</td>\n",
       "      <td>165.888889</td>\n",
       "      <td>1271.0</td>\n",
       "      <td>1882.0</td>\n",
       "      <td>420.0</td>\n",
       "      <td>1255.0</td>\n",
       "      <td>1855.0</td>\n",
       "      <td>413.0</td>\n",
       "      <td>3213.0</td>\n",
       "      <td>111.111111</td>\n",
       "      <td>...</td>\n",
       "      <td>6191994.0</td>\n",
       "      <td>-3533157.8</td>\n",
       "      <td>99186.53</td>\n",
       "      <td>7848361.0</td>\n",
       "      <td>24666998.0</td>\n",
       "      <td>0.001808</td>\n",
       "      <td>0.649113</td>\n",
       "      <td>0.649609</td>\n",
       "      <td>0.649762</td>\n",
       "      <td>0.669249</td>\n",
       "    </tr>\n",
       "    <tr>\n",
       "      <th>67.03</th>\n",
       "      <td>0.206254</td>\n",
       "      <td>149.888889</td>\n",
       "      <td>1155.0</td>\n",
       "      <td>1712.0</td>\n",
       "      <td>384.0</td>\n",
       "      <td>1122.0</td>\n",
       "      <td>1674.0</td>\n",
       "      <td>351.0</td>\n",
       "      <td>3812.0</td>\n",
       "      <td>116.777778</td>\n",
       "      <td>...</td>\n",
       "      <td>6191994.0</td>\n",
       "      <td>-3533157.8</td>\n",
       "      <td>99186.53</td>\n",
       "      <td>7848361.0</td>\n",
       "      <td>24666998.0</td>\n",
       "      <td>0.001808</td>\n",
       "      <td>0.649113</td>\n",
       "      <td>0.649609</td>\n",
       "      <td>0.649762</td>\n",
       "      <td>0.669249</td>\n",
       "    </tr>\n",
       "    <tr>\n",
       "      <th>67.04</th>\n",
       "      <td>0.206254</td>\n",
       "      <td>145.333333</td>\n",
       "      <td>1200.0</td>\n",
       "      <td>1791.0</td>\n",
       "      <td>369.0</td>\n",
       "      <td>1164.0</td>\n",
       "      <td>1741.0</td>\n",
       "      <td>349.0</td>\n",
       "      <td>3827.0</td>\n",
       "      <td>118.555556</td>\n",
       "      <td>...</td>\n",
       "      <td>6191994.0</td>\n",
       "      <td>-3533157.8</td>\n",
       "      <td>99186.53</td>\n",
       "      <td>7848361.0</td>\n",
       "      <td>24666998.0</td>\n",
       "      <td>0.001808</td>\n",
       "      <td>0.649113</td>\n",
       "      <td>0.649609</td>\n",
       "      <td>0.649762</td>\n",
       "      <td>0.669249</td>\n",
       "    </tr>\n",
       "    <tr>\n",
       "      <th>25.02</th>\n",
       "      <th>67.02</th>\n",
       "      <td>0.206254</td>\n",
       "      <td>166.000000</td>\n",
       "      <td>1198.0</td>\n",
       "      <td>1786.0</td>\n",
       "      <td>380.0</td>\n",
       "      <td>1151.0</td>\n",
       "      <td>1715.0</td>\n",
       "      <td>365.0</td>\n",
       "      <td>3399.0</td>\n",
       "      <td>106.500000</td>\n",
       "      <td>...</td>\n",
       "      <td>6191994.0</td>\n",
       "      <td>-3533157.8</td>\n",
       "      <td>99186.53</td>\n",
       "      <td>7848361.0</td>\n",
       "      <td>24666998.0</td>\n",
       "      <td>0.001808</td>\n",
       "      <td>0.649113</td>\n",
       "      <td>0.649609</td>\n",
       "      <td>0.649762</td>\n",
       "      <td>0.669249</td>\n",
       "    </tr>\n",
       "  </tbody>\n",
       "</table>\n",
       "<p>5 rows × 47 columns</p>\n",
       "</div>"
      ],
      "text/plain": [
       "                    habitat_richness        NDVI  ALBH-AL-BH-BB  \\\n",
       "longitude latitude                                                \n",
       "25.00     67.03             0.206254  135.000000         1190.0   \n",
       "25.01     67.01             0.257198  165.888889         1271.0   \n",
       "          67.03             0.206254  149.888889         1155.0   \n",
       "          67.04             0.206254  145.333333         1200.0   \n",
       "25.02     67.02             0.206254  166.000000         1198.0   \n",
       "\n",
       "                    ALBH-AL-BH-NI  ALBH-AL-BH-VI  ALDH-AL-DH-BB  \\\n",
       "longitude latitude                                                \n",
       "25.00     67.03            1770.5          385.0         1161.0   \n",
       "25.01     67.01            1882.0          420.0         1255.0   \n",
       "          67.03            1712.0          384.0         1122.0   \n",
       "          67.04            1791.0          369.0         1164.0   \n",
       "25.02     67.02            1786.0          380.0         1151.0   \n",
       "\n",
       "                    ALDH-AL-DH-NI  ALDH-AL-DH-VI  DMP-RT6-DMP  FAPAR300-FAPAR  \\\n",
       "longitude latitude                                                              \n",
       "25.00     67.03            1721.0          380.0       3502.5      108.750000   \n",
       "25.01     67.01            1855.0          413.0       3213.0      111.111111   \n",
       "          67.03            1674.0          351.0       3812.0      116.777778   \n",
       "          67.04            1741.0          349.0       3827.0      118.555556   \n",
       "25.02     67.02            1715.0          365.0       3399.0      106.500000   \n",
       "\n",
       "                    ...        ssr        str        sp       ssrd  \\\n",
       "longitude latitude  ...                                              \n",
       "25.00     67.03     ...  6191994.0 -3533157.8  99186.53  7848361.0   \n",
       "25.01     67.01     ...  6191994.0 -3533157.8  99186.53  7848361.0   \n",
       "          67.03     ...  6191994.0 -3533157.8  99186.53  7848361.0   \n",
       "          67.04     ...  6191994.0 -3533157.8  99186.53  7848361.0   \n",
       "25.02     67.02     ...  6191994.0 -3533157.8  99186.53  7848361.0   \n",
       "\n",
       "                          strd        tp     swvl1     swvl2     swvl3  \\\n",
       "longitude latitude                                                       \n",
       "25.00     67.03     24666998.0  0.001808  0.649113  0.649609  0.649762   \n",
       "25.01     67.01     24666998.0  0.001808  0.649113  0.649609  0.649762   \n",
       "          67.03     24666998.0  0.001808  0.649113  0.649609  0.649762   \n",
       "          67.04     24666998.0  0.001808  0.649113  0.649609  0.649762   \n",
       "25.02     67.02     24666998.0  0.001808  0.649113  0.649609  0.649762   \n",
       "\n",
       "                       swvl4  \n",
       "longitude latitude            \n",
       "25.00     67.03     0.669249  \n",
       "25.01     67.01     0.669249  \n",
       "          67.03     0.669249  \n",
       "          67.04     0.669249  \n",
       "25.02     67.02     0.669249  \n",
       "\n",
       "[5 rows x 47 columns]"
      ]
     },
     "execution_count": 46,
     "metadata": {},
     "output_type": "execute_result"
    }
   ],
   "source": [
    "regression_label = 'habitat_richness'\n",
    "folder = \"../Dataset\"\n",
    "file = \"/finland_out_closest_point_mean_handle_custom_set.csv\"\n",
    "\n",
    "df = pd.read_csv(folder + file, index_col=['longitude', 'latitude'])\n",
    "#df = df[df[regression_label] > 0]\n",
    "y = df[regression_label].values\n",
    "X = df.drop(columns=[regression_label]).values #returns a numpy array\n",
    "\n",
    "df.head()"
   ]
  },
  {
   "cell_type": "markdown",
   "metadata": {},
   "source": [
    "## Data preparation"
   ]
  },
  {
   "cell_type": "code",
   "execution_count": 47,
   "metadata": {},
   "outputs": [],
   "source": [
    "X_train, X_test, y_train, y_test = train_test_split(X, y, test_size=0.2, random_state=0)\n",
    "\n",
    "# Normalize the data\n",
    "X_scaler = preprocessing.MinMaxScaler()\n",
    "y_scaler = preprocessing.MinMaxScaler()\n",
    "\n",
    "\n",
    "# Test values have to be normalized with the training mean and std\n",
    "y_scaler.fit(y_train.reshape(-1, 1))\n",
    "y_train = y_scaler.transform(y_train.reshape(-1, 1)).ravel()\n",
    "y_test = y_scaler.transform(y_test.reshape(-1, 1)).ravel()\n",
    "y = y_scaler.transform(y.reshape(-1, 1)).ravel()\n",
    "X_scaler.fit(X_train)\n",
    "X_train = X_scaler.transform(X_train)\n",
    "X_test = X_scaler.transform(X_test)\n",
    "X = X_scaler.transform(X)"
   ]
  },
  {
   "cell_type": "code",
   "execution_count": 48,
   "metadata": {},
   "outputs": [
    {
     "name": "stdout",
     "output_type": "stream",
     "text": [
      "Random Forest validation score:  0.7284017153712123\n"
     ]
    }
   ],
   "source": [
    "clfXtrain = RandomForestRegressor(n_estimators=100, max_depth=None)\n",
    "clfXtrain = clfXtrain.fit(X_train,y_train)\n",
    "print(\"Random Forest validation score: \", clfXtrain.score(X_test, y_test))"
   ]
  },
  {
   "cell_type": "markdown",
   "metadata": {},
   "source": [
    "## Feature importances\n",
    "\n",
    "The random forest model will identify the features which have been most useful to the prediction. Visualizing these features will help to understand which are the factors that mostly influence the biodiversity of the considered habitat"
   ]
  },
  {
   "cell_type": "code",
   "execution_count": 49,
   "metadata": {},
   "outputs": [
    {
     "name": "stdout",
     "output_type": "stream",
     "text": [
      "Feature ranking:\n",
      "1. feature strd (0.106115)\n",
      "2. feature lai_lv (0.067292)\n",
      "3. feature ssrd (0.055952)\n",
      "4. feature swvl4 (0.050414)\n",
      "5. feature tp (0.044388)\n",
      "6. feature SWI1km-SWI-100 (0.032001)\n",
      "7. feature str (0.027372)\n",
      "8. feature NDVI (0.026468)\n",
      "9. feature slhf (0.026433)\n",
      "10. feature sp (0.025041)\n",
      "11. feature DMP-RT6-DMP (0.024379)\n",
      "12. feature swvl3 (0.024286)\n",
      "13. feature SWI1km-SWI-002 (0.023322)\n",
      "14. feature fal (0.023053)\n",
      "15. feature swvl2 (0.023021)\n",
      "16. feature swvl1 (0.021896)\n",
      "17. feature ssr (0.021861)\n",
      "18. feature skt (0.019163)\n",
      "19. feature TOCR-REF-NOR-SWIR (0.018074)\n",
      "20. feature src (0.017545)\n",
      "21. feature d2m (0.017224)\n",
      "22. feature stl3 (0.016497)\n",
      "23. feature SWI1km-SWI-005 (0.016291)\n",
      "24. feature TOCR-REF-NOR-NIR (0.016272)\n",
      "25. feature TOCR-REF-NOR-BLUE (0.016157)\n",
      "26. feature stl4 (0.016035)\n",
      "27. feature t2m (0.015933)\n",
      "28. feature stl1 (0.015863)\n",
      "29. feature FCOVER300-FCOVER (0.015685)\n",
      "30. feature GDMP300-RT5-GDMP (0.015555)\n",
      "31. feature SWI1km-SWI-060 (0.014429)\n",
      "32. feature lai_hv (0.012567)\n",
      "33. feature stl2 (0.012086)\n",
      "34. feature ALBH-AL-BH-VI (0.011367)\n",
      "35. feature LAI300-LAI (0.011309)\n",
      "36. feature SWI1km-SWI-040 (0.010905)\n",
      "37. feature FAPAR300-FAPAR (0.010709)\n",
      "38. feature SWI1km-SWI-010 (0.009783)\n",
      "39. feature TOCR-REF-NOR-RED (0.009533)\n",
      "40. feature ALDH-AL-DH-VI (0.009386)\n",
      "41. feature SWI1km-SWI-020 (0.008846)\n",
      "42. feature ALBH-AL-BH-NI (0.008752)\n",
      "43. feature ALDH-AL-DH-NI (0.008216)\n",
      "44. feature SWI1km-SWI-015 (0.008073)\n",
      "45. feature ALBH-AL-BH-BB (0.007494)\n",
      "46. feature ALDH-AL-DH-BB (0.006958)\n"
     ]
    },
    {
     "data": {
      "image/png": "[encoded data removed]",
      "text/plain": [
       "<Figure size 2160x720 with 1 Axes>"
      ]
     },
     "metadata": {
      "needs_background": "light"
     },
     "output_type": "display_data"
    }
   ],
   "source": [
    "importances = clfXtrain.feature_importances_\n",
    "std = np.std([tree.feature_importances_ for tree in clfXtrain.estimators_],axis=0)\n",
    "indices = np.argsort(importances)[::-1]\n",
    "\n",
    "feat_names = list(df.drop(columns=[regression_label]).columns.values) \n",
    "\n",
    "# Print the feature ranking\n",
    "print(\"Feature ranking:\")\n",
    "\n",
    "for f in range(X.shape[1]):\n",
    "    print(\"%d. feature %s (%f)\" % (f + 1, feat_names[indices[f]], importances[indices[f]]))\n",
    "\n",
    "names = [feat_names[i] for i in indices]\n",
    "# Plot the impurity-based feature importances of the forest\n",
    "plt.figure(figsize=(30, 10))\n",
    "plt.title(\"Feature importances\")\n",
    "plt.bar(range(X.shape[1]), importances[indices],\n",
    "        color=\"r\", yerr=std[indices], align=\"center\")\n",
    "plt.xticks(range(X.shape[1]), names, rotation=90)\n",
    "plt.xlim([-1, X.shape[1]])\n",
    "plt.show()\n"
   ]
  },
  {
   "cell_type": "code",
   "execution_count": 50,
   "metadata": {},
   "outputs": [
    {
     "name": "stdout",
     "output_type": "stream",
     "text": [
      "The first 10 features contribute to the 0.4858558162916941 of the result\n",
      "These features are:\n"
     ]
    },
    {
     "data": {
      "text/plain": [
       "['strd',\n",
       " 'lai_lv',\n",
       " 'ssrd',\n",
       " 'swvl4',\n",
       " 'tp',\n",
       " 'SWI1km-SWI-100',\n",
       " 'str',\n",
       " 'NDVI',\n",
       " 'slhf',\n",
       " 'sp']"
      ]
     },
     "execution_count": 50,
     "metadata": {},
     "output_type": "execute_result"
    }
   ],
   "source": [
    "imp_index = np.argsort(importances)[::-1]\n",
    "imp = np.sort(importances)[::-1]\n",
    "\n",
    "num_feats = 10\n",
    "print(\"The first\", num_feats, \"features contribute to the\",  np.cumsum(imp)[num_feats], \"of the result\")\n",
    "print(\"These features are:\")\n",
    "names[:num_feats]"
   ]
  },
  {
   "cell_type": "markdown",
   "metadata": {},
   "source": [
    "## Remove least important features\n",
    "\n",
    "After determining the importance of each feature through random forest, removing the least important ones improves the performace of a single regression tree"
   ]
  },
  {
   "cell_type": "code",
   "execution_count": 51,
   "metadata": {},
   "outputs": [
    {
     "data": {
      "text/plain": [
       "(14171, 10)"
      ]
     },
     "execution_count": 51,
     "metadata": {},
     "output_type": "execute_result"
    }
   ],
   "source": [
    "# Select only the 30 most important features\n",
    "num_feats = 10 # number of retained features\n",
    "remove_f = names[:num_feats]\n",
    "\n",
    "# Prepare the data\n",
    "y = df[regression_label].values\n",
    "# Select only the most important features in X\n",
    "X = df.drop(columns=[regression_label])[remove_f].values #returns a numpy array\n",
    "# Split\n",
    "X_train, X_test, y_train, y_test = train_test_split(X, y, test_size=0.2, random_state=0)\n",
    "# Normalize the data\n",
    "X_scaler = preprocessing.MinMaxScaler()\n",
    "y_scaler = preprocessing.MinMaxScaler()\n",
    "# Test values have to be normalized with the training mean and std\n",
    "y_scaler.fit(y_train.reshape(-1, 1))\n",
    "y_train = y_scaler.transform(y_train.reshape(-1, 1)).ravel()\n",
    "y_test = y_scaler.transform(y_test.reshape(-1, 1)).ravel()\n",
    "y = y_scaler.transform(y.reshape(-1, 1)).ravel()\n",
    "X_scaler.fit(X_train)\n",
    "X_train = X_scaler.transform(X_train)\n",
    "X_test = X_scaler.transform(X_test)\n",
    "X = X_scaler.transform(X)\n",
    "X_train.shape"
   ]
  },
  {
   "cell_type": "markdown",
   "metadata": {},
   "source": [
    "### Train a decision tree with the remaining features\n",
    "\n",
    "It is important to choose a good value for the max_depth of the tree, because trees too deep tend to overfit. So far the best result has been obtained with a max_depth of 7."
   ]
  },
  {
   "cell_type": "code",
   "execution_count": null,
   "metadata": {},
   "outputs": [
    {
     "name": "stdout",
     "output_type": "stream",
     "text": [
      "Regression Tree model score:  0.2539470433164325\n"
     ]
    }
   ],
   "source": [
    "decision_tree = tree.DecisionTreeRegressor(max_depth=5)\n",
    "decision_tree = decision_tree.fit(X_train,y_train)\n",
    "print(\"Regression Tree model score: \", decision_tree.score(X_test, y_test))\n",
    "\n",
    "plt.figure()\n",
    "tree.plot_tree(decision_tree)\n",
    "plt.show()"
   ]
  },
  {
   "cell_type": "markdown",
   "metadata": {},
   "source": [
    "## Tree visualization\n",
    "\n",
    "Once the graph has been exported to a .dot file, graphical renderings can be generated using, for example:\n",
    "```\n",
    "$ dot -Tpng tree.dot -o tree.png    (PNG format)\n",
    "```"
   ]
  },
  {
   "cell_type": "code",
   "execution_count": 43,
   "metadata": {},
   "outputs": [],
   "source": [
    "feat_names = list(df.drop(columns=[regression_label]).columns.values) \n",
    "dot_data = tree.export_graphviz(decision_tree,out_file='tree.dot',feature_names=remove_f, filled=True, rounded=True, special_characters=True)\n",
    "graph = graphviz.Source(dot_data)"
   ]
  },
  {
   "cell_type": "markdown",
   "metadata": {},
   "source": [
    "### Dtreeviz visualization\n",
    "\n",
    "Dtreeviz offers a great way to produce tree visualization with a lot of insight of how the mdoel takes decisions. "
   ]
  },
  {
   "cell_type": "code",
   "execution_count": 9,
   "metadata": {},
   "outputs": [],
   "source": [
    "from dtreeviz.trees import *\n",
    "viz = dtreeviz(decision_tree,\n",
    "               X_train,\n",
    "               y_train,\n",
    "               target_name='habitat_richness',\n",
    "               feature_names=names)\n",
    "viz.view()"
   ]
  },
  {
   "cell_type": "markdown",
   "metadata": {},
   "source": [
    "## Prediction Path\n",
    "\n",
    "The following visualization shows how the tree chooses a path when obtaining the regression. This kind of plot could be useful in a real-case scenario, because if the model makes a warning prediction it would be useful to understand the features it considered."
   ]
  },
  {
   "cell_type": "code",
   "execution_count": 10,
   "metadata": {},
   "outputs": [],
   "source": [
    "X = X_train[np.random.randint(0, len(X_train)),:]  # random sample from training\n",
    "\n",
    "viz = dtreeviz(decision_tree,\n",
    "               X_train,\n",
    "               y_train,\n",
    "               target_name='habitat_richness',\n",
    "               orientation ='LR',  # left-right orientation\n",
    "               feature_names=names,\n",
    "               X=X)  # need to give single observation for prediction\n",
    "\n",
    "viz.view()"
   ]
  },
  {
   "cell_type": "markdown",
   "metadata": {},
   "source": [
    "## Testing Random Forest with less features"
   ]
  },
  {
   "cell_type": "code",
   "execution_count": 30,
   "metadata": {},
   "outputs": [
    {
     "name": "stdout",
     "output_type": "stream",
     "text": [
      "Random Forest validation score:  0.8803306077485716\n"
     ]
    }
   ],
   "source": [
    "clfXtrain = RandomForestRegressor(n_estimators=100, max_depth=None)\n",
    "clfXtrain = clfXtrain.fit(X_train,y_train)\n",
    "print(\"Random Forest validation score: \", clfXtrain.score(X_test, y_test))"
   ]
  },
  {
   "cell_type": "code",
   "execution_count": null,
   "metadata": {},
   "outputs": [],
   "source": []
  }
 ],
 "metadata": {
  "kernelspec": {
   "display_name": "Python 3",
   "language": "python",
   "name": "python3"
  },
  "language_info": {
   "codemirror_mode": {
    "name": "ipython",
    "version": 3
   },
   "file_extension": ".py",
   "mimetype": "text/x-python",
   "name": "python",
   "nbconvert_exporter": "python",
   "pygments_lexer": "ipython3",
   "version": "3.8.5"
  }
 },
 "nbformat": 4,
 "nbformat_minor": 4
}
