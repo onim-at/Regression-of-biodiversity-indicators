{
 "cells": [
  {
   "cell_type": "markdown",
   "metadata": {},
   "source": [
    "# Regression Tree"
   ]
  },
  {
   "cell_type": "code",
   "execution_count": 134,
   "metadata": {},
   "outputs": [],
   "source": [
    "import pandas as pd\n",
    "import numpy as np\n",
    "\n",
    "from sklearn import tree\n",
    "from sklearn.tree import DecisionTreeRegressor\n",
    "from sklearn.ensemble import RandomForestRegressor \n",
    "from sklearn import preprocessing\n",
    "from sklearn.model_selection import train_test_split\n",
    "\n",
    "import graphviz\n",
    "import matplotlib.pyplot as plt"
   ]
  },
  {
   "cell_type": "markdown",
   "metadata": {},
   "source": [
    "## Load the data"
   ]
  },
  {
   "cell_type": "code",
   "execution_count": 135,
   "metadata": {},
   "outputs": [
    {
     "data": {
      "text/html": [
       "<div>\n",
       "<style scoped>\n",
       "    .dataframe tbody tr th:only-of-type {\n",
       "        vertical-align: middle;\n",
       "    }\n",
       "\n",
       "    .dataframe tbody tr th {\n",
       "        vertical-align: top;\n",
       "    }\n",
       "\n",
       "    .dataframe thead th {\n",
       "        text-align: right;\n",
       "    }\n",
       "</style>\n",
       "<table border=\"1\" class=\"dataframe\">\n",
       "  <thead>\n",
       "    <tr style=\"text-align: right;\">\n",
       "      <th></th>\n",
       "      <th></th>\n",
       "      <th>habitat_richness</th>\n",
       "      <th>NDVI</th>\n",
       "      <th>ALBH-AL-BH-NI</th>\n",
       "      <th>ALBH-AL-BH-VI</th>\n",
       "      <th>ALBH-AL-BH-BB</th>\n",
       "      <th>ALDH-AL-DH-BB</th>\n",
       "      <th>ALDH-AL-DH-NI</th>\n",
       "      <th>FAPAR300-RT0-FAPAR</th>\n",
       "      <th>GDMP300-RT0-GDMP</th>\n",
       "      <th>LAI300-RT0-LAI</th>\n",
       "      <th>...</th>\n",
       "      <th>ssr</th>\n",
       "      <th>str</th>\n",
       "      <th>sp</th>\n",
       "      <th>ssrd</th>\n",
       "      <th>strd</th>\n",
       "      <th>tp</th>\n",
       "      <th>swvl1</th>\n",
       "      <th>swvl2</th>\n",
       "      <th>swvl3</th>\n",
       "      <th>swvl4</th>\n",
       "    </tr>\n",
       "    <tr>\n",
       "      <th>longitude</th>\n",
       "      <th>latitude</th>\n",
       "      <th></th>\n",
       "      <th></th>\n",
       "      <th></th>\n",
       "      <th></th>\n",
       "      <th></th>\n",
       "      <th></th>\n",
       "      <th></th>\n",
       "      <th></th>\n",
       "      <th></th>\n",
       "      <th></th>\n",
       "      <th></th>\n",
       "      <th></th>\n",
       "      <th></th>\n",
       "      <th></th>\n",
       "      <th></th>\n",
       "      <th></th>\n",
       "      <th></th>\n",
       "      <th></th>\n",
       "      <th></th>\n",
       "      <th></th>\n",
       "      <th></th>\n",
       "    </tr>\n",
       "  </thead>\n",
       "  <tbody>\n",
       "    <tr>\n",
       "      <th rowspan=\"5\" valign=\"top\">3.6</th>\n",
       "      <th>44.43</th>\n",
       "      <td>0.419306</td>\n",
       "      <td>161.000000</td>\n",
       "      <td>1273.0</td>\n",
       "      <td>1011.0</td>\n",
       "      <td>1407.0</td>\n",
       "      <td>1821.0</td>\n",
       "      <td>980.0</td>\n",
       "      <td>33.000000</td>\n",
       "      <td>1492.333333</td>\n",
       "      <td>7.0</td>\n",
       "      <td>...</td>\n",
       "      <td>12423977.0</td>\n",
       "      <td>-5355694.0</td>\n",
       "      <td>90546.030</td>\n",
       "      <td>14748765.0</td>\n",
       "      <td>25769978.0</td>\n",
       "      <td>0.003235</td>\n",
       "      <td>0.337979</td>\n",
       "      <td>0.340152</td>\n",
       "      <td>0.339810</td>\n",
       "      <td>0.383521</td>\n",
       "    </tr>\n",
       "    <tr>\n",
       "      <th>44.44</th>\n",
       "      <td>0.413982</td>\n",
       "      <td>182.166667</td>\n",
       "      <td>1268.0</td>\n",
       "      <td>1007.0</td>\n",
       "      <td>1415.0</td>\n",
       "      <td>1799.0</td>\n",
       "      <td>978.0</td>\n",
       "      <td>33.000000</td>\n",
       "      <td>1545.416667</td>\n",
       "      <td>7.0</td>\n",
       "      <td>...</td>\n",
       "      <td>12423977.0</td>\n",
       "      <td>-5355694.0</td>\n",
       "      <td>90546.030</td>\n",
       "      <td>14748765.0</td>\n",
       "      <td>25769978.0</td>\n",
       "      <td>0.003235</td>\n",
       "      <td>0.337979</td>\n",
       "      <td>0.340152</td>\n",
       "      <td>0.339810</td>\n",
       "      <td>0.383521</td>\n",
       "    </tr>\n",
       "    <tr>\n",
       "      <th>44.45</th>\n",
       "      <td>0.413982</td>\n",
       "      <td>185.666667</td>\n",
       "      <td>1214.0</td>\n",
       "      <td>971.0</td>\n",
       "      <td>1441.0</td>\n",
       "      <td>1873.0</td>\n",
       "      <td>955.0</td>\n",
       "      <td>11.666667</td>\n",
       "      <td>1674.888889</td>\n",
       "      <td>9.0</td>\n",
       "      <td>...</td>\n",
       "      <td>12423977.0</td>\n",
       "      <td>-5355694.0</td>\n",
       "      <td>90546.030</td>\n",
       "      <td>14748765.0</td>\n",
       "      <td>25769978.0</td>\n",
       "      <td>0.003235</td>\n",
       "      <td>0.337979</td>\n",
       "      <td>0.340152</td>\n",
       "      <td>0.339810</td>\n",
       "      <td>0.383521</td>\n",
       "    </tr>\n",
       "    <tr>\n",
       "      <th>44.46</th>\n",
       "      <td>0.413982</td>\n",
       "      <td>176.777778</td>\n",
       "      <td>1213.0</td>\n",
       "      <td>971.0</td>\n",
       "      <td>1594.0</td>\n",
       "      <td>1881.0</td>\n",
       "      <td>955.0</td>\n",
       "      <td>22.333333</td>\n",
       "      <td>1559.222222</td>\n",
       "      <td>8.0</td>\n",
       "      <td>...</td>\n",
       "      <td>12459850.0</td>\n",
       "      <td>-5233925.5</td>\n",
       "      <td>89150.945</td>\n",
       "      <td>14630792.0</td>\n",
       "      <td>25615316.0</td>\n",
       "      <td>0.003158</td>\n",
       "      <td>0.436943</td>\n",
       "      <td>0.435818</td>\n",
       "      <td>0.431686</td>\n",
       "      <td>0.470464</td>\n",
       "    </tr>\n",
       "    <tr>\n",
       "      <th>44.47</th>\n",
       "      <td>0.419306</td>\n",
       "      <td>161.166667</td>\n",
       "      <td>1235.0</td>\n",
       "      <td>985.0</td>\n",
       "      <td>1507.0</td>\n",
       "      <td>1962.0</td>\n",
       "      <td>962.0</td>\n",
       "      <td>81.000000</td>\n",
       "      <td>1378.083333</td>\n",
       "      <td>2.5</td>\n",
       "      <td>...</td>\n",
       "      <td>12459850.0</td>\n",
       "      <td>-5233925.5</td>\n",
       "      <td>89150.945</td>\n",
       "      <td>14630792.0</td>\n",
       "      <td>25615316.0</td>\n",
       "      <td>0.003158</td>\n",
       "      <td>0.436943</td>\n",
       "      <td>0.435818</td>\n",
       "      <td>0.431686</td>\n",
       "      <td>0.470464</td>\n",
       "    </tr>\n",
       "  </tbody>\n",
       "</table>\n",
       "<p>5 rows × 47 columns</p>\n",
       "</div>"
      ],
      "text/plain": [
       "                    habitat_richness        NDVI  ALBH-AL-BH-NI  \\\n",
       "longitude latitude                                                \n",
       "3.6       44.43             0.419306  161.000000         1273.0   \n",
       "          44.44             0.413982  182.166667         1268.0   \n",
       "          44.45             0.413982  185.666667         1214.0   \n",
       "          44.46             0.413982  176.777778         1213.0   \n",
       "          44.47             0.419306  161.166667         1235.0   \n",
       "\n",
       "                    ALBH-AL-BH-VI  ALBH-AL-BH-BB  ALDH-AL-DH-BB  \\\n",
       "longitude latitude                                                \n",
       "3.6       44.43            1011.0         1407.0         1821.0   \n",
       "          44.44            1007.0         1415.0         1799.0   \n",
       "          44.45             971.0         1441.0         1873.0   \n",
       "          44.46             971.0         1594.0         1881.0   \n",
       "          44.47             985.0         1507.0         1962.0   \n",
       "\n",
       "                    ALDH-AL-DH-NI  FAPAR300-RT0-FAPAR  GDMP300-RT0-GDMP  \\\n",
       "longitude latitude                                                        \n",
       "3.6       44.43             980.0           33.000000       1492.333333   \n",
       "          44.44             978.0           33.000000       1545.416667   \n",
       "          44.45             955.0           11.666667       1674.888889   \n",
       "          44.46             955.0           22.333333       1559.222222   \n",
       "          44.47             962.0           81.000000       1378.083333   \n",
       "\n",
       "                    LAI300-RT0-LAI  ...         ssr        str         sp  \\\n",
       "longitude latitude                  ...                                     \n",
       "3.6       44.43                7.0  ...  12423977.0 -5355694.0  90546.030   \n",
       "          44.44                7.0  ...  12423977.0 -5355694.0  90546.030   \n",
       "          44.45                9.0  ...  12423977.0 -5355694.0  90546.030   \n",
       "          44.46                8.0  ...  12459850.0 -5233925.5  89150.945   \n",
       "          44.47                2.5  ...  12459850.0 -5233925.5  89150.945   \n",
       "\n",
       "                          ssrd        strd        tp     swvl1     swvl2  \\\n",
       "longitude latitude                                                         \n",
       "3.6       44.43     14748765.0  25769978.0  0.003235  0.337979  0.340152   \n",
       "          44.44     14748765.0  25769978.0  0.003235  0.337979  0.340152   \n",
       "          44.45     14748765.0  25769978.0  0.003235  0.337979  0.340152   \n",
       "          44.46     14630792.0  25615316.0  0.003158  0.436943  0.435818   \n",
       "          44.47     14630792.0  25615316.0  0.003158  0.436943  0.435818   \n",
       "\n",
       "                       swvl3     swvl4  \n",
       "longitude latitude                      \n",
       "3.6       44.43     0.339810  0.383521  \n",
       "          44.44     0.339810  0.383521  \n",
       "          44.45     0.339810  0.383521  \n",
       "          44.46     0.431686  0.470464  \n",
       "          44.47     0.431686  0.470464  \n",
       "\n",
       "[5 rows x 47 columns]"
      ]
     },
     "execution_count": 135,
     "metadata": {},
     "output_type": "execute_result"
    }
   ],
   "source": [
    "regression_label = 'habitat_richness'\n",
    "folder = \"../Dataset\"\n",
    "file = \"/france.csv\"\n",
    "\n",
    "df = pd.read_csv(folder + file, index_col=['longitude', 'latitude'])\n",
    "#df = df[df[regression_label] > 0]\n",
    "y = df[regression_label].values\n",
    "X = df.drop(columns=[regression_label]).values #returns a numpy array\n",
    "\n",
    "df.head()"
   ]
  },
  {
   "cell_type": "markdown",
   "metadata": {},
   "source": [
    "## Data preparation"
   ]
  },
  {
   "cell_type": "code",
   "execution_count": 136,
   "metadata": {},
   "outputs": [],
   "source": [
    "X_train, X_test, y_train, y_test = train_test_split(X, y, test_size=0.2, random_state=0)\n",
    "\n",
    "# Normalize the data\n",
    "X_scaler = preprocessing.MinMaxScaler()\n",
    "y_scaler = preprocessing.MinMaxScaler()\n",
    "\n",
    "\n",
    "# Test values have to be normalized with the training mean and std\n",
    "y_scaler.fit(y_train.reshape(-1, 1))\n",
    "y_train = y_scaler.transform(y_train.reshape(-1, 1)).ravel()\n",
    "y_test = y_scaler.transform(y_test.reshape(-1, 1)).ravel()\n",
    "y = y_scaler.transform(y.reshape(-1, 1)).ravel()\n",
    "X_scaler.fit(X_train)\n",
    "X_train = X_scaler.transform(X_train)\n",
    "X_test = X_scaler.transform(X_test)\n",
    "X = X_scaler.transform(X)"
   ]
  },
  {
   "cell_type": "markdown",
   "metadata": {},
   "source": [
    "## Train a Random Forest \n",
    "\n",
    "It is possible to obtain a good score on the France dataset with just 10 estimator trees, which could easily be visualized and studied to explain the models decisions quite exaustively."
   ]
  },
  {
   "cell_type": "code",
   "execution_count": 137,
   "metadata": {},
   "outputs": [
    {
     "name": "stdout",
     "output_type": "stream",
     "text": [
      "Random Forest validation score:  0.7652473936001144\n"
     ]
    }
   ],
   "source": [
    "clfXtrain = RandomForestRegressor(n_estimators=100, max_depth=None)\n",
    "clfXtrain = clfXtrain.fit(X_train,y_train)\n",
    "print(\"Random Forest validation score: \", clfXtrain.score(X_test, y_test))"
   ]
  },
  {
   "cell_type": "markdown",
   "metadata": {},
   "source": [
    "## Feature importances\n",
    "\n",
    "The random forest model will identify the features which have been most useful to the prediction. Visualizing these features will help to understand which are the factors that mostly influence the biodiversity of the considered habitat"
   ]
  },
  {
   "cell_type": "code",
   "execution_count": 138,
   "metadata": {},
   "outputs": [
    {
     "name": "stdout",
     "output_type": "stream",
     "text": [
      "Feature importances: \n",
      "[0.03 0.01 0.01 0.01 0.01 0.01 0.01 0.02 0.   0.01 0.02 0.02 0.   0.02\n",
      " 0.01 0.03 0.   0.03 0.02 0.01 0.01 0.01 0.02 0.02 0.04 0.   0.02 0.04\n",
      " 0.01 0.06 0.   0.   0.   0.   0.01 0.01 0.01 0.1  0.01 0.01 0.26 0.04\n",
      " 0.01 0.01 0.01 0.01]\n"
     ]
    },
    {
     "data": {
      "image/png": "[encoded data removed]",
      "text/plain": [
       "<Figure size 432x288 with 1 Axes>"
      ]
     },
     "metadata": {
      "needs_background": "light"
     },
     "output_type": "display_data"
    }
   ],
   "source": [
    "print('Feature importances: ')\n",
    "np.set_printoptions(precision=2) #use 2 digit (decimal)\n",
    "importances = clfXtrain.feature_importances_\n",
    "print(importances)\n",
    "\n",
    "feat_names = list(df.drop(columns=[regression_label]).columns.values) \n",
    "\n",
    "# Sort feature importances in descending order\n",
    "indices = np.argsort(importances)[::-1]\n",
    "# Rearrange feature names so they match the sorted feature importances\n",
    "names = [feat_names[i] for i in indices]\n",
    "# Create plot\n",
    "plt.figure()\n",
    "# Create plot title\n",
    "plt.title(\"Feature Importance\")\n",
    "# Add bars\n",
    "plt.bar(range(X.shape[1]), importances[indices])\n",
    "# Add feature names as x-axis labels\n",
    "plt.xticks(range(X.shape[1]), names, rotation=90)\n",
    "# Show plot\n",
    "plt.show()"
   ]
  },
  {
   "cell_type": "markdown",
   "metadata": {},
   "source": [
    "## Remove least important features\n",
    "\n",
    "After determining the importance of each feature through random forest, removing the least important ones improves the performace of a single regression tree"
   ]
  },
  {
   "cell_type": "code",
   "execution_count": 151,
   "metadata": {},
   "outputs": [
    {
     "data": {
      "text/plain": [
       "(1619, 30)"
      ]
     },
     "execution_count": 151,
     "metadata": {},
     "output_type": "execute_result"
    }
   ],
   "source": [
    "# Select only the 30 most important features\n",
    "num_feats = 30 # number of retained features\n",
    "remove_f = names[:num_feats]\n",
    "\n",
    "# Prepare the data\n",
    "y = df[regression_label].values\n",
    "# Select only the most important features in X\n",
    "X = df.drop(columns=[regression_label])[remove_f].values #returns a numpy array\n",
    "# Split\n",
    "X_train, X_test, y_train, y_test = train_test_split(X, y, test_size=0.2, random_state=0)\n",
    "# Normalize the data\n",
    "X_scaler = preprocessing.MinMaxScaler()\n",
    "y_scaler = preprocessing.MinMaxScaler()\n",
    "# Test values have to be normalized with the training mean and std\n",
    "y_scaler.fit(y_train.reshape(-1, 1))\n",
    "y_train = y_scaler.transform(y_train.reshape(-1, 1)).ravel()\n",
    "y_test = y_scaler.transform(y_test.reshape(-1, 1)).ravel()\n",
    "y = y_scaler.transform(y.reshape(-1, 1)).ravel()\n",
    "X_scaler.fit(X_train)\n",
    "X_train = X_scaler.transform(X_train)\n",
    "X_test = X_scaler.transform(X_test)\n",
    "X = X_scaler.transform(X)\n",
    "X_train.shape"
   ]
  },
  {
   "cell_type": "markdown",
   "metadata": {},
   "source": [
    "### Train a decision tree with the remaining features\n",
    "\n",
    "It is important to choose a good value for the max_depth of the tree, because trees too deep tend to overfit. So far the best result has been obtained with a max_depth of 7."
   ]
  },
  {
   "cell_type": "code",
   "execution_count": 152,
   "metadata": {},
   "outputs": [
    {
     "name": "stdout",
     "output_type": "stream",
     "text": [
      "Regression Tree model score:  0.6124272457392572\n"
     ]
    },
    {
     "data": {
      "image/png": "[encoded data removed]",
      "text/plain": [
       "<Figure size 432x288 with 1 Axes>"
      ]
     },
     "metadata": {
      "needs_background": "light"
     },
     "output_type": "display_data"
    }
   ],
   "source": [
    "decision_tree = tree.DecisionTreeRegressor(max_depth=7)\n",
    "decision_tree = decision_tree.fit(X_train,y_train)\n",
    "print(\"Regression Tree model score: \", decision_tree.score(X_test, y_test))\n",
    "\n",
    "plt.figure()\n",
    "tree.plot_tree(decision_tree)\n",
    "plt.show()"
   ]
  },
  {
   "cell_type": "markdown",
   "metadata": {},
   "source": [
    "## Tree visualization\n",
    "\n",
    "Once the graph has been exported to a .dot file, graphical renderings can be generated using, for example:\n",
    "```\n",
    "$ dot -Tpng tree.dot -o tree.png    (PNG format)\n",
    "```"
   ]
  },
  {
   "cell_type": "code",
   "execution_count": 153,
   "metadata": {},
   "outputs": [],
   "source": [
    "feat_names = list(df.drop(columns=[regression_label]).columns.values) \n",
    "dot_data = tree.export_graphviz(decision_tree,out_file='tree.dot',feature_names=remove_f, filled=True, rounded=True, special_characters=True)\n",
    "graph = graphviz.Source(dot_data)"
   ]
  },
  {
   "cell_type": "markdown",
   "metadata": {},
   "source": [
    "### Dtreeviz visualization\n",
    "\n",
    "Dtreeviz offers a great way to produce tree visualization with a lot of insight of how the mdoel takes decisions. "
   ]
  },
  {
   "cell_type": "code",
   "execution_count": 17,
   "metadata": {},
   "outputs": [
    {
     "ename": "ExecutableNotFound",
     "evalue": "failed to execute ['dot', '-Tsvg', '-o', '/var/folders/xc/s1z1nzbn1_5g833d6mlyh27c0000gn/T/DTreeViz_1546.svg', '/var/folders/xc/s1z1nzbn1_5g833d6mlyh27c0000gn/T/DTreeViz_1546'], make sure the Graphviz executables are on your systems' PATH",
     "output_type": "error",
     "traceback": [
      "\u001b[0;31m---------------------------------------------------------------------------\u001b[0m",
      "\u001b[0;31mFileNotFoundError\u001b[0m                         Traceback (most recent call last)",
      "\u001b[0;32m~/opt/anaconda3/envs/gdal_env/lib/python3.8/site-packages/graphviz/backend.py\u001b[0m in \u001b[0;36mrun\u001b[0;34m(cmd, input, capture_output, check, encoding, quiet, **kwargs)\u001b[0m\n\u001b[1;32m    163\u001b[0m     \u001b[0;32mtry\u001b[0m\u001b[0;34m:\u001b[0m\u001b[0;34m\u001b[0m\u001b[0;34m\u001b[0m\u001b[0m\n\u001b[0;32m--> 164\u001b[0;31m         \u001b[0mproc\u001b[0m \u001b[0;34m=\u001b[0m \u001b[0msubprocess\u001b[0m\u001b[0;34m.\u001b[0m\u001b[0mPopen\u001b[0m\u001b[0;34m(\u001b[0m\u001b[0mcmd\u001b[0m\u001b[0;34m,\u001b[0m \u001b[0mstartupinfo\u001b[0m\u001b[0;34m=\u001b[0m\u001b[0mget_startupinfo\u001b[0m\u001b[0;34m(\u001b[0m\u001b[0;34m)\u001b[0m\u001b[0;34m,\u001b[0m \u001b[0;34m**\u001b[0m\u001b[0mkwargs\u001b[0m\u001b[0;34m)\u001b[0m\u001b[0;34m\u001b[0m\u001b[0;34m\u001b[0m\u001b[0m\n\u001b[0m\u001b[1;32m    165\u001b[0m     \u001b[0;32mexcept\u001b[0m \u001b[0mOSError\u001b[0m \u001b[0;32mas\u001b[0m \u001b[0me\u001b[0m\u001b[0;34m:\u001b[0m\u001b[0;34m\u001b[0m\u001b[0;34m\u001b[0m\u001b[0m\n",
      "\u001b[0;32m~/opt/anaconda3/envs/gdal_env/lib/python3.8/subprocess.py\u001b[0m in \u001b[0;36m__init__\u001b[0;34m(self, args, bufsize, executable, stdin, stdout, stderr, preexec_fn, close_fds, shell, cwd, env, universal_newlines, startupinfo, creationflags, restore_signals, start_new_session, pass_fds, encoding, errors, text)\u001b[0m\n\u001b[1;32m    853\u001b[0m \u001b[0;34m\u001b[0m\u001b[0m\n\u001b[0;32m--> 854\u001b[0;31m             self._execute_child(args, executable, preexec_fn, close_fds,\n\u001b[0m\u001b[1;32m    855\u001b[0m                                 \u001b[0mpass_fds\u001b[0m\u001b[0;34m,\u001b[0m \u001b[0mcwd\u001b[0m\u001b[0;34m,\u001b[0m \u001b[0menv\u001b[0m\u001b[0;34m,\u001b[0m\u001b[0;34m\u001b[0m\u001b[0;34m\u001b[0m\u001b[0m\n",
      "\u001b[0;32m~/opt/anaconda3/envs/gdal_env/lib/python3.8/subprocess.py\u001b[0m in \u001b[0;36m_execute_child\u001b[0;34m(self, args, executable, preexec_fn, close_fds, pass_fds, cwd, env, startupinfo, creationflags, shell, p2cread, p2cwrite, c2pread, c2pwrite, errread, errwrite, restore_signals, start_new_session)\u001b[0m\n\u001b[1;32m   1701\u001b[0m                         \u001b[0merr_msg\u001b[0m \u001b[0;34m=\u001b[0m \u001b[0mos\u001b[0m\u001b[0;34m.\u001b[0m\u001b[0mstrerror\u001b[0m\u001b[0;34m(\u001b[0m\u001b[0merrno_num\u001b[0m\u001b[0;34m)\u001b[0m\u001b[0;34m\u001b[0m\u001b[0;34m\u001b[0m\u001b[0m\n\u001b[0;32m-> 1702\u001b[0;31m                     \u001b[0;32mraise\u001b[0m \u001b[0mchild_exception_type\u001b[0m\u001b[0;34m(\u001b[0m\u001b[0merrno_num\u001b[0m\u001b[0;34m,\u001b[0m \u001b[0merr_msg\u001b[0m\u001b[0;34m,\u001b[0m \u001b[0merr_filename\u001b[0m\u001b[0;34m)\u001b[0m\u001b[0;34m\u001b[0m\u001b[0;34m\u001b[0m\u001b[0m\n\u001b[0m\u001b[1;32m   1703\u001b[0m                 \u001b[0;32mraise\u001b[0m \u001b[0mchild_exception_type\u001b[0m\u001b[0;34m(\u001b[0m\u001b[0merr_msg\u001b[0m\u001b[0;34m)\u001b[0m\u001b[0;34m\u001b[0m\u001b[0;34m\u001b[0m\u001b[0m\n",
      "\u001b[0;31mFileNotFoundError\u001b[0m: [Errno 2] No such file or directory: 'dot'",
      "\nDuring handling of the above exception, another exception occurred:\n",
      "\u001b[0;31mExecutableNotFound\u001b[0m                        Traceback (most recent call last)",
      "\u001b[0;32m<ipython-input-17-83184359598f>\u001b[0m in \u001b[0;36m<module>\u001b[0;34m\u001b[0m\n\u001b[1;32m      6\u001b[0m                \u001b[0mtarget_name\u001b[0m\u001b[0;34m=\u001b[0m\u001b[0;34m'habitat_richness'\u001b[0m\u001b[0;34m,\u001b[0m\u001b[0;34m\u001b[0m\u001b[0;34m\u001b[0m\u001b[0m\n\u001b[1;32m      7\u001b[0m                feature_names=names)\n\u001b[0;32m----> 8\u001b[0;31m \u001b[0mviz\u001b[0m\u001b[0;34m.\u001b[0m\u001b[0mview\u001b[0m\u001b[0;34m(\u001b[0m\u001b[0;34m)\u001b[0m\u001b[0;34m\u001b[0m\u001b[0;34m\u001b[0m\u001b[0m\n\u001b[0m",
      "\u001b[0;32m~/opt/anaconda3/envs/gdal_env/lib/python3.8/site-packages/dtreeviz/trees.py\u001b[0m in \u001b[0;36mview\u001b[0;34m(self)\u001b[0m\n\u001b[1;32m     45\u001b[0m \u001b[0;34m\u001b[0m\u001b[0m\n\u001b[1;32m     46\u001b[0m     \u001b[0;32mdef\u001b[0m \u001b[0mview\u001b[0m\u001b[0;34m(\u001b[0m\u001b[0mself\u001b[0m\u001b[0;34m)\u001b[0m\u001b[0;34m:\u001b[0m\u001b[0;34m\u001b[0m\u001b[0;34m\u001b[0m\u001b[0m\n\u001b[0;32m---> 47\u001b[0;31m         \u001b[0msvgfilename\u001b[0m \u001b[0;34m=\u001b[0m \u001b[0mself\u001b[0m\u001b[0;34m.\u001b[0m\u001b[0msave_svg\u001b[0m\u001b[0;34m(\u001b[0m\u001b[0;34m)\u001b[0m\u001b[0;34m\u001b[0m\u001b[0;34m\u001b[0m\u001b[0m\n\u001b[0m\u001b[1;32m     48\u001b[0m         \u001b[0mview\u001b[0m\u001b[0;34m(\u001b[0m\u001b[0msvgfilename\u001b[0m\u001b[0;34m)\u001b[0m\u001b[0;34m\u001b[0m\u001b[0;34m\u001b[0m\u001b[0m\n\u001b[1;32m     49\u001b[0m \u001b[0;34m\u001b[0m\u001b[0m\n",
      "\u001b[0;32m~/opt/anaconda3/envs/gdal_env/lib/python3.8/site-packages/dtreeviz/trees.py\u001b[0m in \u001b[0;36msave_svg\u001b[0;34m(self)\u001b[0m\n\u001b[1;32m     52\u001b[0m         \u001b[0mtmp\u001b[0m \u001b[0;34m=\u001b[0m \u001b[0mtempfile\u001b[0m\u001b[0;34m.\u001b[0m\u001b[0mgettempdir\u001b[0m\u001b[0;34m(\u001b[0m\u001b[0;34m)\u001b[0m\u001b[0;34m\u001b[0m\u001b[0;34m\u001b[0m\u001b[0m\n\u001b[1;32m     53\u001b[0m         \u001b[0msvgfilename\u001b[0m \u001b[0;34m=\u001b[0m \u001b[0mos\u001b[0m\u001b[0;34m.\u001b[0m\u001b[0mpath\u001b[0m\u001b[0;34m.\u001b[0m\u001b[0mjoin\u001b[0m\u001b[0;34m(\u001b[0m\u001b[0mtmp\u001b[0m\u001b[0;34m,\u001b[0m \u001b[0;34mf\"DTreeViz_{os.getpid()}.svg\"\u001b[0m\u001b[0;34m)\u001b[0m\u001b[0;34m\u001b[0m\u001b[0;34m\u001b[0m\u001b[0m\n\u001b[0;32m---> 54\u001b[0;31m         \u001b[0mself\u001b[0m\u001b[0;34m.\u001b[0m\u001b[0msave\u001b[0m\u001b[0;34m(\u001b[0m\u001b[0msvgfilename\u001b[0m\u001b[0;34m)\u001b[0m\u001b[0;34m\u001b[0m\u001b[0;34m\u001b[0m\u001b[0m\n\u001b[0m\u001b[1;32m     55\u001b[0m         \u001b[0;32mreturn\u001b[0m \u001b[0msvgfilename\u001b[0m\u001b[0;34m\u001b[0m\u001b[0;34m\u001b[0m\u001b[0m\n\u001b[1;32m     56\u001b[0m \u001b[0;34m\u001b[0m\u001b[0m\n",
      "\u001b[0;32m~/opt/anaconda3/envs/gdal_env/lib/python3.8/site-packages/dtreeviz/trees.py\u001b[0m in \u001b[0;36msave\u001b[0;34m(self, filename)\u001b[0m\n\u001b[1;32m     77\u001b[0m         \u001b[0mcmd\u001b[0m \u001b[0;34m=\u001b[0m \u001b[0;34m[\u001b[0m\u001b[0;34m\"dot\"\u001b[0m\u001b[0;34m,\u001b[0m \u001b[0;34mf\"-T{format}\"\u001b[0m\u001b[0;34m,\u001b[0m \u001b[0;34m\"-o\"\u001b[0m\u001b[0;34m,\u001b[0m \u001b[0mfilename\u001b[0m\u001b[0;34m,\u001b[0m \u001b[0mdotfilename\u001b[0m\u001b[0;34m]\u001b[0m\u001b[0;34m\u001b[0m\u001b[0;34m\u001b[0m\u001b[0m\n\u001b[1;32m     78\u001b[0m         \u001b[0;31m# print(' '.join(cmd))\u001b[0m\u001b[0;34m\u001b[0m\u001b[0;34m\u001b[0m\u001b[0;34m\u001b[0m\u001b[0m\n\u001b[0;32m---> 79\u001b[0;31m         \u001b[0mrun\u001b[0m\u001b[0;34m(\u001b[0m\u001b[0mcmd\u001b[0m\u001b[0;34m,\u001b[0m \u001b[0mcapture_output\u001b[0m\u001b[0;34m=\u001b[0m\u001b[0;32mTrue\u001b[0m\u001b[0;34m,\u001b[0m \u001b[0mcheck\u001b[0m\u001b[0;34m=\u001b[0m\u001b[0;32mTrue\u001b[0m\u001b[0;34m,\u001b[0m \u001b[0mquiet\u001b[0m\u001b[0;34m=\u001b[0m\u001b[0;32mFalse\u001b[0m\u001b[0;34m)\u001b[0m\u001b[0;34m\u001b[0m\u001b[0;34m\u001b[0m\u001b[0m\n\u001b[0m\u001b[1;32m     80\u001b[0m \u001b[0;34m\u001b[0m\u001b[0m\n\u001b[1;32m     81\u001b[0m         \u001b[0;32mif\u001b[0m \u001b[0mfilename\u001b[0m\u001b[0;34m.\u001b[0m\u001b[0mendswith\u001b[0m\u001b[0;34m(\u001b[0m\u001b[0;34m\".svg\"\u001b[0m\u001b[0;34m)\u001b[0m\u001b[0;34m:\u001b[0m\u001b[0;34m\u001b[0m\u001b[0;34m\u001b[0m\u001b[0m\n",
      "\u001b[0;32m~/opt/anaconda3/envs/gdal_env/lib/python3.8/site-packages/graphviz/backend.py\u001b[0m in \u001b[0;36mrun\u001b[0;34m(cmd, input, capture_output, check, encoding, quiet, **kwargs)\u001b[0m\n\u001b[1;32m    165\u001b[0m     \u001b[0;32mexcept\u001b[0m \u001b[0mOSError\u001b[0m \u001b[0;32mas\u001b[0m \u001b[0me\u001b[0m\u001b[0;34m:\u001b[0m\u001b[0;34m\u001b[0m\u001b[0;34m\u001b[0m\u001b[0m\n\u001b[1;32m    166\u001b[0m         \u001b[0;32mif\u001b[0m \u001b[0me\u001b[0m\u001b[0;34m.\u001b[0m\u001b[0merrno\u001b[0m \u001b[0;34m==\u001b[0m \u001b[0merrno\u001b[0m\u001b[0;34m.\u001b[0m\u001b[0mENOENT\u001b[0m\u001b[0;34m:\u001b[0m\u001b[0;34m\u001b[0m\u001b[0;34m\u001b[0m\u001b[0m\n\u001b[0;32m--> 167\u001b[0;31m             \u001b[0;32mraise\u001b[0m \u001b[0mExecutableNotFound\u001b[0m\u001b[0;34m(\u001b[0m\u001b[0mcmd\u001b[0m\u001b[0;34m)\u001b[0m\u001b[0;34m\u001b[0m\u001b[0;34m\u001b[0m\u001b[0m\n\u001b[0m\u001b[1;32m    168\u001b[0m         \u001b[0;32melse\u001b[0m\u001b[0;34m:\u001b[0m\u001b[0;34m\u001b[0m\u001b[0;34m\u001b[0m\u001b[0m\n\u001b[1;32m    169\u001b[0m             \u001b[0;32mraise\u001b[0m\u001b[0;34m\u001b[0m\u001b[0;34m\u001b[0m\u001b[0m\n",
      "\u001b[0;31mExecutableNotFound\u001b[0m: failed to execute ['dot', '-Tsvg', '-o', '/var/folders/xc/s1z1nzbn1_5g833d6mlyh27c0000gn/T/DTreeViz_1546.svg', '/var/folders/xc/s1z1nzbn1_5g833d6mlyh27c0000gn/T/DTreeViz_1546'], make sure the Graphviz executables are on your systems' PATH"
     ]
    }
   ],
   "source": [
    "import dtreeviz.trees import *\n",
    "\n",
    "viz = dtreeviz(decision_tree,\n",
    "               X_train,\n",
    "               y_train,\n",
    "               target_name='habitat_richness',\n",
    "               feature_names=names)\n",
    "viz.view()"
   ]
  },
  {
   "cell_type": "markdown",
   "metadata": {},
   "source": [
    "## Prediction Path\n",
    "\n",
    "The following visualization shows how the tree chooses a path when obtaining the regression. This kind of plot could be useful in a real-case scenario, because if the model makes a warning prediction it would be useful to understand the features it considered."
   ]
  },
  {
   "cell_type": "code",
   "execution_count": null,
   "metadata": {},
   "outputs": [],
   "source": [
    "X = X_train[np.random.randint(0, len(X_train)),:]  # random sample from training\n",
    "\n",
    "viz = dtreeviz(decision_tree,\n",
    "               X_train,\n",
    "               y_train,\n",
    "               target_name='habitat_richness',\n",
    "               orientation ='LR',  # left-right orientation\n",
    "               feature_names=names,\n",
    "               X=X)  # need to give single observation for prediction\n",
    "\n",
    "viz.view()"
   ]
  }
 ],
 "metadata": {
  "kernelspec": {
   "display_name": "Python 3",
   "language": "python",
   "name": "python3"
  },
  "language_info": {
   "codemirror_mode": {
    "name": "ipython",
    "version": 3
   },
   "file_extension": ".py",
   "mimetype": "text/x-python",
   "name": "python",
   "nbconvert_exporter": "python",
   "pygments_lexer": "ipython3",
   "version": "3.8.5"
  }
 },
 "nbformat": 4,
 "nbformat_minor": 4
}
