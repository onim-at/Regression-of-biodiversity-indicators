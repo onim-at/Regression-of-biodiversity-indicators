{
 "cells": [
  {
   "cell_type": "markdown",
   "metadata": {},
   "source": [
    "# Regression Tree"
   ]
  },
  {
   "cell_type": "code",
   "execution_count": 130,
   "metadata": {},
   "outputs": [],
   "source": [
    "import pandas as pd\n",
    "import numpy as np\n",
    "\n",
    "from sklearn import tree\n",
    "from sklearn.tree import DecisionTreeRegressor\n",
    "from sklearn.ensemble import RandomForestRegressor \n",
    "from sklearn import preprocessing\n",
    "from sklearn.model_selection import train_test_split\n",
    "\n",
    "import graphviz\n",
    "import matplotlib.pyplot as plt"
   ]
  },
  {
   "cell_type": "markdown",
   "metadata": {},
   "source": [
    "## Load the data"
   ]
  },
  {
   "cell_type": "code",
   "execution_count": 234,
   "metadata": {},
   "outputs": [
    {
     "data": {
      "text/html": [
       "<div>\n",
       "<style scoped>\n",
       "    .dataframe tbody tr th:only-of-type {\n",
       "        vertical-align: middle;\n",
       "    }\n",
       "\n",
       "    .dataframe tbody tr th {\n",
       "        vertical-align: top;\n",
       "    }\n",
       "\n",
       "    .dataframe thead th {\n",
       "        text-align: right;\n",
       "    }\n",
       "</style>\n",
       "<table border=\"1\" class=\"dataframe\">\n",
       "  <thead>\n",
       "    <tr style=\"text-align: right;\">\n",
       "      <th></th>\n",
       "      <th></th>\n",
       "      <th>habitat_richness</th>\n",
       "      <th>NDVI</th>\n",
       "      <th>ALBH-AL-BH-VI</th>\n",
       "      <th>ALBH-AL-BH-BB</th>\n",
       "      <th>ALBH-AL-BH-NI</th>\n",
       "      <th>ALDH-AL-DH-NI</th>\n",
       "      <th>ALDH-AL-DH-VI</th>\n",
       "      <th>ALDH-AL-DH-BB</th>\n",
       "      <th>DMP300-RT5-DMP</th>\n",
       "      <th>FAPAR300-FAPAR</th>\n",
       "      <th>...</th>\n",
       "      <th>ssr</th>\n",
       "      <th>str</th>\n",
       "      <th>sp</th>\n",
       "      <th>ssrd</th>\n",
       "      <th>strd</th>\n",
       "      <th>tp</th>\n",
       "      <th>swvl1</th>\n",
       "      <th>swvl2</th>\n",
       "      <th>swvl3</th>\n",
       "      <th>swvl4</th>\n",
       "    </tr>\n",
       "    <tr>\n",
       "      <th>longitude</th>\n",
       "      <th>latitude</th>\n",
       "      <th></th>\n",
       "      <th></th>\n",
       "      <th></th>\n",
       "      <th></th>\n",
       "      <th></th>\n",
       "      <th></th>\n",
       "      <th></th>\n",
       "      <th></th>\n",
       "      <th></th>\n",
       "      <th></th>\n",
       "      <th></th>\n",
       "      <th></th>\n",
       "      <th></th>\n",
       "      <th></th>\n",
       "      <th></th>\n",
       "      <th></th>\n",
       "      <th></th>\n",
       "      <th></th>\n",
       "      <th></th>\n",
       "      <th></th>\n",
       "      <th></th>\n",
       "    </tr>\n",
       "  </thead>\n",
       "  <tbody>\n",
       "    <tr>\n",
       "      <th>12.55</th>\n",
       "      <th>41.57</th>\n",
       "      <td>0.279175</td>\n",
       "      <td>206.583333</td>\n",
       "      <td>659.00</td>\n",
       "      <td>2013.0</td>\n",
       "      <td>2980.00</td>\n",
       "      <td>2471.00</td>\n",
       "      <td>550.00</td>\n",
       "      <td>1675.0</td>\n",
       "      <td>6249.750000</td>\n",
       "      <td>163.333333</td>\n",
       "      <td>...</td>\n",
       "      <td>13226187.0</td>\n",
       "      <td>-5952774.0</td>\n",
       "      <td>100858.87</td>\n",
       "      <td>15728042.0</td>\n",
       "      <td>28770024.0</td>\n",
       "      <td>0.003061</td>\n",
       "      <td>0.285752</td>\n",
       "      <td>0.314439</td>\n",
       "      <td>0.335191</td>\n",
       "      <td>0.371394</td>\n",
       "    </tr>\n",
       "    <tr>\n",
       "      <th rowspan=\"2\" valign=\"top\">12.56</th>\n",
       "      <th>41.59</th>\n",
       "      <td>0.279175</td>\n",
       "      <td>203.222222</td>\n",
       "      <td>572.00</td>\n",
       "      <td>1932.0</td>\n",
       "      <td>2893.00</td>\n",
       "      <td>2525.00</td>\n",
       "      <td>445.00</td>\n",
       "      <td>1667.0</td>\n",
       "      <td>10105.666667</td>\n",
       "      <td>168.444444</td>\n",
       "      <td>...</td>\n",
       "      <td>13226187.0</td>\n",
       "      <td>-5952774.0</td>\n",
       "      <td>100858.87</td>\n",
       "      <td>15728042.0</td>\n",
       "      <td>28770024.0</td>\n",
       "      <td>0.003061</td>\n",
       "      <td>0.285752</td>\n",
       "      <td>0.314439</td>\n",
       "      <td>0.335191</td>\n",
       "      <td>0.371394</td>\n",
       "    </tr>\n",
       "    <tr>\n",
       "      <th>41.62</th>\n",
       "      <td>0.281760</td>\n",
       "      <td>185.111111</td>\n",
       "      <td>569.00</td>\n",
       "      <td>1947.0</td>\n",
       "      <td>2915.00</td>\n",
       "      <td>2608.00</td>\n",
       "      <td>457.00</td>\n",
       "      <td>1722.0</td>\n",
       "      <td>9244.555556</td>\n",
       "      <td>177.555556</td>\n",
       "      <td>...</td>\n",
       "      <td>13226187.0</td>\n",
       "      <td>-5952774.0</td>\n",
       "      <td>100858.87</td>\n",
       "      <td>15728042.0</td>\n",
       "      <td>28770024.0</td>\n",
       "      <td>0.003061</td>\n",
       "      <td>0.285752</td>\n",
       "      <td>0.314439</td>\n",
       "      <td>0.335191</td>\n",
       "      <td>0.371394</td>\n",
       "    </tr>\n",
       "    <tr>\n",
       "      <th>12.57</th>\n",
       "      <th>41.57</th>\n",
       "      <td>0.279175</td>\n",
       "      <td>204.333333</td>\n",
       "      <td>579.00</td>\n",
       "      <td>1876.0</td>\n",
       "      <td>2791.00</td>\n",
       "      <td>2436.00</td>\n",
       "      <td>484.00</td>\n",
       "      <td>1629.0</td>\n",
       "      <td>8882.333333</td>\n",
       "      <td>172.444444</td>\n",
       "      <td>...</td>\n",
       "      <td>13226187.0</td>\n",
       "      <td>-5952774.0</td>\n",
       "      <td>100858.87</td>\n",
       "      <td>15728042.0</td>\n",
       "      <td>28770024.0</td>\n",
       "      <td>0.003061</td>\n",
       "      <td>0.285752</td>\n",
       "      <td>0.314439</td>\n",
       "      <td>0.335191</td>\n",
       "      <td>0.371394</td>\n",
       "    </tr>\n",
       "    <tr>\n",
       "      <th>12.58</th>\n",
       "      <th>41.58</th>\n",
       "      <td>0.279175</td>\n",
       "      <td>179.625000</td>\n",
       "      <td>556.25</td>\n",
       "      <td>1942.5</td>\n",
       "      <td>2916.25</td>\n",
       "      <td>2518.25</td>\n",
       "      <td>462.75</td>\n",
       "      <td>1669.5</td>\n",
       "      <td>9034.062500</td>\n",
       "      <td>150.875000</td>\n",
       "      <td>...</td>\n",
       "      <td>13226187.0</td>\n",
       "      <td>-5952774.0</td>\n",
       "      <td>100858.87</td>\n",
       "      <td>15728042.0</td>\n",
       "      <td>28770024.0</td>\n",
       "      <td>0.003061</td>\n",
       "      <td>0.285752</td>\n",
       "      <td>0.314439</td>\n",
       "      <td>0.335191</td>\n",
       "      <td>0.371394</td>\n",
       "    </tr>\n",
       "  </tbody>\n",
       "</table>\n",
       "<p>5 rows × 47 columns</p>\n",
       "</div>"
      ],
      "text/plain": [
       "                    habitat_richness        NDVI  ALBH-AL-BH-VI  \\\n",
       "longitude latitude                                                \n",
       "12.55     41.57             0.279175  206.583333         659.00   \n",
       "12.56     41.59             0.279175  203.222222         572.00   \n",
       "          41.62             0.281760  185.111111         569.00   \n",
       "12.57     41.57             0.279175  204.333333         579.00   \n",
       "12.58     41.58             0.279175  179.625000         556.25   \n",
       "\n",
       "                    ALBH-AL-BH-BB  ALBH-AL-BH-NI  ALDH-AL-DH-NI  \\\n",
       "longitude latitude                                                \n",
       "12.55     41.57            2013.0        2980.00        2471.00   \n",
       "12.56     41.59            1932.0        2893.00        2525.00   \n",
       "          41.62            1947.0        2915.00        2608.00   \n",
       "12.57     41.57            1876.0        2791.00        2436.00   \n",
       "12.58     41.58            1942.5        2916.25        2518.25   \n",
       "\n",
       "                    ALDH-AL-DH-VI  ALDH-AL-DH-BB  DMP300-RT5-DMP  \\\n",
       "longitude latitude                                                 \n",
       "12.55     41.57            550.00         1675.0     6249.750000   \n",
       "12.56     41.59            445.00         1667.0    10105.666667   \n",
       "          41.62            457.00         1722.0     9244.555556   \n",
       "12.57     41.57            484.00         1629.0     8882.333333   \n",
       "12.58     41.58            462.75         1669.5     9034.062500   \n",
       "\n",
       "                    FAPAR300-FAPAR  ...         ssr        str         sp  \\\n",
       "longitude latitude                  ...                                     \n",
       "12.55     41.57         163.333333  ...  13226187.0 -5952774.0  100858.87   \n",
       "12.56     41.59         168.444444  ...  13226187.0 -5952774.0  100858.87   \n",
       "          41.62         177.555556  ...  13226187.0 -5952774.0  100858.87   \n",
       "12.57     41.57         172.444444  ...  13226187.0 -5952774.0  100858.87   \n",
       "12.58     41.58         150.875000  ...  13226187.0 -5952774.0  100858.87   \n",
       "\n",
       "                          ssrd        strd        tp     swvl1     swvl2  \\\n",
       "longitude latitude                                                         \n",
       "12.55     41.57     15728042.0  28770024.0  0.003061  0.285752  0.314439   \n",
       "12.56     41.59     15728042.0  28770024.0  0.003061  0.285752  0.314439   \n",
       "          41.62     15728042.0  28770024.0  0.003061  0.285752  0.314439   \n",
       "12.57     41.57     15728042.0  28770024.0  0.003061  0.285752  0.314439   \n",
       "12.58     41.58     15728042.0  28770024.0  0.003061  0.285752  0.314439   \n",
       "\n",
       "                       swvl3     swvl4  \n",
       "longitude latitude                      \n",
       "12.55     41.57     0.335191  0.371394  \n",
       "12.56     41.59     0.335191  0.371394  \n",
       "          41.62     0.335191  0.371394  \n",
       "12.57     41.57     0.335191  0.371394  \n",
       "12.58     41.58     0.335191  0.371394  \n",
       "\n",
       "[5 rows x 47 columns]"
      ]
     },
     "execution_count": 234,
     "metadata": {},
     "output_type": "execute_result"
    }
   ],
   "source": [
    "regression_label = 'habitat_richness'\n",
    "folder = \"../Dataset\"\n",
    "file = \"/italy_out_remove_handle_set_null.csv\"\n",
    "\n",
    "df = pd.read_csv(folder + file, index_col=['longitude', 'latitude'])\n",
    "#df = df[df[regression_label] > 0]\n",
    "y = df[regression_label].values\n",
    "X = df.drop(columns=[regression_label]).values #returns a numpy array\n",
    "\n",
    "df.head()"
   ]
  },
  {
   "cell_type": "markdown",
   "metadata": {},
   "source": [
    "The covariance matrix provides information about the correlation of the features"
   ]
  },
  {
   "cell_type": "code",
   "execution_count": 235,
   "metadata": {},
   "outputs": [
    {
     "data": {
      "image/png": "[encoded data removed]",
      "text/plain": [
       "<Figure size 288x288 with 2 Axes>"
      ]
     },
     "metadata": {
      "needs_background": "light"
     },
     "output_type": "display_data"
    }
   ],
   "source": [
    "norm=(df-df.mean())/df.std()\n",
    "covariance = norm.cov()\n",
    "plt.matshow(np.abs(covariance))\n",
    "plt.colorbar()\n",
    "plt.title('Covariance matrix of the features')\n",
    "plt.margins(0.05,0.5)"
   ]
  },
  {
   "cell_type": "markdown",
   "metadata": {},
   "source": [
    "## Data preparation"
   ]
  },
  {
   "cell_type": "code",
   "execution_count": 236,
   "metadata": {},
   "outputs": [],
   "source": [
    "X_train, X_test, y_train, y_test = train_test_split(X, y, test_size=0.2, random_state=0)\n",
    "\n",
    "# Normalize the data\n",
    "X_scaler = preprocessing.MinMaxScaler()\n",
    "y_scaler = preprocessing.MinMaxScaler()\n",
    "\n",
    "\n",
    "# Test values have to be normalized with the training mean and std\n",
    "y_scaler.fit(y_train.reshape(-1, 1))\n",
    "y_train = y_scaler.transform(y_train.reshape(-1, 1)).ravel()\n",
    "y_test = y_scaler.transform(y_test.reshape(-1, 1)).ravel()\n",
    "y = y_scaler.transform(y.reshape(-1, 1)).ravel()\n",
    "X_scaler.fit(X_train)\n",
    "X_train = X_scaler.transform(X_train)\n",
    "X_test = X_scaler.transform(X_test)\n",
    "X = X_scaler.transform(X)"
   ]
  },
  {
   "cell_type": "code",
   "execution_count": 237,
   "metadata": {},
   "outputs": [
    {
     "name": "stdout",
     "output_type": "stream",
     "text": [
      "Random Forest validation score:  0.8122520745047406\n"
     ]
    }
   ],
   "source": [
    "clfXtrain = RandomForestRegressor(n_estimators=100, max_depth=None)\n",
    "clfXtrain = clfXtrain.fit(X_train,y_train)\n",
    "print(\"Random Forest validation score: \", clfXtrain.score(X_test, y_test))"
   ]
  },
  {
   "cell_type": "markdown",
   "metadata": {},
   "source": [
    "## Feature importances\n",
    "\n",
    "The random forest model will identify the features which have been most useful to the prediction. Visualizing these features will help to understand which are the factors that mostly influence the biodiversity of the considered habitat"
   ]
  },
  {
   "cell_type": "code",
   "execution_count": 238,
   "metadata": {},
   "outputs": [
    {
     "name": "stdout",
     "output_type": "stream",
     "text": [
      "Feature ranking:\n",
      "1. feature stl3 (0.183298)\n",
      "2. feature stl4 (0.080126)\n",
      "3. feature slhf (0.071985)\n",
      "4. feature ssr (0.059955)\n",
      "5. feature sp (0.052461)\n",
      "6. feature tp (0.040574)\n",
      "7. feature lai_lv (0.036674)\n",
      "8. feature str (0.036507)\n",
      "9. feature src (0.029294)\n",
      "10. feature SWI1km-SWI-005 (0.028532)\n",
      "11. feature ssrd (0.022190)\n",
      "12. feature TOCR-REF-NOR-NIR (0.019919)\n",
      "13. feature lai_hv (0.018670)\n",
      "14. feature ALBH-AL-BH-VI (0.018175)\n",
      "15. feature ALDH-AL-DH-VI (0.017402)\n",
      "16. feature fal (0.014146)\n",
      "17. feature TOCR-REF-NOR-SWIR (0.013617)\n",
      "18. feature t2m (0.012859)\n",
      "19. feature ALBH-AL-BH-BB (0.012047)\n",
      "20. feature SWI1km-SWI-002 (0.011458)\n",
      "21. feature ALDH-AL-DH-BB (0.011437)\n",
      "22. feature FCOVER300-FCOVER (0.011436)\n",
      "23. feature NDVI (0.011420)\n",
      "24. feature strd (0.011312)\n",
      "25. feature swvl1 (0.011118)\n",
      "26. feature ALBH-AL-BH-NI (0.010754)\n",
      "27. feature ALDH-AL-DH-NI (0.010680)\n",
      "28. feature FAPAR300-FAPAR (0.010664)\n",
      "29. feature swvl4 (0.010411)\n",
      "30. feature LAI300-LAI (0.009250)\n",
      "31. feature swvl3 (0.008322)\n",
      "32. feature SWI1km-SWI-040 (0.008174)\n",
      "33. feature TOCR-REF-NOR-BLUE (0.007877)\n",
      "34. feature TOCR-REF-NOR-RED (0.007642)\n",
      "35. feature d2m (0.007586)\n",
      "36. feature DMP300-RT5-DMP (0.007584)\n",
      "37. feature GDMP300-RT5-GDMP (0.007461)\n",
      "38. feature skt (0.007434)\n",
      "39. feature SWI1km-SWI-100 (0.007375)\n",
      "40. feature swvl2 (0.007161)\n",
      "41. feature SWI1km-SWI-060 (0.007127)\n",
      "42. feature SWI1km-SWI-020 (0.006719)\n",
      "43. feature stl2 (0.005442)\n",
      "44. feature SWI1km-SWI-015 (0.005358)\n",
      "45. feature stl1 (0.005274)\n",
      "46. feature SWI1km-SWI-010 (0.005095)\n"
     ]
    },
    {
     "data": {
      "image/png": "[encoded data removed]",
      "text/plain": [
       "<Figure size 2160x720 with 1 Axes>"
      ]
     },
     "metadata": {
      "needs_background": "light"
     },
     "output_type": "display_data"
    }
   ],
   "source": [
    "importances = clfXtrain.feature_importances_\n",
    "std = np.std([tree.feature_importances_ for tree in clfXtrain.estimators_],axis=0)\n",
    "indices = np.argsort(importances)[::-1]\n",
    "\n",
    "feat_names = list(df.drop(columns=[regression_label]).columns.values) \n",
    "\n",
    "# Print the feature ranking\n",
    "print(\"Feature ranking:\")\n",
    "\n",
    "for f in range(X.shape[1]):\n",
    "    print(\"%d. feature %s (%f)\" % (f + 1, feat_names[indices[f]], importances[indices[f]]))\n",
    "\n",
    "names = [feat_names[i] for i in indices]\n",
    "# Plot the impurity-based feature importances of the forest\n",
    "plt.figure(figsize=(30, 10))\n",
    "plt.title(\"Feature importances\")\n",
    "plt.bar(range(X.shape[1]), importances[indices],\n",
    "        color=\"r\", yerr=std[indices], align=\"center\")\n",
    "plt.xticks(range(X.shape[1]), names, rotation=90)\n",
    "plt.xlim([-1, X.shape[1]])\n",
    "plt.show()"
   ]
  },
  {
   "cell_type": "code",
   "execution_count": 239,
   "metadata": {},
   "outputs": [
    {
     "name": "stdout",
     "output_type": "stream",
     "text": [
      "The first 10 features contribute to the 0.6415965524476542 of the result\n",
      "These features are:\n"
     ]
    },
    {
     "data": {
      "text/plain": [
       "['stl3',\n",
       " 'stl4',\n",
       " 'slhf',\n",
       " 'ssr',\n",
       " 'sp',\n",
       " 'tp',\n",
       " 'lai_lv',\n",
       " 'str',\n",
       " 'src',\n",
       " 'SWI1km-SWI-005']"
      ]
     },
     "execution_count": 239,
     "metadata": {},
     "output_type": "execute_result"
    }
   ],
   "source": [
    "imp_index = np.argsort(importances)[::-1]\n",
    "imp = np.sort(importances)[::-1]\n",
    "\n",
    "num_feats = 10\n",
    "print(\"The first\", num_feats, \"features contribute to the\",  np.cumsum(imp)[num_feats], \"of the result\")\n",
    "print(\"These features are:\")\n",
    "names[:num_feats]"
   ]
  },
  {
   "cell_type": "markdown",
   "metadata": {},
   "source": [
    "## Remove least important features\n",
    "\n",
    "After determining the importance of each feature through random forest, removing the least important ones improves the performace of a single regression tree"
   ]
  },
  {
   "cell_type": "code",
   "execution_count": 240,
   "metadata": {},
   "outputs": [
    {
     "data": {
      "text/plain": [
       "(6618, 10)"
      ]
     },
     "execution_count": 240,
     "metadata": {},
     "output_type": "execute_result"
    }
   ],
   "source": [
    "# Select only the 30 most important features\n",
    "num_feats = 10 # number of retained features\n",
    "remove_f = names[:num_feats]\n",
    "\n",
    "# Prepare the data\n",
    "y = df[regression_label].values\n",
    "# Select only the most important features in X\n",
    "X = df.drop(columns=[regression_label])[remove_f].values #returns a numpy array\n",
    "# Split\n",
    "X_train, X_test, y_train, y_test = train_test_split(X, y, test_size=0.2, random_state=0)\n",
    "# Normalize the data\n",
    "X_scaler = preprocessing.MinMaxScaler()\n",
    "y_scaler = preprocessing.MinMaxScaler()\n",
    "# Test values have to be normalized with the training mean and std\n",
    "y_scaler.fit(y_train.reshape(-1, 1))\n",
    "y_train = y_scaler.transform(y_train.reshape(-1, 1)).ravel()\n",
    "y_test = y_scaler.transform(y_test.reshape(-1, 1)).ravel()\n",
    "y = y_scaler.transform(y.reshape(-1, 1)).ravel()\n",
    "X_scaler.fit(X_train)\n",
    "X_train = X_scaler.transform(X_train)\n",
    "X_test = X_scaler.transform(X_test)\n",
    "X = X_scaler.transform(X)\n",
    "X_train.shape"
   ]
  },
  {
   "cell_type": "markdown",
   "metadata": {},
   "source": [
    "### Train a decision tree with the remaining features\n",
    "\n",
    "It is important to choose a good value for the max_depth of the tree, because trees too deep tend to overfit. So far the best result has been obtained with a max_depth of 7."
   ]
  },
  {
   "cell_type": "code",
   "execution_count": 241,
   "metadata": {},
   "outputs": [
    {
     "name": "stdout",
     "output_type": "stream",
     "text": [
      "Regression Tree model score:  0.5716545301505411\n"
     ]
    },
    {
     "data": {
      "image/png": "[encoded data removed]",
      "text/plain": [
       "<Figure size 432x288 with 1 Axes>"
      ]
     },
     "metadata": {
      "needs_background": "light"
     },
     "output_type": "display_data"
    }
   ],
   "source": [
    "decision_tree = tree.DecisionTreeRegressor(max_depth=5)\n",
    "decision_tree = decision_tree.fit(X_train,y_train)\n",
    "print(\"Regression Tree model score: \", decision_tree.score(X_test, y_test))\n",
    "\n",
    "plt.figure()\n",
    "tree.plot_tree(decision_tree)\n",
    "plt.show()"
   ]
  },
  {
   "cell_type": "markdown",
   "metadata": {},
   "source": [
    "## Tree visualization\n",
    "\n",
    "Once the graph has been exported to a .dot file, graphical renderings can be generated using, for example:\n",
    "```\n",
    "$ dot -Tpng tree.dot -o tree.png    (PNG format)\n",
    "```"
   ]
  },
  {
   "cell_type": "code",
   "execution_count": 139,
   "metadata": {},
   "outputs": [],
   "source": [
    "feat_names = list(df.drop(columns=[regression_label]).columns.values) \n",
    "dot_data = tree.export_graphviz(decision_tree,out_file='tree.dot',feature_names=remove_f, filled=True, rounded=True, special_characters=True)\n",
    "graph = graphviz.Source(dot_data)"
   ]
  },
  {
   "cell_type": "markdown",
   "metadata": {},
   "source": [
    "### Dtreeviz visualization\n",
    "\n",
    "Dtreeviz offers a great way to produce tree visualization with a lot of insight of how the mdoel takes decisions. "
   ]
  },
  {
   "cell_type": "code",
   "execution_count": 9,
   "metadata": {},
   "outputs": [],
   "source": [
    "from dtreeviz.trees import *\n",
    "viz = dtreeviz(decision_tree,\n",
    "               X_train,\n",
    "               y_train,\n",
    "               target_name='habitat_richness',\n",
    "               feature_names=names)\n",
    "viz.view()"
   ]
  },
  {
   "cell_type": "markdown",
   "metadata": {},
   "source": [
    "## Prediction Path\n",
    "\n",
    "The following visualization shows how the tree chooses a path when obtaining the regression. This kind of plot could be useful in a real-case scenario, because if the model makes a warning prediction it would be useful to understand the features it considered."
   ]
  },
  {
   "cell_type": "code",
   "execution_count": 10,
   "metadata": {},
   "outputs": [],
   "source": [
    "X = X_train[np.random.randint(0, len(X_train)),:]  # random sample from training\n",
    "\n",
    "viz = dtreeviz(decision_tree,\n",
    "               X_train,\n",
    "               y_train,\n",
    "               target_name='habitat_richness',\n",
    "               orientation ='LR',  # left-right orientation\n",
    "               feature_names=names,\n",
    "               X=X)  # need to give single observation for prediction\n",
    "\n",
    "viz.view()"
   ]
  },
  {
   "cell_type": "markdown",
   "metadata": {},
   "source": [
    "## Testing Random Forest with less features"
   ]
  },
  {
   "cell_type": "code",
   "execution_count": 197,
   "metadata": {},
   "outputs": [
    {
     "name": "stdout",
     "output_type": "stream",
     "text": [
      "Random Forest validation score:  0.7526573971655095\n"
     ]
    }
   ],
   "source": [
    "clfXtrain = RandomForestRegressor(n_estimators=100, max_depth=None)\n",
    "clfXtrain = clfXtrain.fit(X_train,y_train)\n",
    "print(\"Random Forest validation score: \", clfXtrain.score(X_test, y_test))"
   ]
  },
  {
   "cell_type": "markdown",
   "metadata": {},
   "source": [
    "## Working with all the data"
   ]
  },
  {
   "cell_type": "code",
   "execution_count": 225,
   "metadata": {},
   "outputs": [
    {
     "name": "stdout",
     "output_type": "stream",
     "text": [
      "Index(['habitat_richness', 'NDVI', 'ALBH-AL-BH-NI', 'ALBH-AL-BH-VI',\n",
      "       'ALBH-AL-BH-BB', 'ALDH-AL-DH-BB', 'ALDH-AL-DH-NI', 'FAPAR300-RT0-FAPAR',\n",
      "       'GDMP300-RT0-GDMP', 'LAI300-RT0-LAI', 'SWI1km-SWI-002',\n",
      "       'SWI1km-SWI-100', 'SWI1km-SWI-040', 'SWI1km-SWI-005', 'SWI1km-SWI-010',\n",
      "       'SWI1km-SWI-060', 'SWI1km-SWI-015', 'SWI1km-SWI-020',\n",
      "       'TOCR-REF-NOR-BLUE', 'TOCR-REF-NOR-NIR', 'TOCR-REF-NOR-SWIR',\n",
      "       'TOCR-REF-NOR-RED', 'FCOVER300-RT0-FCOVER', 'ALDH-AL-DH-VI',\n",
      "       'DMP300-RT0-DMP', 'd2m', 't2m', 'fal', 'lai_hv', 'lai_lv', 'src', 'skt',\n",
      "       'stl1', 'stl2', 'stl3', 'stl4', 'slhf', 'ssr', 'str', 'sp', 'ssrd',\n",
      "       'strd', 'tp', 'swvl1', 'swvl2', 'swvl3', 'swvl4'],\n",
      "      dtype='object')\n",
      "Index(['habitat_richness', 'NDVI', 'ALBH-AL-BH-VI', 'ALBH-AL-BH-BB',\n",
      "       'ALBH-AL-BH-NI', 'ALDH-AL-DH-VI', 'ALDH-AL-DH-BB', 'ALDH-AL-DH-NI',\n",
      "       'DMP300-RT5-DMP', 'FAPAR300-FAPAR', 'FCOVER300-FCOVER',\n",
      "       'GDMP300-RT5-GDMP', 'LAI300-LAI', 'SWI1km-SWI-020', 'SWI1km-SWI-040',\n",
      "       'SWI1km-SWI-060', 'SWI1km-SWI-100', 'SWI1km-SWI-002', 'SWI1km-SWI-005',\n",
      "       'SWI1km-SWI-010', 'SWI1km-SWI-015', 'TOCR-REF-NOR-BLUE',\n",
      "       'TOCR-REF-NOR-NIR', 'TOCR-REF-NOR-RED', 'TOCR-REF-NOR-SWIR', 'd2m',\n",
      "       't2m', 'fal', 'lai_hv', 'lai_lv', 'src', 'skt', 'stl1', 'stl2', 'stl3',\n",
      "       'stl4', 'slhf', 'ssr', 'str', 'sp', 'ssrd', 'strd', 'tp', 'swvl1',\n",
      "       'swvl2', 'swvl3', 'swvl4'],\n",
      "      dtype='object')\n",
      "Index(['habitat_richness', 'NDVI', 'ALBH-AL-BH-VI', 'ALBH-AL-BH-BB',\n",
      "       'ALBH-AL-BH-NI', 'ALDH-AL-DH-NI', 'ALDH-AL-DH-VI', 'ALDH-AL-DH-BB',\n",
      "       'DMP300-RT5-DMP', 'FAPAR300-FAPAR', 'FCOVER300-FCOVER',\n",
      "       'GDMP300-RT5-GDMP', 'LAI300-LAI', 'SWI1km-SWI-020', 'SWI1km-SWI-040',\n",
      "       'SWI1km-SWI-060', 'SWI1km-SWI-100', 'SWI1km-SWI-002', 'SWI1km-SWI-005',\n",
      "       'SWI1km-SWI-010', 'SWI1km-SWI-015', 'TOCR-REF-NOR-BLUE',\n",
      "       'TOCR-REF-NOR-NIR', 'TOCR-REF-NOR-RED', 'TOCR-REF-NOR-SWIR', 'd2m',\n",
      "       't2m', 'fal', 'lai_hv', 'lai_lv', 'src', 'skt', 'stl1', 'stl2', 'stl3',\n",
      "       'stl4', 'slhf', 'ssr', 'str', 'sp', 'ssrd', 'strd', 'tp', 'swvl1',\n",
      "       'swvl2', 'swvl3', 'swvl4'],\n",
      "      dtype='object')\n",
      "Index(['habitat_richness', 'NDVI', 'ALBH-AL-BH-BB', 'ALBH-AL-BH-NI',\n",
      "       'ALBH-AL-BH-VI', 'ALDH-AL-DH-BB', 'ALDH-AL-DH-NI', 'ALDH-AL-DH-VI',\n",
      "       'DMP-RT6-DMP', 'FAPAR300-FAPAR', 'FCOVER300-FCOVER', 'GDMP300-RT5-GDMP',\n",
      "       'LAI300-LAI', 'SWI1km-SWI-060', 'SWI1km-SWI-100', 'SWI1km-SWI-010',\n",
      "       'SWI1km-SWI-015', 'SWI1km-SWI-020', 'SWI1km-SWI-040', 'SWI1km-SWI-002',\n",
      "       'SWI1km-SWI-005', 'TOCR-REF-NOR-BLUE', 'TOCR-REF-NOR-NIR',\n",
      "       'TOCR-REF-NOR-RED', 'TOCR-REF-NOR-SWIR', 'd2m', 't2m', 'fal', 'lai_hv',\n",
      "       'lai_lv', 'src', 'skt', 'stl1', 'stl2', 'stl3', 'stl4', 'slhf', 'ssr',\n",
      "       'str', 'sp', 'ssrd', 'strd', 'tp', 'swvl1', 'swvl2', 'swvl3', 'swvl4'],\n",
      "      dtype='object')\n"
     ]
    }
   ],
   "source": [
    "import glob\n",
    "\n",
    "folder = \"../Dataset\"\n",
    "regression_label = 'habitat_richness'\n",
    "test_size = 0.2\n",
    "swi_labels = ['SWI1km-SWI-002', 'SWI1km-SWI-100', 'SWI1km-SWI-040', 'SWI1km-SWI-005', \n",
    "              'SWI1km-SWI-010', 'SWI1km-SWI-060', 'SWI1km-SWI-015', 'SWI1km-SWI-020']\n",
    "\n",
    "datas = []\n",
    "\n",
    "paths = [f for f in glob.glob(folder + \"/*.csv\") if 'closest_point_mean' in f and 'finland' not in f]\n",
    "paths += [f for f in glob.glob(folder + \"/*.csv\") if 'remove' in f and 'finland' in f]\n",
    "for path in paths:\n",
    "    df = pd.read_csv(path, index_col=['longitude', 'latitude'])\n",
    "\n",
    "    if(df.isna().any().any()):\n",
    "        print(path, '\\t has ', df.isna().any().sum(), ' row with null values')\n",
    "    \n",
    "    y = df[regression_label].values\n",
    "    X = df.drop(columns=[regression_label]).values\n",
    "    \n",
    "    X_train, X_test, y_train, y_test = train_test_split(X, y, test_size=test_size, random_state=42, shuffle=True)\n",
    "    datas.append({'name': path[11:-4], 'dataframe': df, 'y': y, 'X': X, \n",
    "                'X_train': X_train, 'X_test': X_test, \n",
    "            'y_train': y_train, 'y_test': y_test})"
   ]
  },
  {
   "cell_type": "code",
   "execution_count": 208,
   "metadata": {},
   "outputs": [
    {
     "name": "stdout",
     "output_type": "stream",
     "text": [
      "france_out_closest_point_mean_handle_custom_set \t--\t (1882, 47)\n",
      "bulgaria_out_closest_point_mean_handle_custom_set \t--\t (14458, 47)\n",
      "italy_out_closest_point_mean_handle_custom_set \t--\t (17387, 47)\n",
      "finland_out_remove_handle_set_null \t--\t (17654, 47)\n"
     ]
    },
    {
     "data": {
      "text/plain": [
       "[None, None, None, None]"
      ]
     },
     "execution_count": 208,
     "metadata": {},
     "output_type": "execute_result"
    }
   ],
   "source": [
    "[print(x['name'], \"\\t--\\t\",x['dataframe'].shape) for x in datas]"
   ]
  },
  {
   "cell_type": "code",
   "execution_count": 209,
   "metadata": {},
   "outputs": [
    {
     "name": "stderr",
     "output_type": "stream",
     "text": [
      "<ipython-input-209-4f83e4c59833>:4: VisibleDeprecationWarning: Creating an ndarray from ragged nested sequences (which is a list-or-tuple of lists-or-tuples-or ndarrays with different lengths or shapes) is deprecated. If you meant to do this, you must specify 'dtype=object' when creating the ndarray\n",
      "  region_id = np.hstack(np.array([[i] * d['X'].shape[0] for i, d in enumerate(datas)]))\n"
     ]
    }
   ],
   "source": [
    "X_all = np.vstack((datas[0]['X'], datas[1]['X'], datas[2]['X'], datas[3]['X']))\n",
    "y_all = np.concatenate((datas[0]['y'], datas[1]['y'], datas[2]['y'], datas[3]['y']))\n",
    "\n",
    "region_id = np.hstack(np.array([[i] * d['X'].shape[0] for i, d in enumerate(datas)]))\n",
    "\n",
    "X_train, X_test, y_train, y_test = train_test_split(X_all, y_all, test_size=0.2, stratify=region_id, random_state=42)\n"
   ]
  },
  {
   "cell_type": "code",
   "execution_count": 210,
   "metadata": {},
   "outputs": [],
   "source": [
    "# Normalize the data\n",
    "X_scaler = preprocessing.MinMaxScaler()\n",
    "y_scaler = preprocessing.MinMaxScaler()\n",
    "\n",
    "\n",
    "# Test values have to be normalized with the training mean and std\n",
    "y_scaler.fit(y_train.reshape(-1, 1))\n",
    "y_train = y_scaler.transform(y_train.reshape(-1, 1)).ravel()\n",
    "y_test = y_scaler.transform(y_test.reshape(-1, 1)).ravel()\n",
    "y = y_scaler.transform(y.reshape(-1, 1)).ravel()\n",
    "X_scaler.fit(X_train)\n",
    "X_train = X_scaler.transform(X_train)\n",
    "X_test = X_scaler.transform(X_test)\n",
    "X = X_scaler.transform(X)"
   ]
  },
  {
   "cell_type": "code",
   "execution_count": 211,
   "metadata": {},
   "outputs": [
    {
     "name": "stdout",
     "output_type": "stream",
     "text": [
      "Random Forest validation score:  0.9610424477206085\n"
     ]
    }
   ],
   "source": [
    "clfXtrain = RandomForestRegressor(n_estimators=100, max_depth=None)\n",
    "clfXtrain = clfXtrain.fit(X_train,y_train)\n",
    "print(\"Random Forest validation score: \", clfXtrain.score(X_test, y_test))"
   ]
  },
  {
   "cell_type": "markdown",
   "metadata": {},
   "source": [
    "### Feature importances"
   ]
  },
  {
   "cell_type": "code",
   "execution_count": 212,
   "metadata": {},
   "outputs": [
    {
     "name": "stdout",
     "output_type": "stream",
     "text": [
      "Feature ranking:\n",
      "1. feature ALDH-AL-DH-BB (0.536187)\n",
      "2. feature strd (0.152947)\n",
      "3. feature tp (0.109837)\n",
      "4. feature ssrd (0.045745)\n",
      "5. feature stl4 (0.015428)\n",
      "6. feature slhf (0.013637)\n",
      "7. feature lai_lv (0.011919)\n",
      "8. feature ssr (0.010335)\n",
      "9. feature str (0.008695)\n",
      "10. feature skt (0.005618)\n",
      "11. feature fal (0.005431)\n",
      "12. feature sp (0.005420)\n",
      "13. feature swvl4 (0.004933)\n",
      "14. feature lai_hv (0.004338)\n",
      "15. feature src (0.003379)\n",
      "16. feature swvl1 (0.003338)\n",
      "17. feature FCOVER300-FCOVER (0.003140)\n",
      "18. feature TOCR-REF-NOR-BLUE (0.003080)\n",
      "19. feature TOCR-REF-NOR-NIR (0.003060)\n",
      "20. feature TOCR-REF-NOR-SWIR (0.002978)\n",
      "21. feature NDVI (0.002795)\n",
      "22. feature d2m (0.002633)\n",
      "23. feature ALBH-AL-BH-BB (0.002519)\n",
      "24. feature swvl2 (0.002504)\n",
      "25. feature ALBH-AL-BH-VI (0.002345)\n",
      "26. feature DMP-RT6-DMP (0.002316)\n",
      "27. feature ALDH-AL-DH-VI (0.002233)\n",
      "28. feature LAI300-LAI (0.002199)\n",
      "29. feature ALDH-AL-DH-NI (0.002115)\n",
      "30. feature TOCR-REF-NOR-RED (0.002082)\n",
      "31. feature GDMP300-RT5-GDMP (0.002079)\n",
      "32. feature SWI1km-SWI-100 (0.002074)\n",
      "33. feature swvl3 (0.002061)\n",
      "34. feature SWI1km-SWI-015 (0.002051)\n",
      "35. feature FAPAR300-FAPAR (0.002010)\n",
      "36. feature t2m (0.001795)\n",
      "37. feature ALBH-AL-BH-NI (0.001680)\n",
      "38. feature stl2 (0.001678)\n",
      "39. feature SWI1km-SWI-040 (0.001553)\n",
      "40. feature stl3 (0.001515)\n",
      "41. feature SWI1km-SWI-002 (0.001510)\n",
      "42. feature SWI1km-SWI-020 (0.001488)\n",
      "43. feature stl1 (0.001408)\n",
      "44. feature SWI1km-SWI-005 (0.001341)\n",
      "45. feature SWI1km-SWI-010 (0.001287)\n",
      "46. feature SWI1km-SWI-060 (0.001284)\n"
     ]
    },
    {
     "data": {
      "image/png": "[encoded data removed]",
      "text/plain": [
       "<Figure size 2160x720 with 1 Axes>"
      ]
     },
     "metadata": {
      "needs_background": "light"
     },
     "output_type": "display_data"
    }
   ],
   "source": [
    "importances = clfXtrain.feature_importances_\n",
    "std = np.std([tree.feature_importances_ for tree in clfXtrain.estimators_],axis=0)\n",
    "indices = np.argsort(importances)[::-1]\n",
    "\n",
    "feat_names = list(df.drop(columns=[regression_label]).columns.values) \n",
    "\n",
    "# Print the feature ranking\n",
    "print(\"Feature ranking:\")\n",
    "\n",
    "for f in range(X.shape[1]):\n",
    "    print(\"%d. feature %s (%f)\" % (f + 1, feat_names[indices[f]], importances[indices[f]]))\n",
    "\n",
    "names = [feat_names[i] for i in indices]\n",
    "# Plot the impurity-based feature importances of the forest\n",
    "plt.figure(figsize=(30, 10))\n",
    "plt.title(\"Feature importances\")\n",
    "plt.bar(range(X.shape[1]), importances[indices],\n",
    "        color=\"r\", yerr=std[indices], align=\"center\")\n",
    "plt.xticks(range(X.shape[1]), names, rotation=90)\n",
    "plt.xlim([-1, X.shape[1]])\n",
    "plt.show()"
   ]
  },
  {
   "cell_type": "code",
   "execution_count": 213,
   "metadata": {},
   "outputs": [
    {
     "name": "stdout",
     "output_type": "stream",
     "text": [
      "The first 5 features contribute to the 0.8737808232589879 of the result\n",
      "These features are:\n"
     ]
    },
    {
     "data": {
      "text/plain": [
       "array([ 4, 40, 41, 39, 34])"
      ]
     },
     "execution_count": 213,
     "metadata": {},
     "output_type": "execute_result"
    }
   ],
   "source": [
    "imp_index = np.argsort(importances)[::-1]\n",
    "imp = np.sort(importances)[::-1]\n",
    "\n",
    "num_feats = 5\n",
    "print(\"The first\", num_feats, \"features contribute to the\",  np.cumsum(imp)[num_feats], \"of the result\")\n",
    "print(\"These features are:\")\n",
    "impts = imp_index[:num_feats]\n",
    "names[:num_feats]\n",
    "impts"
   ]
  },
  {
   "cell_type": "code",
   "execution_count": 216,
   "metadata": {},
   "outputs": [
    {
     "name": "stdout",
     "output_type": "stream",
     "text": [
      "Regression Tree model score:  0.8930590061858649\n"
     ]
    },
    {
     "data": {
      "image/png": "[encoded data removed]",
      "text/plain": [
       "<Figure size 432x288 with 1 Axes>"
      ]
     },
     "metadata": {
      "needs_background": "light"
     },
     "output_type": "display_data"
    }
   ],
   "source": [
    "decision_tree = tree.DecisionTreeRegressor(max_depth=7)\n",
    "decision_tree = decision_tree.fit(X_train[:,impts],y_train)\n",
    "print(\"Regression Tree model score: \", decision_tree.score(X_test[:,impts], y_test))\n",
    "\n",
    "plt.figure()\n",
    "tree.plot_tree(decision_tree)\n",
    "plt.show()"
   ]
  },
  {
   "cell_type": "code",
   "execution_count": null,
   "metadata": {},
   "outputs": [],
   "source": []
  }
 ],
 "metadata": {
  "kernelspec": {
   "display_name": "Python 3",
   "language": "python",
   "name": "python3"
  },
  "language_info": {
   "codemirror_mode": {
    "name": "ipython",
    "version": 3
   },
   "file_extension": ".py",
   "mimetype": "text/x-python",
   "name": "python",
   "nbconvert_exporter": "python",
   "pygments_lexer": "ipython3",
   "version": "3.8.5"
  }
 },
 "nbformat": 4,
 "nbformat_minor": 4
}
