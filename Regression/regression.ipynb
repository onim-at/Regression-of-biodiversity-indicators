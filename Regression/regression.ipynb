{
 "cells": [
  {
   "cell_type": "markdown",
   "metadata": {},
   "source": [
    "# Regression on biodiversity index"
   ]
  },
  {
   "cell_type": "markdown",
   "metadata": {},
   "source": [
    "We are going to test different models on our dataset, trying to get a better results using a grid search and the testing the models on a dataset of a different region.\n",
    "\n",
    "For each model we're going to use a RandomizedSearchCV to narrow our parameters research and the the GridSearchCV to find the best one."
   ]
  },
  {
   "cell_type": "code",
   "execution_count": 32,
   "metadata": {},
   "outputs": [],
   "source": [
    "import pandas as pd\n",
    "import numpy as np\n",
    "import glob\n",
    "import os\n",
    "import sys\n",
    "import torch\n",
    "\n",
    "import matplotlib.pyplot  as plt \n",
    "from itertools import combinations \n",
    "from typing import Dict, Any\n",
    "from scipy.stats import uniform, randint\n",
    "from sklearn.decomposition import PCA\n",
    "\n",
    "from sklearn import preprocessing\n",
    "\n",
    "from sklearn.pipeline import make_pipeline, Pipeline\n",
    "\n",
    "from sklearn.model_selection import train_test_split\n",
    "from sklearn.model_selection import cross_val_score\n",
    "from sklearn.model_selection import KFold\n",
    "from sklearn.model_selection import RandomizedSearchCV\n",
    "from sklearn.model_selection import GridSearchCV\n",
    "\n",
    "from sklearn.linear_model import LinearRegression\n",
    "from sklearn.ensemble import RandomForestRegressor \n",
    "from sklearn.tree import DecisionTreeRegressor\n",
    "from sklearn.neural_network import MLPRegressor\n",
    "from sklearn.svm import SVR\n",
    "\n",
    "import xgboost as xgb\n",
    "\n",
    "module_this = os.path.abspath(os.path.join(os.getcwd()))\n",
    "modules = [ module_this]\n",
    "\n",
    "for module in modules:\n",
    "    if module not in sys.path:\n",
    "        sys.path.append(module)\n",
    "\n",
    "import utils as ut"
   ]
  },
  {
   "cell_type": "markdown",
   "metadata": {},
   "source": [
    "## Load Datasets"
   ]
  },
  {
   "cell_type": "code",
   "execution_count": 33,
   "metadata": {},
   "outputs": [],
   "source": [
    "folder = \"../Dataset\"\n",
    "regression_label = 'habitat_richness'\n",
    "test_size = 0.2\n",
    "#swi_labels = ['SWI1km-SWI-002', 'SWI1km-SWI-100', 'SWI1km-SWI-040', 'SWI1km-SWI-005', \n",
    "#              'SWI1km-SWI-010', 'SWI1km-SWI-060', 'SWI1km-SWI-015', 'SWI1km-SWI-020']\n",
    "\n",
    "datas = []\n",
    "\n",
    "paths = [f for f in glob.glob(folder + \"/*.csv\") if 'out_closest_point_mean' in f]\n",
    "paths += [f for f in glob.glob(folder + \"/*.csv\") if 'out_knn' in f]\n",
    "paths += [f for f in glob.glob(folder + \"/*.csv\") if 'out_mean' in f]\n",
    "paths += [f for f in glob.glob(folder + \"/*.csv\") if 'out_remove' in f]\n",
    "\n",
    "for path in paths:\n",
    "    df = pd.read_csv(path, index_col=['longitude', 'latitude'])\n",
    "\n",
    "    if(df.isna().any().any()):\n",
    "        print(path, '\\t has ', df.isna().any().sum(), ' row with null values')\n",
    "    \n",
    "    y = df[regression_label].values\n",
    "    X = df.drop(columns=[regression_label]).values\n",
    "    \n",
    "    X_train, X_test, y_train, y_test = train_test_split(X, y, test_size=test_size, random_state=42, shuffle=True)\n",
    "    datas.append({'name': path[11:-4], 'dataframe': df, 'y': y, 'X': X, \n",
    "                'X_train': X_train, 'X_test': X_test, \n",
    "            'y_train': y_train, 'y_test': y_test})"
   ]
  },
  {
   "cell_type": "code",
   "execution_count": 3,
   "metadata": {},
   "outputs": [
    {
     "name": "stdout",
     "output_type": "stream",
     "text": [
      "bulgaria_out_closest_point_mean_handle_custom_set \t--\t (14458, 47)\n",
      "finland_out_closest_point_mean_handle_custom_set \t--\t (17714, 47)\n",
      "france_out_closest_point_mean_handle_custom_set \t--\t (1882, 47)\n",
      "italy_out_closest_point_mean_handle_custom_set \t--\t (17387, 47)\n",
      "bulgaria_out_knn_handle_custom_set \t--\t (14458, 47)\n",
      "finland_out_knn_handle_custom_set \t--\t (17714, 47)\n",
      "france_out_knn_handle_custom_set \t--\t (1882, 47)\n",
      "italy_out_knn_handle_custom_set \t--\t (17387, 47)\n",
      "bulgaria_out_mean_handle_custom_set \t--\t (14458, 47)\n",
      "finland_out_mean_handle_custom_set \t--\t (17714, 47)\n",
      "france_out_mean_handle_custom_set \t--\t (1882, 47)\n",
      "italy_out_mean_handle_custom_set \t--\t (17387, 47)\n",
      "bulgaria_out_remove_handle_set_null \t--\t (6842, 47)\n",
      "finland_out_remove_handle_set_null \t--\t (17654, 47)\n",
      "france_out_remove_handle_set_null \t--\t (1138, 47)\n",
      "italy_out_remove_handle_set_null \t--\t (8273, 47)\n"
     ]
    }
   ],
   "source": [
    "for x in datas:\n",
    "    print(x['name'], \"\\t--\\t\",x['dataframe'].shape)"
   ]
  },
  {
   "cell_type": "code",
   "execution_count": 6,
   "metadata": {},
   "outputs": [],
   "source": [
    "X_closest_point = np.vstack((datas[0]['X'], datas[1]['X'], datas[2]['X'], datas[3]['X']))\n",
    "y_closest_point = np.concatenate((datas[0]['y'], datas[1]['y'], datas[2]['y'], datas[3]['y']))\n",
    "region_id_closest_point = np.hstack(np.array([[i] * d['X'].shape[0] for i, d in enumerate(datas[0:4])]))\n",
    "\n",
    "X_knn = np.vstack((datas[4]['X'], datas[5]['X'], datas[6]['X'], datas[7]['X']))\n",
    "y_knn = np.concatenate((datas[4]['y'], datas[5]['y'], datas[6]['y'], datas[7]['y']))\n",
    "region_id_knn = np.hstack(np.array([[i] * d['X'].shape[0] for i, d in enumerate(datas[4:8])]))\n",
    "\n",
    "X_mean = np.vstack((datas[8]['X'], datas[9]['X'], datas[10]['X'], datas[11]['X']))\n",
    "y_mean = np.concatenate((datas[8]['y'], datas[9]['y'], datas[10]['y'], datas[11]['y']))\n",
    "region_id_mean = np.hstack(np.array([[i] * d['X'].shape[0] for i, d in enumerate(datas[8:12])]))\n",
    "\n",
    "X_remove = np.vstack((datas[12]['X'], datas[13]['X'], datas[14]['X'], datas[15]['X']))\n",
    "y_remove = np.concatenate((datas[12]['y'], datas[13]['y'], datas[14]['y'], datas[15]['y']))\n",
    "region_id_remove = np.hstack(np.array([[i] * d['X'].shape[0] for i, d in enumerate(datas[12:16])]))\n",
    "\n",
    "\n",
    "Xs = [X_closest_point, X_knn, X_mean, X_remove]\n",
    "ys = [y_closest_point, y_knn, y_mean, y_remove]\n",
    "region_ids = [region_id_closest_point, region_id_knn, region_id_mean, region_id_remove]\n",
    "\n",
    "cv = KFold(n_splits=4, shuffle=True, random_state = 42)\n",
    "scaler = preprocessing.MinMaxScaler()\n",
    "pca = PCA()"
   ]
  },
  {
   "cell_type": "markdown",
   "metadata": {},
   "source": [
    "## Searching the best outliers handler\n",
    "\n",
    "We train a random forest regressor over datasets created with different outlier handling techniques to see which one performs better"
   ]
  },
  {
   "cell_type": "markdown",
   "metadata": {},
   "source": [
    "### Regional dataset"
   ]
  },
  {
   "cell_type": "code",
   "execution_count": 10,
   "metadata": {},
   "outputs": [
    {
     "name": "stdout",
     "output_type": "stream",
     "text": [
      "bulgaria_out_closest_point_mean_handle_custom_set \t validation score: \t 0.925  +/-  0.005\n",
      "--------------------------------------------\n",
      "finland_out_closest_point_mean_handle_custom_set \t validation score: \t 0.717  +/-  0.011\n",
      "--------------------------------------------\n",
      "france_out_closest_point_mean_handle_custom_set \t validation score: \t 0.742  +/-  0.013\n",
      "--------------------------------------------\n",
      "italy_out_closest_point_mean_handle_custom_set \t validation score: \t 0.835  +/-  0.003\n",
      "--------------------------------------------\n",
      "bulgaria_out_knn_handle_custom_set \t validation score: \t 0.923  +/-  0.005\n",
      "--------------------------------------------\n",
      "finland_out_knn_handle_custom_set \t validation score: \t 0.717  +/-  0.011\n",
      "--------------------------------------------\n",
      "france_out_knn_handle_custom_set \t validation score: \t 0.735  +/-  0.018\n",
      "--------------------------------------------\n",
      "italy_out_knn_handle_custom_set \t validation score: \t 0.827  +/-  0.004\n",
      "--------------------------------------------\n",
      "bulgaria_out_mean_handle_custom_set \t validation score: \t 0.925  +/-  0.005\n",
      "--------------------------------------------\n",
      "finland_out_mean_handle_custom_set \t validation score: \t 0.717  +/-  0.010\n",
      "--------------------------------------------\n",
      "france_out_mean_handle_custom_set \t validation score: \t 0.742  +/-  0.015\n",
      "--------------------------------------------\n",
      "italy_out_mean_handle_custom_set \t validation score: \t 0.832  +/-  0.002\n",
      "--------------------------------------------\n",
      "bulgaria_out_remove_handle_set_null \t validation score: \t 0.918  +/-  0.007\n",
      "--------------------------------------------\n",
      "finland_out_remove_handle_set_null \t validation score: \t 0.713  +/-  0.013\n",
      "--------------------------------------------\n",
      "france_out_remove_handle_set_null \t validation score: \t 0.732  +/-  0.027\n",
      "--------------------------------------------\n",
      "italy_out_remove_handle_set_null \t validation score: \t 0.803  +/-  0.012\n",
      "--------------------------------------------\n"
     ]
    }
   ],
   "source": [
    "for data in datas:\n",
    "    rfr = RandomForestRegressor(max_depth=100, random_state = 42)\n",
    "    model = make_pipeline(scaler, rfr)\n",
    "    val_score = cross_val_score(model, data['X'], data['y'], cv=cv, n_jobs=-1, verbose=0)\n",
    "    data['val_score'] = val_score\n",
    "    print(data['name'], \"\\t validation score: \\t\", \"{:.3f}\".format(val_score.mean()), \" +/- \", \"{:.3f}\".format(val_score.std()))\n",
    "    print('--------------------------------------------')"
   ]
  },
  {
   "cell_type": "markdown",
   "metadata": {},
   "source": [
    "### Whole dataset"
   ]
  },
  {
   "cell_type": "code",
   "execution_count": 6,
   "metadata": {},
   "outputs": [],
   "source": [
    "cv = KFold(n_splits=4, shuffle=True, random_state = 42)\n",
    "scaler = preprocessing.MinMaxScaler()"
   ]
  },
  {
   "cell_type": "code",
   "execution_count": 8,
   "metadata": {},
   "outputs": [
    {
     "name": "stderr",
     "output_type": "stream",
     "text": [
      "[Parallel(n_jobs=-1)]: Using backend LokyBackend with 4 concurrent workers.\n",
      "[Parallel(n_jobs=-1)]: Done   1 tasks      | elapsed:  3.3min\n",
      "[Parallel(n_jobs=-1)]: Done   2 out of   4 | elapsed:  3.3min remaining:  3.3min\n",
      "[Parallel(n_jobs=-1)]: Done   4 out of   4 | elapsed:  3.4min remaining:    0.0s\n",
      "[Parallel(n_jobs=-1)]: Done   4 out of   4 | elapsed:  3.4min finished\n"
     ]
    },
    {
     "name": "stdout",
     "output_type": "stream",
     "text": [
      "All data validation score: \t 0.961  +/-  0.002\n",
      "\t test score: \t\t 0.962\n",
      "--------------------------------------------\n"
     ]
    },
    {
     "name": "stderr",
     "output_type": "stream",
     "text": [
      "[Parallel(n_jobs=-1)]: Using backend LokyBackend with 4 concurrent workers.\n",
      "[Parallel(n_jobs=-1)]: Done   1 tasks      | elapsed:  3.5min\n",
      "[Parallel(n_jobs=-1)]: Done   2 out of   4 | elapsed:  3.5min remaining:  3.5min\n",
      "[Parallel(n_jobs=-1)]: Done   4 out of   4 | elapsed:  3.5min remaining:    0.0s\n",
      "[Parallel(n_jobs=-1)]: Done   4 out of   4 | elapsed:  3.5min finished\n"
     ]
    },
    {
     "name": "stdout",
     "output_type": "stream",
     "text": [
      "All data validation score: \t 0.960  +/-  0.002\n",
      "\t test score: \t\t 0.960\n",
      "--------------------------------------------\n"
     ]
    },
    {
     "name": "stderr",
     "output_type": "stream",
     "text": [
      "[Parallel(n_jobs=-1)]: Using backend LokyBackend with 4 concurrent workers.\n",
      "[Parallel(n_jobs=-1)]: Done   1 tasks      | elapsed:  3.9min\n",
      "[Parallel(n_jobs=-1)]: Done   2 out of   4 | elapsed:  4.0min remaining:  4.0min\n",
      "[Parallel(n_jobs=-1)]: Done   4 out of   4 | elapsed:  4.0min remaining:    0.0s\n",
      "[Parallel(n_jobs=-1)]: Done   4 out of   4 | elapsed:  4.0min finished\n"
     ]
    },
    {
     "name": "stdout",
     "output_type": "stream",
     "text": [
      "All data validation score: \t 0.961  +/-  0.001\n",
      "\t test score: \t\t 0.961\n",
      "--------------------------------------------\n"
     ]
    },
    {
     "name": "stderr",
     "output_type": "stream",
     "text": [
      "[Parallel(n_jobs=-1)]: Using backend LokyBackend with 4 concurrent workers.\n",
      "[Parallel(n_jobs=-1)]: Done   1 tasks      | elapsed:  2.6min\n",
      "[Parallel(n_jobs=-1)]: Done   2 out of   4 | elapsed:  2.6min remaining:  2.6min\n",
      "[Parallel(n_jobs=-1)]: Done   4 out of   4 | elapsed:  2.6min remaining:    0.0s\n",
      "[Parallel(n_jobs=-1)]: Done   4 out of   4 | elapsed:  2.6min finished\n"
     ]
    },
    {
     "name": "stdout",
     "output_type": "stream",
     "text": [
      "All data validation score: \t 0.954  +/-  0.001\n",
      "\t test score: \t\t 0.959\n",
      "--------------------------------------------\n"
     ]
    }
   ],
   "source": [
    "rfr = RandomForestRegressor(max_depth=100, random_state = 42)\n",
    "model = make_pipeline(scaler, rfr)\n",
    "for X, y, region_id in zip(Xs, ys, region_ids):\n",
    "    val_score = cross_val_score(model, X, y, cv=cv, n_jobs=-1, verbose=0)\n",
    "    print(\"Validation score: \\t\", \"{:.3f}\".format(val_score.mean()), \" +/- \", \"{:.3f}\".format(val_score.std()))\n",
    "    print('--------------------------------------------')"
   ]
  },
  {
   "cell_type": "markdown",
   "metadata": {},
   "source": [
    "As we can see, the only outliers handler that cause a meaningful score reduction is the removal of rows with outliers.\n",
    "The other techniques have similar scores, we choose to continue with *mean of closest point* since it performed slightly better\n",
    "than the other two"
   ]
  },
  {
   "cell_type": "code",
   "execution_count": 7,
   "metadata": {},
   "outputs": [],
   "source": [
    "datas_closest_point = datas[0:4]\n",
    "X = X_closest_point\n",
    "y = y_closest_point\n",
    "X_train = np.vstack((datas[0]['X_train'], datas[1]['X_train'], datas[2]['X_train'], datas[3]['X_train']))\n",
    "y_train = np.concatenate((datas[0]['y_train'], datas[1]['y_train'], datas[2]['y_train'], datas[3]['y_train']))\n",
    "X_test = np.vstack((datas[0]['X_test'], datas[1]['X_test'], datas[2]['X_test'], datas[3]['X_test']))\n",
    "y_test = np.concatenate((datas[0]['y_test'], datas[1]['y_test'], datas[2]['y_test'], datas[3]['y_test']))\n",
    "data_all = {'name': 'Whole dataset', 'X': X, 'y': y, 'X_train': X_train, 'y_train': y_train, 'X_test': X_test, 'y_test': y_test}\n"
   ]
  },
  {
   "cell_type": "markdown",
   "metadata": {},
   "source": [
    "## Grid search"
   ]
  },
  {
   "cell_type": "code",
   "execution_count": 6,
   "metadata": {},
   "outputs": [],
   "source": [
    "def grid_search_train_test(data, grid_search):\n",
    "    print(data['name'])\n",
    "    grid_search.fit(data['X_train'], np.log(data['y_train']))\n",
    "    print('\\tcross validation best score: \\t',  \"{:.3f}\".format(grid_search.best_score_))\n",
    "    print('\\tbest params: ', grid_search.best_params_)\n",
    "    best_model = grid_search.best_estimator_\n",
    "    test_score = best_model.score(data['X_test'], np.log(data['y_test']))\n",
    "    print(\"\\tbest model test score: \\t\\t\", \"{:.3f}\".format(test_score))\n",
    "    print('--------------------------------------------')\n",
    "    return grid_search.best_estimator_\n",
    "\n",
    "def model_train_test(data, model, cv):\n",
    "    print(data['name'])\n",
    "    val_score = cross_val_score(model, data['X_train'], np.log(data['y_train']), cv=cv, n_jobs=-1, verbose=0)\n",
    "    print('all scores:', val_score)\n",
    "    print(\"\\t validation score: \\t\", \"{:.3f}\".format(val_score.mean()), \" +/- \", \"{:.3f}\".format(val_score.std()*2))\n",
    "    model.fit(data['X_train'], data['y_train'])\n",
    "    test_score = model.score(data['X_test'], np.log(data['y_test']))\n",
    "    print(\"\\tbest model test score: \\t\\t\", \"{:.3f}\".format(test_score))\n",
    "    print('--------------------------------------------')\n",
    "    return model\n",
    "\n",
    "def apply_trained_model(datas, model):\n",
    "    for data in datas:\n",
    "        test_score = model.score(data['X_test'], np.log(data['y_test']))\n",
    "        print(data['name'], \"\\tbest all data model score: \\t\\t\", \"{:.3f}\".format(test_score))\n",
    "        print('--------------------------------------------')"
   ]
  },
  {
   "cell_type": "markdown",
   "metadata": {},
   "source": [
    "### Decision Tree"
   ]
  },
  {
   "cell_type": "code",
   "execution_count": 7,
   "metadata": {},
   "outputs": [
    {
     "data": {
      "text/plain": [
       "{'dtr__max_features': ['auto', 'sqrt'],\n",
       " 'dtr__criterion': ['mse', 'friedman_mse'],\n",
       " 'dtr__max_depth': [4, 8, 16, 32, None]}"
      ]
     },
     "execution_count": 7,
     "metadata": {},
     "output_type": "execute_result"
    }
   ],
   "source": [
    "max_features = ['auto', 'sqrt']\n",
    "criterion = ['mse', 'friedman_mse']\n",
    "max_depth = [4, 8, 16, 32, None]\n",
    "\n",
    "grid_params = {'dtr__max_features': max_features,\n",
    "              'dtr__criterion': criterion,\n",
    "              'dtr__max_depth': max_depth}\n",
    "grid_params"
   ]
  },
  {
   "cell_type": "code",
   "execution_count": 9,
   "metadata": {},
   "outputs": [
    {
     "name": "stdout",
     "output_type": "stream",
     "text": [
      " ------- Regional datas ------- \n",
      "\n",
      "bulgaria_out_closest_point_mean_handle_custom_set\n",
      "\tcross validation best score: \t 0.903\n",
      "\tbest params:  {'dtr__criterion': 'mse', 'dtr__max_depth': 16, 'dtr__max_features': 'auto'}\n",
      "\tbest model test score: \t\t 0.904\n",
      "--------------------------------------------\n",
      "finland_out_closest_point_mean_handle_custom_set\n",
      "\tcross validation best score: \t 0.469\n",
      "\tbest params:  {'dtr__criterion': 'friedman_mse', 'dtr__max_depth': 16, 'dtr__max_features': 'auto'}\n",
      "\tbest model test score: \t\t 0.508\n",
      "--------------------------------------------\n",
      "france_out_closest_point_mean_handle_custom_set\n",
      "\tcross validation best score: \t 0.591\n",
      "\tbest params:  {'dtr__criterion': 'mse', 'dtr__max_depth': 8, 'dtr__max_features': 'sqrt'}\n",
      "\tbest model test score: \t\t 0.565\n",
      "--------------------------------------------\n",
      "italy_out_closest_point_mean_handle_custom_set\n",
      "\tcross validation best score: \t 0.687\n",
      "\tbest params:  {'dtr__criterion': 'friedman_mse', 'dtr__max_depth': 8, 'dtr__max_features': 'auto'}\n",
      "\tbest model test score: \t\t 0.693\n",
      "--------------------------------------------\n"
     ]
    }
   ],
   "source": [
    "print(\" ------- Regional datas ------- \\n\")\n",
    "dtr = DecisionTreeRegressor()\n",
    "model = Pipeline([('scaler', scaler), ('dtr', dtr)])\n",
    "\n",
    "grid_search = GridSearchCV(estimator = model, param_grid = grid_params, \n",
    "                              cv = cv, n_jobs = -1, verbose = 0)\n",
    "\n",
    "for data in datas_closest_point:\n",
    "    grid_search_train_test(data, grid_search)"
   ]
  },
  {
   "cell_type": "code",
   "execution_count": 47,
   "metadata": {},
   "outputs": [],
   "source": [
    "# Bulgaria, finland, france, italy\n",
    "regional_score_dtr = [0.873, 0.486, 0.570, 0.720]\n",
    "regional_score_dtr_log = [0.904, 0.508, 0.565, 0.693]"
   ]
  },
  {
   "cell_type": "code",
   "execution_count": 11,
   "metadata": {},
   "outputs": [
    {
     "name": "stdout",
     "output_type": "stream",
     "text": [
      "\n",
      " ------- All datas ------- \n",
      "\n",
      "Whole dataset\n",
      "\tcross validation best score: \t 0.904\n",
      "\tbest params:  {'dtr__criterion': 'mse', 'dtr__max_depth': 16, 'dtr__max_features': 'auto'}\n",
      "\tbest model test score: \t\t 0.902\n",
      "--------------------------------------------\n",
      " ------- Best all estimator on regional data ------- \n",
      "\n",
      "bulgaria_out_closest_point_mean_handle_custom_set \tbest all data model score: \t\t 0.896\n",
      "--------------------------------------------\n",
      "finland_out_closest_point_mean_handle_custom_set \tbest all data model score: \t\t 0.398\n",
      "--------------------------------------------\n",
      "france_out_closest_point_mean_handle_custom_set \tbest all data model score: \t\t 0.570\n",
      "--------------------------------------------\n",
      "italy_out_closest_point_mean_handle_custom_set \tbest all data model score: \t\t 0.702\n",
      "--------------------------------------------\n"
     ]
    }
   ],
   "source": [
    "print(\"\\n ------- All datas ------- \\n\")\n",
    "best_all_estimator = grid_search_train_test(data_all, grid_search)\n",
    "\n",
    "print(\" ------- Best all estimator on regional data ------- \\n\")\n",
    "apply_trained_model(datas_closest_point, best_all_estimator)"
   ]
  },
  {
   "cell_type": "code",
   "execution_count": 46,
   "metadata": {},
   "outputs": [],
   "source": [
    "# Bulgaria, finland, france, italy\n",
    "all_score_dtr = [0.861, 0.515, 0.580, 0.699]\n",
    "all_score_dtr_log = [0.896, 0.398, 0.570, 0.702]"
   ]
  },
  {
   "cell_type": "markdown",
   "metadata": {},
   "source": [
    "### Random Forest Regressor"
   ]
  },
  {
   "cell_type": "code",
   "execution_count": 21,
   "metadata": {},
   "outputs": [],
   "source": [
    "n_estimators = [50, 100, 200]\n",
    "max_features = ['auto', 'sqrt']\n",
    "max_depth = [20, 50, None]\n",
    "min_samples_split = [2, 5]\n",
    "min_samples_leaf = [1, 4]\n",
    "bootstrap = [False, True]\n",
    "\n",
    "grid_params = {'rfr__n_estimators': n_estimators,\n",
    "               'rfr__max_features': max_features,\n",
    "               'rfr__max_depth': max_depth,\n",
    "               'rfr__min_samples_split': min_samples_split,\n",
    "               'rfr__min_samples_leaf': min_samples_leaf,\n",
    "               'rfr__bootstrap': bootstrap\n",
    "              }"
   ]
  },
  {
   "cell_type": "code",
   "execution_count": 22,
   "metadata": {},
   "outputs": [
    {
     "name": "stdout",
     "output_type": "stream",
     "text": [
      " ------- Regional datas ------- \n",
      "\n",
      "bulgaria_out_closest_point_mean_handle_custom_set\n",
      "\tcross validation best score: \t 0.951\n",
      "\tbest params:  {'rfr__bootstrap': False, 'rfr__max_depth': None, 'rfr__max_features': 'sqrt', 'rfr__min_samples_leaf': 1, 'rfr__min_samples_split': 2, 'rfr__n_estimators': 200}\n",
      "\tbest model test score: \t\t 0.953\n",
      "--------------------------------------------\n",
      "finland_out_closest_point_mean_handle_custom_set\n",
      "\tcross validation best score: \t 0.715\n",
      "\tbest params:  {'rfr__bootstrap': False, 'rfr__max_depth': None, 'rfr__max_features': 'sqrt', 'rfr__min_samples_leaf': 1, 'rfr__min_samples_split': 2, 'rfr__n_estimators': 200}\n",
      "\tbest model test score: \t\t 0.715\n",
      "--------------------------------------------\n",
      "france_out_closest_point_mean_handle_custom_set\n",
      "\tcross validation best score: \t 0.749\n",
      "\tbest params:  {'rfr__bootstrap': False, 'rfr__max_depth': 50, 'rfr__max_features': 'sqrt', 'rfr__min_samples_leaf': 1, 'rfr__min_samples_split': 2, 'rfr__n_estimators': 200}\n",
      "\tbest model test score: \t\t 0.780\n",
      "--------------------------------------------\n",
      "italy_out_closest_point_mean_handle_custom_set\n",
      "\tcross validation best score: \t 0.815\n",
      "\tbest params:  {'rfr__bootstrap': False, 'rfr__max_depth': 50, 'rfr__max_features': 'sqrt', 'rfr__min_samples_leaf': 1, 'rfr__min_samples_split': 5, 'rfr__n_estimators': 200}\n",
      "\tbest model test score: \t\t 0.837\n",
      "--------------------------------------------\n"
     ]
    }
   ],
   "source": [
    "print(\" ------- Regional datas ------- \\n\")\n",
    "rfr = RandomForestRegressor()\n",
    "model = Pipeline([('scaler', scaler), ('rfr', rfr)])\n",
    "\n",
    "grid_search = GridSearchCV(estimator = model, param_grid = grid_params, \n",
    "                              cv = cv, n_jobs = -1, verbose = 0)\n",
    "\n",
    "for data in datas_closest_point:\n",
    "    grid_search_train_test(data, grid_search)"
   ]
  },
  {
   "cell_type": "code",
   "execution_count": 45,
   "metadata": {},
   "outputs": [],
   "source": [
    "# Bulgaria, finland, france, italy\n",
    "regional_score_rfr = [0.936, 0.710, 0.722, 0.839]\n",
    "regional_score_rfr_log = [0.953, 0.715, 0.780, 0.837]"
   ]
  },
  {
   "cell_type": "code",
   "execution_count": 23,
   "metadata": {},
   "outputs": [
    {
     "name": "stdout",
     "output_type": "stream",
     "text": [
      "\n",
      " ------- All datas ------- \n",
      "\n",
      "Whole dataset\n"
     ]
    },
    {
     "ename": "KeyboardInterrupt",
     "evalue": "",
     "output_type": "error",
     "traceback": [
      "\u001b[1;31m---------------------------------------------------------------------------\u001b[0m",
      "\u001b[1;31mKeyboardInterrupt\u001b[0m                         Traceback (most recent call last)",
      "\u001b[1;32m<ipython-input-23-2b33ce8ec54b>\u001b[0m in \u001b[0;36m<module>\u001b[1;34m\u001b[0m\n\u001b[0;32m      1\u001b[0m \u001b[0mprint\u001b[0m\u001b[1;33m(\u001b[0m\u001b[1;34m\"\\n ------- All datas ------- \\n\"\u001b[0m\u001b[1;33m)\u001b[0m\u001b[1;33m\u001b[0m\u001b[1;33m\u001b[0m\u001b[0m\n\u001b[1;32m----> 2\u001b[1;33m \u001b[0mbest_all_estimator\u001b[0m \u001b[1;33m=\u001b[0m \u001b[0mgrid_search_train_test\u001b[0m\u001b[1;33m(\u001b[0m\u001b[0mdata_all\u001b[0m\u001b[1;33m,\u001b[0m \u001b[0mgrid_search\u001b[0m\u001b[1;33m)\u001b[0m\u001b[1;33m\u001b[0m\u001b[1;33m\u001b[0m\u001b[0m\n\u001b[0m\u001b[0;32m      3\u001b[0m \u001b[1;33m\u001b[0m\u001b[0m\n\u001b[0;32m      4\u001b[0m \u001b[0mprint\u001b[0m\u001b[1;33m(\u001b[0m\u001b[1;34m\" ------- Best all estimator on regional data ------- \\n\"\u001b[0m\u001b[1;33m)\u001b[0m\u001b[1;33m\u001b[0m\u001b[1;33m\u001b[0m\u001b[0m\n\u001b[0;32m      5\u001b[0m \u001b[0mapply_trained_model\u001b[0m\u001b[1;33m(\u001b[0m\u001b[0mdatas_closest_point\u001b[0m\u001b[1;33m,\u001b[0m \u001b[0mbest_all_estimator\u001b[0m\u001b[1;33m)\u001b[0m\u001b[1;33m\u001b[0m\u001b[1;33m\u001b[0m\u001b[0m\n",
      "\u001b[1;32m<ipython-input-6-41c6057095e1>\u001b[0m in \u001b[0;36mgrid_search_train_test\u001b[1;34m(data, grid_search)\u001b[0m\n\u001b[0;32m      1\u001b[0m \u001b[1;32mdef\u001b[0m \u001b[0mgrid_search_train_test\u001b[0m\u001b[1;33m(\u001b[0m\u001b[0mdata\u001b[0m\u001b[1;33m,\u001b[0m \u001b[0mgrid_search\u001b[0m\u001b[1;33m)\u001b[0m\u001b[1;33m:\u001b[0m\u001b[1;33m\u001b[0m\u001b[1;33m\u001b[0m\u001b[0m\n\u001b[0;32m      2\u001b[0m     \u001b[0mprint\u001b[0m\u001b[1;33m(\u001b[0m\u001b[0mdata\u001b[0m\u001b[1;33m[\u001b[0m\u001b[1;34m'name'\u001b[0m\u001b[1;33m]\u001b[0m\u001b[1;33m)\u001b[0m\u001b[1;33m\u001b[0m\u001b[1;33m\u001b[0m\u001b[0m\n\u001b[1;32m----> 3\u001b[1;33m     \u001b[0mgrid_search\u001b[0m\u001b[1;33m.\u001b[0m\u001b[0mfit\u001b[0m\u001b[1;33m(\u001b[0m\u001b[0mdata\u001b[0m\u001b[1;33m[\u001b[0m\u001b[1;34m'X_train'\u001b[0m\u001b[1;33m]\u001b[0m\u001b[1;33m,\u001b[0m \u001b[0mnp\u001b[0m\u001b[1;33m.\u001b[0m\u001b[0mlog\u001b[0m\u001b[1;33m(\u001b[0m\u001b[0mdata\u001b[0m\u001b[1;33m[\u001b[0m\u001b[1;34m'y_train'\u001b[0m\u001b[1;33m]\u001b[0m\u001b[1;33m)\u001b[0m\u001b[1;33m)\u001b[0m\u001b[1;33m\u001b[0m\u001b[1;33m\u001b[0m\u001b[0m\n\u001b[0m\u001b[0;32m      4\u001b[0m     \u001b[0mprint\u001b[0m\u001b[1;33m(\u001b[0m\u001b[1;34m'\\tcross validation best score: \\t'\u001b[0m\u001b[1;33m,\u001b[0m  \u001b[1;34m\"{:.3f}\"\u001b[0m\u001b[1;33m.\u001b[0m\u001b[0mformat\u001b[0m\u001b[1;33m(\u001b[0m\u001b[0mgrid_search\u001b[0m\u001b[1;33m.\u001b[0m\u001b[0mbest_score_\u001b[0m\u001b[1;33m)\u001b[0m\u001b[1;33m)\u001b[0m\u001b[1;33m\u001b[0m\u001b[1;33m\u001b[0m\u001b[0m\n\u001b[0;32m      5\u001b[0m     \u001b[0mprint\u001b[0m\u001b[1;33m(\u001b[0m\u001b[1;34m'\\tbest params: '\u001b[0m\u001b[1;33m,\u001b[0m \u001b[0mgrid_search\u001b[0m\u001b[1;33m.\u001b[0m\u001b[0mbest_params_\u001b[0m\u001b[1;33m)\u001b[0m\u001b[1;33m\u001b[0m\u001b[1;33m\u001b[0m\u001b[0m\n",
      "\u001b[1;32m~\\anaconda3\\lib\\site-packages\\sklearn\\utils\\validation.py\u001b[0m in \u001b[0;36minner_f\u001b[1;34m(*args, **kwargs)\u001b[0m\n\u001b[0;32m     71\u001b[0m                           FutureWarning)\n\u001b[0;32m     72\u001b[0m         \u001b[0mkwargs\u001b[0m\u001b[1;33m.\u001b[0m\u001b[0mupdate\u001b[0m\u001b[1;33m(\u001b[0m\u001b[1;33m{\u001b[0m\u001b[0mk\u001b[0m\u001b[1;33m:\u001b[0m \u001b[0marg\u001b[0m \u001b[1;32mfor\u001b[0m \u001b[0mk\u001b[0m\u001b[1;33m,\u001b[0m \u001b[0marg\u001b[0m \u001b[1;32min\u001b[0m \u001b[0mzip\u001b[0m\u001b[1;33m(\u001b[0m\u001b[0msig\u001b[0m\u001b[1;33m.\u001b[0m\u001b[0mparameters\u001b[0m\u001b[1;33m,\u001b[0m \u001b[0margs\u001b[0m\u001b[1;33m)\u001b[0m\u001b[1;33m}\u001b[0m\u001b[1;33m)\u001b[0m\u001b[1;33m\u001b[0m\u001b[1;33m\u001b[0m\u001b[0m\n\u001b[1;32m---> 73\u001b[1;33m         \u001b[1;32mreturn\u001b[0m \u001b[0mf\u001b[0m\u001b[1;33m(\u001b[0m\u001b[1;33m**\u001b[0m\u001b[0mkwargs\u001b[0m\u001b[1;33m)\u001b[0m\u001b[1;33m\u001b[0m\u001b[1;33m\u001b[0m\u001b[0m\n\u001b[0m\u001b[0;32m     74\u001b[0m     \u001b[1;32mreturn\u001b[0m \u001b[0minner_f\u001b[0m\u001b[1;33m\u001b[0m\u001b[1;33m\u001b[0m\u001b[0m\n\u001b[0;32m     75\u001b[0m \u001b[1;33m\u001b[0m\u001b[0m\n",
      "\u001b[1;32m~\\anaconda3\\lib\\site-packages\\sklearn\\model_selection\\_search.py\u001b[0m in \u001b[0;36mfit\u001b[1;34m(self, X, y, groups, **fit_params)\u001b[0m\n\u001b[0;32m    734\u001b[0m                 \u001b[1;32mreturn\u001b[0m \u001b[0mresults\u001b[0m\u001b[1;33m\u001b[0m\u001b[1;33m\u001b[0m\u001b[0m\n\u001b[0;32m    735\u001b[0m \u001b[1;33m\u001b[0m\u001b[0m\n\u001b[1;32m--> 736\u001b[1;33m             \u001b[0mself\u001b[0m\u001b[1;33m.\u001b[0m\u001b[0m_run_search\u001b[0m\u001b[1;33m(\u001b[0m\u001b[0mevaluate_candidates\u001b[0m\u001b[1;33m)\u001b[0m\u001b[1;33m\u001b[0m\u001b[1;33m\u001b[0m\u001b[0m\n\u001b[0m\u001b[0;32m    737\u001b[0m \u001b[1;33m\u001b[0m\u001b[0m\n\u001b[0;32m    738\u001b[0m         \u001b[1;31m# For multi-metric evaluation, store the best_index_, best_params_ and\u001b[0m\u001b[1;33m\u001b[0m\u001b[1;33m\u001b[0m\u001b[1;33m\u001b[0m\u001b[0m\n",
      "\u001b[1;32m~\\anaconda3\\lib\\site-packages\\sklearn\\model_selection\\_search.py\u001b[0m in \u001b[0;36m_run_search\u001b[1;34m(self, evaluate_candidates)\u001b[0m\n\u001b[0;32m   1186\u001b[0m     \u001b[1;32mdef\u001b[0m \u001b[0m_run_search\u001b[0m\u001b[1;33m(\u001b[0m\u001b[0mself\u001b[0m\u001b[1;33m,\u001b[0m \u001b[0mevaluate_candidates\u001b[0m\u001b[1;33m)\u001b[0m\u001b[1;33m:\u001b[0m\u001b[1;33m\u001b[0m\u001b[1;33m\u001b[0m\u001b[0m\n\u001b[0;32m   1187\u001b[0m         \u001b[1;34m\"\"\"Search all candidates in param_grid\"\"\"\u001b[0m\u001b[1;33m\u001b[0m\u001b[1;33m\u001b[0m\u001b[0m\n\u001b[1;32m-> 1188\u001b[1;33m         \u001b[0mevaluate_candidates\u001b[0m\u001b[1;33m(\u001b[0m\u001b[0mParameterGrid\u001b[0m\u001b[1;33m(\u001b[0m\u001b[0mself\u001b[0m\u001b[1;33m.\u001b[0m\u001b[0mparam_grid\u001b[0m\u001b[1;33m)\u001b[0m\u001b[1;33m)\u001b[0m\u001b[1;33m\u001b[0m\u001b[1;33m\u001b[0m\u001b[0m\n\u001b[0m\u001b[0;32m   1189\u001b[0m \u001b[1;33m\u001b[0m\u001b[0m\n\u001b[0;32m   1190\u001b[0m \u001b[1;33m\u001b[0m\u001b[0m\n",
      "\u001b[1;32m~\\anaconda3\\lib\\site-packages\\sklearn\\model_selection\\_search.py\u001b[0m in \u001b[0;36mevaluate_candidates\u001b[1;34m(candidate_params)\u001b[0m\n\u001b[0;32m    706\u001b[0m                               n_splits, n_candidates, n_candidates * n_splits))\n\u001b[0;32m    707\u001b[0m \u001b[1;33m\u001b[0m\u001b[0m\n\u001b[1;32m--> 708\u001b[1;33m                 out = parallel(delayed(_fit_and_score)(clone(base_estimator),\n\u001b[0m\u001b[0;32m    709\u001b[0m                                                        \u001b[0mX\u001b[0m\u001b[1;33m,\u001b[0m \u001b[0my\u001b[0m\u001b[1;33m,\u001b[0m\u001b[1;33m\u001b[0m\u001b[1;33m\u001b[0m\u001b[0m\n\u001b[0;32m    710\u001b[0m                                                        \u001b[0mtrain\u001b[0m\u001b[1;33m=\u001b[0m\u001b[0mtrain\u001b[0m\u001b[1;33m,\u001b[0m \u001b[0mtest\u001b[0m\u001b[1;33m=\u001b[0m\u001b[0mtest\u001b[0m\u001b[1;33m,\u001b[0m\u001b[1;33m\u001b[0m\u001b[1;33m\u001b[0m\u001b[0m\n",
      "\u001b[1;32m~\\anaconda3\\lib\\site-packages\\joblib\\parallel.py\u001b[0m in \u001b[0;36m__call__\u001b[1;34m(self, iterable)\u001b[0m\n\u001b[0;32m   1040\u001b[0m \u001b[1;33m\u001b[0m\u001b[0m\n\u001b[0;32m   1041\u001b[0m             \u001b[1;32mwith\u001b[0m \u001b[0mself\u001b[0m\u001b[1;33m.\u001b[0m\u001b[0m_backend\u001b[0m\u001b[1;33m.\u001b[0m\u001b[0mretrieval_context\u001b[0m\u001b[1;33m(\u001b[0m\u001b[1;33m)\u001b[0m\u001b[1;33m:\u001b[0m\u001b[1;33m\u001b[0m\u001b[1;33m\u001b[0m\u001b[0m\n\u001b[1;32m-> 1042\u001b[1;33m                 \u001b[0mself\u001b[0m\u001b[1;33m.\u001b[0m\u001b[0mretrieve\u001b[0m\u001b[1;33m(\u001b[0m\u001b[1;33m)\u001b[0m\u001b[1;33m\u001b[0m\u001b[1;33m\u001b[0m\u001b[0m\n\u001b[0m\u001b[0;32m   1043\u001b[0m             \u001b[1;31m# Make sure that we get a last message telling us we are done\u001b[0m\u001b[1;33m\u001b[0m\u001b[1;33m\u001b[0m\u001b[1;33m\u001b[0m\u001b[0m\n\u001b[0;32m   1044\u001b[0m             \u001b[0melapsed_time\u001b[0m \u001b[1;33m=\u001b[0m \u001b[0mtime\u001b[0m\u001b[1;33m.\u001b[0m\u001b[0mtime\u001b[0m\u001b[1;33m(\u001b[0m\u001b[1;33m)\u001b[0m \u001b[1;33m-\u001b[0m \u001b[0mself\u001b[0m\u001b[1;33m.\u001b[0m\u001b[0m_start_time\u001b[0m\u001b[1;33m\u001b[0m\u001b[1;33m\u001b[0m\u001b[0m\n",
      "\u001b[1;32m~\\anaconda3\\lib\\site-packages\\joblib\\parallel.py\u001b[0m in \u001b[0;36mretrieve\u001b[1;34m(self)\u001b[0m\n\u001b[0;32m    919\u001b[0m             \u001b[1;32mtry\u001b[0m\u001b[1;33m:\u001b[0m\u001b[1;33m\u001b[0m\u001b[1;33m\u001b[0m\u001b[0m\n\u001b[0;32m    920\u001b[0m                 \u001b[1;32mif\u001b[0m \u001b[0mgetattr\u001b[0m\u001b[1;33m(\u001b[0m\u001b[0mself\u001b[0m\u001b[1;33m.\u001b[0m\u001b[0m_backend\u001b[0m\u001b[1;33m,\u001b[0m \u001b[1;34m'supports_timeout'\u001b[0m\u001b[1;33m,\u001b[0m \u001b[1;32mFalse\u001b[0m\u001b[1;33m)\u001b[0m\u001b[1;33m:\u001b[0m\u001b[1;33m\u001b[0m\u001b[1;33m\u001b[0m\u001b[0m\n\u001b[1;32m--> 921\u001b[1;33m                     \u001b[0mself\u001b[0m\u001b[1;33m.\u001b[0m\u001b[0m_output\u001b[0m\u001b[1;33m.\u001b[0m\u001b[0mextend\u001b[0m\u001b[1;33m(\u001b[0m\u001b[0mjob\u001b[0m\u001b[1;33m.\u001b[0m\u001b[0mget\u001b[0m\u001b[1;33m(\u001b[0m\u001b[0mtimeout\u001b[0m\u001b[1;33m=\u001b[0m\u001b[0mself\u001b[0m\u001b[1;33m.\u001b[0m\u001b[0mtimeout\u001b[0m\u001b[1;33m)\u001b[0m\u001b[1;33m)\u001b[0m\u001b[1;33m\u001b[0m\u001b[1;33m\u001b[0m\u001b[0m\n\u001b[0m\u001b[0;32m    922\u001b[0m                 \u001b[1;32melse\u001b[0m\u001b[1;33m:\u001b[0m\u001b[1;33m\u001b[0m\u001b[1;33m\u001b[0m\u001b[0m\n\u001b[0;32m    923\u001b[0m                     \u001b[0mself\u001b[0m\u001b[1;33m.\u001b[0m\u001b[0m_output\u001b[0m\u001b[1;33m.\u001b[0m\u001b[0mextend\u001b[0m\u001b[1;33m(\u001b[0m\u001b[0mjob\u001b[0m\u001b[1;33m.\u001b[0m\u001b[0mget\u001b[0m\u001b[1;33m(\u001b[0m\u001b[1;33m)\u001b[0m\u001b[1;33m)\u001b[0m\u001b[1;33m\u001b[0m\u001b[1;33m\u001b[0m\u001b[0m\n",
      "\u001b[1;32m~\\anaconda3\\lib\\site-packages\\joblib\\_parallel_backends.py\u001b[0m in \u001b[0;36mwrap_future_result\u001b[1;34m(future, timeout)\u001b[0m\n\u001b[0;32m    540\u001b[0m         AsyncResults.get from multiprocessing.\"\"\"\n\u001b[0;32m    541\u001b[0m         \u001b[1;32mtry\u001b[0m\u001b[1;33m:\u001b[0m\u001b[1;33m\u001b[0m\u001b[1;33m\u001b[0m\u001b[0m\n\u001b[1;32m--> 542\u001b[1;33m             \u001b[1;32mreturn\u001b[0m \u001b[0mfuture\u001b[0m\u001b[1;33m.\u001b[0m\u001b[0mresult\u001b[0m\u001b[1;33m(\u001b[0m\u001b[0mtimeout\u001b[0m\u001b[1;33m=\u001b[0m\u001b[0mtimeout\u001b[0m\u001b[1;33m)\u001b[0m\u001b[1;33m\u001b[0m\u001b[1;33m\u001b[0m\u001b[0m\n\u001b[0m\u001b[0;32m    543\u001b[0m         \u001b[1;32mexcept\u001b[0m \u001b[0mCfTimeoutError\u001b[0m \u001b[1;32mas\u001b[0m \u001b[0me\u001b[0m\u001b[1;33m:\u001b[0m\u001b[1;33m\u001b[0m\u001b[1;33m\u001b[0m\u001b[0m\n\u001b[0;32m    544\u001b[0m             \u001b[1;32mraise\u001b[0m \u001b[0mTimeoutError\u001b[0m \u001b[1;32mfrom\u001b[0m \u001b[0me\u001b[0m\u001b[1;33m\u001b[0m\u001b[1;33m\u001b[0m\u001b[0m\n",
      "\u001b[1;32m~\\anaconda3\\lib\\concurrent\\futures\\_base.py\u001b[0m in \u001b[0;36mresult\u001b[1;34m(self, timeout)\u001b[0m\n\u001b[0;32m    432\u001b[0m                 \u001b[1;32mreturn\u001b[0m \u001b[0mself\u001b[0m\u001b[1;33m.\u001b[0m\u001b[0m__get_result\u001b[0m\u001b[1;33m(\u001b[0m\u001b[1;33m)\u001b[0m\u001b[1;33m\u001b[0m\u001b[1;33m\u001b[0m\u001b[0m\n\u001b[0;32m    433\u001b[0m \u001b[1;33m\u001b[0m\u001b[0m\n\u001b[1;32m--> 434\u001b[1;33m             \u001b[0mself\u001b[0m\u001b[1;33m.\u001b[0m\u001b[0m_condition\u001b[0m\u001b[1;33m.\u001b[0m\u001b[0mwait\u001b[0m\u001b[1;33m(\u001b[0m\u001b[0mtimeout\u001b[0m\u001b[1;33m)\u001b[0m\u001b[1;33m\u001b[0m\u001b[1;33m\u001b[0m\u001b[0m\n\u001b[0m\u001b[0;32m    435\u001b[0m \u001b[1;33m\u001b[0m\u001b[0m\n\u001b[0;32m    436\u001b[0m             \u001b[1;32mif\u001b[0m \u001b[0mself\u001b[0m\u001b[1;33m.\u001b[0m\u001b[0m_state\u001b[0m \u001b[1;32min\u001b[0m \u001b[1;33m[\u001b[0m\u001b[0mCANCELLED\u001b[0m\u001b[1;33m,\u001b[0m \u001b[0mCANCELLED_AND_NOTIFIED\u001b[0m\u001b[1;33m]\u001b[0m\u001b[1;33m:\u001b[0m\u001b[1;33m\u001b[0m\u001b[1;33m\u001b[0m\u001b[0m\n",
      "\u001b[1;32m~\\anaconda3\\lib\\threading.py\u001b[0m in \u001b[0;36mwait\u001b[1;34m(self, timeout)\u001b[0m\n\u001b[0;32m    300\u001b[0m         \u001b[1;32mtry\u001b[0m\u001b[1;33m:\u001b[0m    \u001b[1;31m# restore state no matter what (e.g., KeyboardInterrupt)\u001b[0m\u001b[1;33m\u001b[0m\u001b[1;33m\u001b[0m\u001b[0m\n\u001b[0;32m    301\u001b[0m             \u001b[1;32mif\u001b[0m \u001b[0mtimeout\u001b[0m \u001b[1;32mis\u001b[0m \u001b[1;32mNone\u001b[0m\u001b[1;33m:\u001b[0m\u001b[1;33m\u001b[0m\u001b[1;33m\u001b[0m\u001b[0m\n\u001b[1;32m--> 302\u001b[1;33m                 \u001b[0mwaiter\u001b[0m\u001b[1;33m.\u001b[0m\u001b[0macquire\u001b[0m\u001b[1;33m(\u001b[0m\u001b[1;33m)\u001b[0m\u001b[1;33m\u001b[0m\u001b[1;33m\u001b[0m\u001b[0m\n\u001b[0m\u001b[0;32m    303\u001b[0m                 \u001b[0mgotit\u001b[0m \u001b[1;33m=\u001b[0m \u001b[1;32mTrue\u001b[0m\u001b[1;33m\u001b[0m\u001b[1;33m\u001b[0m\u001b[0m\n\u001b[0;32m    304\u001b[0m             \u001b[1;32melse\u001b[0m\u001b[1;33m:\u001b[0m\u001b[1;33m\u001b[0m\u001b[1;33m\u001b[0m\u001b[0m\n",
      "\u001b[1;31mKeyboardInterrupt\u001b[0m: "
     ]
    }
   ],
   "source": [
    "print(\"\\n ------- All datas ------- \\n\")\n",
    "best_all_estimator = grid_search_train_test(data_all, grid_search)\n",
    "\n",
    "print(\" ------- Best all estimator on regional data ------- \\n\")\n",
    "apply_trained_model(datas_closest_point, best_all_estimator)"
   ]
  },
  {
   "cell_type": "code",
   "execution_count": 44,
   "metadata": {},
   "outputs": [],
   "source": [
    "# Bulgaria, finland, france, italy\n",
    "all_score_rfr = [0.937, 0.711, 0.776, 0.836]"
   ]
  },
  {
   "cell_type": "markdown",
   "metadata": {},
   "source": [
    "### SVM"
   ]
  },
  {
   "cell_type": "code",
   "execution_count": 14,
   "metadata": {},
   "outputs": [
    {
     "data": {
      "text/plain": [
       "{'svr__C': [0.1, 1, 10],\n",
       " 'svr__gamma': ['auto', 0.1, 0.01],\n",
       " 'svr__kernel': ['linear', 'rbf']}"
      ]
     },
     "execution_count": 14,
     "metadata": {},
     "output_type": "execute_result"
    }
   ],
   "source": [
    "C = [0.1, 1, 10]\n",
    "gamma = ['auto', 0.1, 0.01]\n",
    "kernel = ['linear', 'rbf']\n",
    "\n",
    "grid_params = {'svr__C': C,  \n",
    "              'svr__gamma': gamma, \n",
    "              'svr__kernel': kernel}  \n",
    "grid_params"
   ]
  },
  {
   "cell_type": "code",
   "execution_count": 15,
   "metadata": {},
   "outputs": [
    {
     "name": "stdout",
     "output_type": "stream",
     "text": [
      " ------- Regional datas ------- \n",
      "\n",
      "bulgaria_out_closest_point_mean_handle_custom_set\n",
      "\tcross validation best score: \t 0.884\n",
      "\tbest params:  {'svr__C': 10, 'svr__gamma': 0.1, 'svr__kernel': 'rbf'}\n",
      "\tbest model test score: \t\t 0.897\n",
      "--------------------------------------------\n",
      "finland_out_closest_point_mean_handle_custom_set\n",
      "\tcross validation best score: \t 0.371\n",
      "\tbest params:  {'svr__C': 10, 'svr__gamma': 0.1, 'svr__kernel': 'rbf'}\n",
      "\tbest model test score: \t\t 0.374\n",
      "--------------------------------------------\n",
      "france_out_closest_point_mean_handle_custom_set\n",
      "\tcross validation best score: \t 0.601\n",
      "\tbest params:  {'svr__C': 10, 'svr__gamma': 0.1, 'svr__kernel': 'rbf'}\n",
      "\tbest model test score: \t\t 0.669\n",
      "--------------------------------------------\n",
      "italy_out_closest_point_mean_handle_custom_set\n",
      "\tcross validation best score: \t 0.671\n",
      "\tbest params:  {'svr__C': 10, 'svr__gamma': 0.1, 'svr__kernel': 'rbf'}\n",
      "\tbest model test score: \t\t 0.688\n",
      "--------------------------------------------\n"
     ]
    }
   ],
   "source": [
    "print(\" ------- Regional datas ------- \\n\")\n",
    "svr = SVR()\n",
    "model = Pipeline([('scaler', scaler), ('svr', svr)])\n",
    "\n",
    "grid_search = GridSearchCV(estimator = model, param_grid = grid_params, \n",
    "                              cv = cv, n_jobs = -1, verbose = 0)\n",
    "\n",
    "for data in datas_closest_point:\n",
    "    grid_search_train_test(data, grid_search)"
   ]
  },
  {
   "cell_type": "code",
   "execution_count": 43,
   "metadata": {},
   "outputs": [],
   "source": [
    "regional_score_svm = [0.832, 0.136, 0.421, 0.536]\n",
    "regional_score_svm_log = [0.897, 0.374, 0.669, 0.688]"
   ]
  },
  {
   "cell_type": "code",
   "execution_count": 17,
   "metadata": {},
   "outputs": [
    {
     "name": "stdout",
     "output_type": "stream",
     "text": [
      "\n",
      " ------- All datas ------- \n",
      "\n",
      "Whole dataset\n",
      "\tcross validation best score: \t 0.857\n",
      "\tbest params:  {'svr__C': 10, 'svr__gamma': 0.1, 'svr__kernel': 'rbf'}\n",
      "\tbest model test score: \t\t 0.864\n",
      "--------------------------------------------\n",
      " ------- Best all estimator on regional data ------- \n",
      "\n",
      "bulgaria_out_closest_point_mean_handle_custom_set \tbest all data model score: \t\t 0.840\n",
      "--------------------------------------------\n",
      "finland_out_closest_point_mean_handle_custom_set \tbest all data model score: \t\t 0.220\n",
      "--------------------------------------------\n",
      "france_out_closest_point_mean_handle_custom_set \tbest all data model score: \t\t 0.367\n",
      "--------------------------------------------\n",
      "italy_out_closest_point_mean_handle_custom_set \tbest all data model score: \t\t 0.587\n",
      "--------------------------------------------\n"
     ]
    }
   ],
   "source": [
    "print(\"\\n ------- All datas ------- \\n\")\n",
    "best_all_estimator = grid_search_train_test(data_all, grid_search)\n",
    "\n",
    "print(\" ------- Best all estimator on regional data ------- \\n\")\n",
    "apply_trained_model(datas_closest_point, best_all_estimator)"
   ]
  },
  {
   "cell_type": "code",
   "execution_count": 42,
   "metadata": {},
   "outputs": [],
   "source": [
    "all_score_svm = [0.772, 0.116, 0.191, 0.472]\n",
    "all_score_svm_log = [0.840, 0.220, 0.367, 0.587]"
   ]
  },
  {
   "cell_type": "markdown",
   "metadata": {},
   "source": [
    "## Neural Network"
   ]
  },
  {
   "cell_type": "code",
   "execution_count": 36,
   "metadata": {},
   "outputs": [
    {
     "data": {
      "text/plain": [
       "{'nn__solver': ['lbfgs'],\n",
       " 'nn__max_iter': [1000],\n",
       " 'nn__alpha': [0.001, 0.0001, 1e-05],\n",
       " 'nn__hidden_layer_sizes': [(100, 50), (46, 100, 46), (46, 100, 46, 20)]}"
      ]
     },
     "execution_count": 36,
     "metadata": {},
     "output_type": "execute_result"
    }
   ],
   "source": [
    "max_iter = [1000]\n",
    "alpha = [0.001, 0.0001, 0.00001]\n",
    "solver = ['lbfgs']\n",
    "hidden_layer_sizes = [(100, 50), (46, 100, 46), (46, 100, 46, 20)]\n",
    "\n",
    "grid_params = {'nn__solver': solver, \n",
    "               'nn__max_iter': max_iter,\n",
    "               'nn__alpha': alpha, \n",
    "               'nn__hidden_layer_sizes': hidden_layer_sizes\n",
    "              }\n",
    "grid_params"
   ]
  },
  {
   "cell_type": "code",
   "execution_count": 37,
   "metadata": {},
   "outputs": [
    {
     "name": "stdout",
     "output_type": "stream",
     "text": [
      " ------- Regional datas ------- \n",
      "\n",
      "bulgaria_out_closest_point_mean_handle_custom_set\n"
     ]
    },
    {
     "ename": "KeyboardInterrupt",
     "evalue": "",
     "output_type": "error",
     "traceback": [
      "\u001b[1;31m---------------------------------------------------------------------------\u001b[0m",
      "\u001b[1;31mKeyboardInterrupt\u001b[0m                         Traceback (most recent call last)",
      "\u001b[1;32m<ipython-input-37-71fa05964951>\u001b[0m in \u001b[0;36m<module>\u001b[1;34m\u001b[0m\n\u001b[0;32m      7\u001b[0m \u001b[1;33m\u001b[0m\u001b[0m\n\u001b[0;32m      8\u001b[0m \u001b[1;32mfor\u001b[0m \u001b[0mdata\u001b[0m \u001b[1;32min\u001b[0m \u001b[0mdatas_closest_point\u001b[0m\u001b[1;33m:\u001b[0m\u001b[1;33m\u001b[0m\u001b[1;33m\u001b[0m\u001b[0m\n\u001b[1;32m----> 9\u001b[1;33m     \u001b[0mgrid_search_train_test\u001b[0m\u001b[1;33m(\u001b[0m\u001b[0mdata\u001b[0m\u001b[1;33m,\u001b[0m \u001b[0mgrid_search\u001b[0m\u001b[1;33m)\u001b[0m\u001b[1;33m\u001b[0m\u001b[1;33m\u001b[0m\u001b[0m\n\u001b[0m",
      "\u001b[1;32m<ipython-input-6-41c6057095e1>\u001b[0m in \u001b[0;36mgrid_search_train_test\u001b[1;34m(data, grid_search)\u001b[0m\n\u001b[0;32m      1\u001b[0m \u001b[1;32mdef\u001b[0m \u001b[0mgrid_search_train_test\u001b[0m\u001b[1;33m(\u001b[0m\u001b[0mdata\u001b[0m\u001b[1;33m,\u001b[0m \u001b[0mgrid_search\u001b[0m\u001b[1;33m)\u001b[0m\u001b[1;33m:\u001b[0m\u001b[1;33m\u001b[0m\u001b[1;33m\u001b[0m\u001b[0m\n\u001b[0;32m      2\u001b[0m     \u001b[0mprint\u001b[0m\u001b[1;33m(\u001b[0m\u001b[0mdata\u001b[0m\u001b[1;33m[\u001b[0m\u001b[1;34m'name'\u001b[0m\u001b[1;33m]\u001b[0m\u001b[1;33m)\u001b[0m\u001b[1;33m\u001b[0m\u001b[1;33m\u001b[0m\u001b[0m\n\u001b[1;32m----> 3\u001b[1;33m     \u001b[0mgrid_search\u001b[0m\u001b[1;33m.\u001b[0m\u001b[0mfit\u001b[0m\u001b[1;33m(\u001b[0m\u001b[0mdata\u001b[0m\u001b[1;33m[\u001b[0m\u001b[1;34m'X_train'\u001b[0m\u001b[1;33m]\u001b[0m\u001b[1;33m,\u001b[0m \u001b[0mnp\u001b[0m\u001b[1;33m.\u001b[0m\u001b[0mlog\u001b[0m\u001b[1;33m(\u001b[0m\u001b[0mdata\u001b[0m\u001b[1;33m[\u001b[0m\u001b[1;34m'y_train'\u001b[0m\u001b[1;33m]\u001b[0m\u001b[1;33m)\u001b[0m\u001b[1;33m)\u001b[0m\u001b[1;33m\u001b[0m\u001b[1;33m\u001b[0m\u001b[0m\n\u001b[0m\u001b[0;32m      4\u001b[0m     \u001b[0mprint\u001b[0m\u001b[1;33m(\u001b[0m\u001b[1;34m'\\tcross validation best score: \\t'\u001b[0m\u001b[1;33m,\u001b[0m  \u001b[1;34m\"{:.3f}\"\u001b[0m\u001b[1;33m.\u001b[0m\u001b[0mformat\u001b[0m\u001b[1;33m(\u001b[0m\u001b[0mgrid_search\u001b[0m\u001b[1;33m.\u001b[0m\u001b[0mbest_score_\u001b[0m\u001b[1;33m)\u001b[0m\u001b[1;33m)\u001b[0m\u001b[1;33m\u001b[0m\u001b[1;33m\u001b[0m\u001b[0m\n\u001b[0;32m      5\u001b[0m     \u001b[0mprint\u001b[0m\u001b[1;33m(\u001b[0m\u001b[1;34m'\\tbest params: '\u001b[0m\u001b[1;33m,\u001b[0m \u001b[0mgrid_search\u001b[0m\u001b[1;33m.\u001b[0m\u001b[0mbest_params_\u001b[0m\u001b[1;33m)\u001b[0m\u001b[1;33m\u001b[0m\u001b[1;33m\u001b[0m\u001b[0m\n",
      "\u001b[1;32m~\\anaconda3\\lib\\site-packages\\sklearn\\utils\\validation.py\u001b[0m in \u001b[0;36minner_f\u001b[1;34m(*args, **kwargs)\u001b[0m\n\u001b[0;32m     71\u001b[0m                           FutureWarning)\n\u001b[0;32m     72\u001b[0m         \u001b[0mkwargs\u001b[0m\u001b[1;33m.\u001b[0m\u001b[0mupdate\u001b[0m\u001b[1;33m(\u001b[0m\u001b[1;33m{\u001b[0m\u001b[0mk\u001b[0m\u001b[1;33m:\u001b[0m \u001b[0marg\u001b[0m \u001b[1;32mfor\u001b[0m \u001b[0mk\u001b[0m\u001b[1;33m,\u001b[0m \u001b[0marg\u001b[0m \u001b[1;32min\u001b[0m \u001b[0mzip\u001b[0m\u001b[1;33m(\u001b[0m\u001b[0msig\u001b[0m\u001b[1;33m.\u001b[0m\u001b[0mparameters\u001b[0m\u001b[1;33m,\u001b[0m \u001b[0margs\u001b[0m\u001b[1;33m)\u001b[0m\u001b[1;33m}\u001b[0m\u001b[1;33m)\u001b[0m\u001b[1;33m\u001b[0m\u001b[1;33m\u001b[0m\u001b[0m\n\u001b[1;32m---> 73\u001b[1;33m         \u001b[1;32mreturn\u001b[0m \u001b[0mf\u001b[0m\u001b[1;33m(\u001b[0m\u001b[1;33m**\u001b[0m\u001b[0mkwargs\u001b[0m\u001b[1;33m)\u001b[0m\u001b[1;33m\u001b[0m\u001b[1;33m\u001b[0m\u001b[0m\n\u001b[0m\u001b[0;32m     74\u001b[0m     \u001b[1;32mreturn\u001b[0m \u001b[0minner_f\u001b[0m\u001b[1;33m\u001b[0m\u001b[1;33m\u001b[0m\u001b[0m\n\u001b[0;32m     75\u001b[0m \u001b[1;33m\u001b[0m\u001b[0m\n",
      "\u001b[1;32m~\\anaconda3\\lib\\site-packages\\sklearn\\model_selection\\_search.py\u001b[0m in \u001b[0;36mfit\u001b[1;34m(self, X, y, groups, **fit_params)\u001b[0m\n\u001b[0;32m    734\u001b[0m                 \u001b[1;32mreturn\u001b[0m \u001b[0mresults\u001b[0m\u001b[1;33m\u001b[0m\u001b[1;33m\u001b[0m\u001b[0m\n\u001b[0;32m    735\u001b[0m \u001b[1;33m\u001b[0m\u001b[0m\n\u001b[1;32m--> 736\u001b[1;33m             \u001b[0mself\u001b[0m\u001b[1;33m.\u001b[0m\u001b[0m_run_search\u001b[0m\u001b[1;33m(\u001b[0m\u001b[0mevaluate_candidates\u001b[0m\u001b[1;33m)\u001b[0m\u001b[1;33m\u001b[0m\u001b[1;33m\u001b[0m\u001b[0m\n\u001b[0m\u001b[0;32m    737\u001b[0m \u001b[1;33m\u001b[0m\u001b[0m\n\u001b[0;32m    738\u001b[0m         \u001b[1;31m# For multi-metric evaluation, store the best_index_, best_params_ and\u001b[0m\u001b[1;33m\u001b[0m\u001b[1;33m\u001b[0m\u001b[1;33m\u001b[0m\u001b[0m\n",
      "\u001b[1;32m~\\anaconda3\\lib\\site-packages\\sklearn\\model_selection\\_search.py\u001b[0m in \u001b[0;36m_run_search\u001b[1;34m(self, evaluate_candidates)\u001b[0m\n\u001b[0;32m   1186\u001b[0m     \u001b[1;32mdef\u001b[0m \u001b[0m_run_search\u001b[0m\u001b[1;33m(\u001b[0m\u001b[0mself\u001b[0m\u001b[1;33m,\u001b[0m \u001b[0mevaluate_candidates\u001b[0m\u001b[1;33m)\u001b[0m\u001b[1;33m:\u001b[0m\u001b[1;33m\u001b[0m\u001b[1;33m\u001b[0m\u001b[0m\n\u001b[0;32m   1187\u001b[0m         \u001b[1;34m\"\"\"Search all candidates in param_grid\"\"\"\u001b[0m\u001b[1;33m\u001b[0m\u001b[1;33m\u001b[0m\u001b[0m\n\u001b[1;32m-> 1188\u001b[1;33m         \u001b[0mevaluate_candidates\u001b[0m\u001b[1;33m(\u001b[0m\u001b[0mParameterGrid\u001b[0m\u001b[1;33m(\u001b[0m\u001b[0mself\u001b[0m\u001b[1;33m.\u001b[0m\u001b[0mparam_grid\u001b[0m\u001b[1;33m)\u001b[0m\u001b[1;33m)\u001b[0m\u001b[1;33m\u001b[0m\u001b[1;33m\u001b[0m\u001b[0m\n\u001b[0m\u001b[0;32m   1189\u001b[0m \u001b[1;33m\u001b[0m\u001b[0m\n\u001b[0;32m   1190\u001b[0m \u001b[1;33m\u001b[0m\u001b[0m\n",
      "\u001b[1;32m~\\anaconda3\\lib\\site-packages\\sklearn\\model_selection\\_search.py\u001b[0m in \u001b[0;36mevaluate_candidates\u001b[1;34m(candidate_params)\u001b[0m\n\u001b[0;32m    706\u001b[0m                               n_splits, n_candidates, n_candidates * n_splits))\n\u001b[0;32m    707\u001b[0m \u001b[1;33m\u001b[0m\u001b[0m\n\u001b[1;32m--> 708\u001b[1;33m                 out = parallel(delayed(_fit_and_score)(clone(base_estimator),\n\u001b[0m\u001b[0;32m    709\u001b[0m                                                        \u001b[0mX\u001b[0m\u001b[1;33m,\u001b[0m \u001b[0my\u001b[0m\u001b[1;33m,\u001b[0m\u001b[1;33m\u001b[0m\u001b[1;33m\u001b[0m\u001b[0m\n\u001b[0;32m    710\u001b[0m                                                        \u001b[0mtrain\u001b[0m\u001b[1;33m=\u001b[0m\u001b[0mtrain\u001b[0m\u001b[1;33m,\u001b[0m \u001b[0mtest\u001b[0m\u001b[1;33m=\u001b[0m\u001b[0mtest\u001b[0m\u001b[1;33m,\u001b[0m\u001b[1;33m\u001b[0m\u001b[1;33m\u001b[0m\u001b[0m\n",
      "\u001b[1;32m~\\anaconda3\\lib\\site-packages\\joblib\\parallel.py\u001b[0m in \u001b[0;36m__call__\u001b[1;34m(self, iterable)\u001b[0m\n\u001b[0;32m   1040\u001b[0m \u001b[1;33m\u001b[0m\u001b[0m\n\u001b[0;32m   1041\u001b[0m             \u001b[1;32mwith\u001b[0m \u001b[0mself\u001b[0m\u001b[1;33m.\u001b[0m\u001b[0m_backend\u001b[0m\u001b[1;33m.\u001b[0m\u001b[0mretrieval_context\u001b[0m\u001b[1;33m(\u001b[0m\u001b[1;33m)\u001b[0m\u001b[1;33m:\u001b[0m\u001b[1;33m\u001b[0m\u001b[1;33m\u001b[0m\u001b[0m\n\u001b[1;32m-> 1042\u001b[1;33m                 \u001b[0mself\u001b[0m\u001b[1;33m.\u001b[0m\u001b[0mretrieve\u001b[0m\u001b[1;33m(\u001b[0m\u001b[1;33m)\u001b[0m\u001b[1;33m\u001b[0m\u001b[1;33m\u001b[0m\u001b[0m\n\u001b[0m\u001b[0;32m   1043\u001b[0m             \u001b[1;31m# Make sure that we get a last message telling us we are done\u001b[0m\u001b[1;33m\u001b[0m\u001b[1;33m\u001b[0m\u001b[1;33m\u001b[0m\u001b[0m\n\u001b[0;32m   1044\u001b[0m             \u001b[0melapsed_time\u001b[0m \u001b[1;33m=\u001b[0m \u001b[0mtime\u001b[0m\u001b[1;33m.\u001b[0m\u001b[0mtime\u001b[0m\u001b[1;33m(\u001b[0m\u001b[1;33m)\u001b[0m \u001b[1;33m-\u001b[0m \u001b[0mself\u001b[0m\u001b[1;33m.\u001b[0m\u001b[0m_start_time\u001b[0m\u001b[1;33m\u001b[0m\u001b[1;33m\u001b[0m\u001b[0m\n",
      "\u001b[1;32m~\\anaconda3\\lib\\site-packages\\joblib\\parallel.py\u001b[0m in \u001b[0;36mretrieve\u001b[1;34m(self)\u001b[0m\n\u001b[0;32m    919\u001b[0m             \u001b[1;32mtry\u001b[0m\u001b[1;33m:\u001b[0m\u001b[1;33m\u001b[0m\u001b[1;33m\u001b[0m\u001b[0m\n\u001b[0;32m    920\u001b[0m                 \u001b[1;32mif\u001b[0m \u001b[0mgetattr\u001b[0m\u001b[1;33m(\u001b[0m\u001b[0mself\u001b[0m\u001b[1;33m.\u001b[0m\u001b[0m_backend\u001b[0m\u001b[1;33m,\u001b[0m \u001b[1;34m'supports_timeout'\u001b[0m\u001b[1;33m,\u001b[0m \u001b[1;32mFalse\u001b[0m\u001b[1;33m)\u001b[0m\u001b[1;33m:\u001b[0m\u001b[1;33m\u001b[0m\u001b[1;33m\u001b[0m\u001b[0m\n\u001b[1;32m--> 921\u001b[1;33m                     \u001b[0mself\u001b[0m\u001b[1;33m.\u001b[0m\u001b[0m_output\u001b[0m\u001b[1;33m.\u001b[0m\u001b[0mextend\u001b[0m\u001b[1;33m(\u001b[0m\u001b[0mjob\u001b[0m\u001b[1;33m.\u001b[0m\u001b[0mget\u001b[0m\u001b[1;33m(\u001b[0m\u001b[0mtimeout\u001b[0m\u001b[1;33m=\u001b[0m\u001b[0mself\u001b[0m\u001b[1;33m.\u001b[0m\u001b[0mtimeout\u001b[0m\u001b[1;33m)\u001b[0m\u001b[1;33m)\u001b[0m\u001b[1;33m\u001b[0m\u001b[1;33m\u001b[0m\u001b[0m\n\u001b[0m\u001b[0;32m    922\u001b[0m                 \u001b[1;32melse\u001b[0m\u001b[1;33m:\u001b[0m\u001b[1;33m\u001b[0m\u001b[1;33m\u001b[0m\u001b[0m\n\u001b[0;32m    923\u001b[0m                     \u001b[0mself\u001b[0m\u001b[1;33m.\u001b[0m\u001b[0m_output\u001b[0m\u001b[1;33m.\u001b[0m\u001b[0mextend\u001b[0m\u001b[1;33m(\u001b[0m\u001b[0mjob\u001b[0m\u001b[1;33m.\u001b[0m\u001b[0mget\u001b[0m\u001b[1;33m(\u001b[0m\u001b[1;33m)\u001b[0m\u001b[1;33m)\u001b[0m\u001b[1;33m\u001b[0m\u001b[1;33m\u001b[0m\u001b[0m\n",
      "\u001b[1;32m~\\anaconda3\\lib\\site-packages\\joblib\\_parallel_backends.py\u001b[0m in \u001b[0;36mwrap_future_result\u001b[1;34m(future, timeout)\u001b[0m\n\u001b[0;32m    540\u001b[0m         AsyncResults.get from multiprocessing.\"\"\"\n\u001b[0;32m    541\u001b[0m         \u001b[1;32mtry\u001b[0m\u001b[1;33m:\u001b[0m\u001b[1;33m\u001b[0m\u001b[1;33m\u001b[0m\u001b[0m\n\u001b[1;32m--> 542\u001b[1;33m             \u001b[1;32mreturn\u001b[0m \u001b[0mfuture\u001b[0m\u001b[1;33m.\u001b[0m\u001b[0mresult\u001b[0m\u001b[1;33m(\u001b[0m\u001b[0mtimeout\u001b[0m\u001b[1;33m=\u001b[0m\u001b[0mtimeout\u001b[0m\u001b[1;33m)\u001b[0m\u001b[1;33m\u001b[0m\u001b[1;33m\u001b[0m\u001b[0m\n\u001b[0m\u001b[0;32m    543\u001b[0m         \u001b[1;32mexcept\u001b[0m \u001b[0mCfTimeoutError\u001b[0m \u001b[1;32mas\u001b[0m \u001b[0me\u001b[0m\u001b[1;33m:\u001b[0m\u001b[1;33m\u001b[0m\u001b[1;33m\u001b[0m\u001b[0m\n\u001b[0;32m    544\u001b[0m             \u001b[1;32mraise\u001b[0m \u001b[0mTimeoutError\u001b[0m \u001b[1;32mfrom\u001b[0m \u001b[0me\u001b[0m\u001b[1;33m\u001b[0m\u001b[1;33m\u001b[0m\u001b[0m\n",
      "\u001b[1;32m~\\anaconda3\\lib\\concurrent\\futures\\_base.py\u001b[0m in \u001b[0;36mresult\u001b[1;34m(self, timeout)\u001b[0m\n\u001b[0;32m    432\u001b[0m                 \u001b[1;32mreturn\u001b[0m \u001b[0mself\u001b[0m\u001b[1;33m.\u001b[0m\u001b[0m__get_result\u001b[0m\u001b[1;33m(\u001b[0m\u001b[1;33m)\u001b[0m\u001b[1;33m\u001b[0m\u001b[1;33m\u001b[0m\u001b[0m\n\u001b[0;32m    433\u001b[0m \u001b[1;33m\u001b[0m\u001b[0m\n\u001b[1;32m--> 434\u001b[1;33m             \u001b[0mself\u001b[0m\u001b[1;33m.\u001b[0m\u001b[0m_condition\u001b[0m\u001b[1;33m.\u001b[0m\u001b[0mwait\u001b[0m\u001b[1;33m(\u001b[0m\u001b[0mtimeout\u001b[0m\u001b[1;33m)\u001b[0m\u001b[1;33m\u001b[0m\u001b[1;33m\u001b[0m\u001b[0m\n\u001b[0m\u001b[0;32m    435\u001b[0m \u001b[1;33m\u001b[0m\u001b[0m\n\u001b[0;32m    436\u001b[0m             \u001b[1;32mif\u001b[0m \u001b[0mself\u001b[0m\u001b[1;33m.\u001b[0m\u001b[0m_state\u001b[0m \u001b[1;32min\u001b[0m \u001b[1;33m[\u001b[0m\u001b[0mCANCELLED\u001b[0m\u001b[1;33m,\u001b[0m \u001b[0mCANCELLED_AND_NOTIFIED\u001b[0m\u001b[1;33m]\u001b[0m\u001b[1;33m:\u001b[0m\u001b[1;33m\u001b[0m\u001b[1;33m\u001b[0m\u001b[0m\n",
      "\u001b[1;32m~\\anaconda3\\lib\\threading.py\u001b[0m in \u001b[0;36mwait\u001b[1;34m(self, timeout)\u001b[0m\n\u001b[0;32m    300\u001b[0m         \u001b[1;32mtry\u001b[0m\u001b[1;33m:\u001b[0m    \u001b[1;31m# restore state no matter what (e.g., KeyboardInterrupt)\u001b[0m\u001b[1;33m\u001b[0m\u001b[1;33m\u001b[0m\u001b[0m\n\u001b[0;32m    301\u001b[0m             \u001b[1;32mif\u001b[0m \u001b[0mtimeout\u001b[0m \u001b[1;32mis\u001b[0m \u001b[1;32mNone\u001b[0m\u001b[1;33m:\u001b[0m\u001b[1;33m\u001b[0m\u001b[1;33m\u001b[0m\u001b[0m\n\u001b[1;32m--> 302\u001b[1;33m                 \u001b[0mwaiter\u001b[0m\u001b[1;33m.\u001b[0m\u001b[0macquire\u001b[0m\u001b[1;33m(\u001b[0m\u001b[1;33m)\u001b[0m\u001b[1;33m\u001b[0m\u001b[1;33m\u001b[0m\u001b[0m\n\u001b[0m\u001b[0;32m    303\u001b[0m                 \u001b[0mgotit\u001b[0m \u001b[1;33m=\u001b[0m \u001b[1;32mTrue\u001b[0m\u001b[1;33m\u001b[0m\u001b[1;33m\u001b[0m\u001b[0m\n\u001b[0;32m    304\u001b[0m             \u001b[1;32melse\u001b[0m\u001b[1;33m:\u001b[0m\u001b[1;33m\u001b[0m\u001b[1;33m\u001b[0m\u001b[0m\n",
      "\u001b[1;31mKeyboardInterrupt\u001b[0m: "
     ]
    }
   ],
   "source": [
    "print(\" ------- Regional datas ------- \\n\")\n",
    "nn = MLPRegressor()\n",
    "model = Pipeline([('scaler', scaler), ('nn', nn)])\n",
    "\n",
    "grid_search = GridSearchCV(estimator = model, param_grid = grid_params, \n",
    "                              cv = cv, n_jobs = -1, verbose = 0)\n",
    "\n",
    "for data in datas_closest_point:\n",
    "    grid_search_train_test(data, grid_search)"
   ]
  },
  {
   "cell_type": "code",
   "execution_count": 41,
   "metadata": {},
   "outputs": [],
   "source": [
    "regional_score_nn = [0.894, 0.184, 0.674, 0.623]\n",
    "regional_score_nn_log = [0.933, 0.562, 0.707, 0.749]"
   ]
  },
  {
   "cell_type": "code",
   "execution_count": 20,
   "metadata": {},
   "outputs": [
    {
     "name": "stdout",
     "output_type": "stream",
     "text": [
      "\n",
      " ------- All datas ------- \n",
      "\n",
      "Whole dataset\n",
      "\tcross validation best score: \t 0.884\n",
      "\tbest params:  {'nn__alpha': 1e-05, 'nn__hidden_layer_sizes': (46, 100, 46, 20), 'nn__max_iter': 1000, 'nn__solver': 'lbfgs'}\n",
      "\tbest model test score: \t\t 0.883\n",
      "--------------------------------------------\n",
      " ------- Best all estimator on regional data ------- \n",
      "\n",
      "bulgaria_out_closest_point_mean_handle_custom_set \tbest all data model score: \t\t 0.896\n",
      "--------------------------------------------\n",
      "finland_out_closest_point_mean_handle_custom_set \tbest all data model score: \t\t 0.234\n",
      "--------------------------------------------\n",
      "france_out_closest_point_mean_handle_custom_set \tbest all data model score: \t\t 0.384\n",
      "--------------------------------------------\n",
      "italy_out_closest_point_mean_handle_custom_set \tbest all data model score: \t\t 0.638\n",
      "--------------------------------------------\n"
     ]
    },
    {
     "name": "stderr",
     "output_type": "stream",
     "text": [
      "C:\\Users\\minoc\\anaconda3\\lib\\site-packages\\sklearn\\neural_network\\_multilayer_perceptron.py:471: ConvergenceWarning: lbfgs failed to converge (status=1):\n",
      "STOP: TOTAL NO. of ITERATIONS REACHED LIMIT.\n",
      "\n",
      "Increase the number of iterations (max_iter) or scale the data as shown in:\n",
      "    https://scikit-learn.org/stable/modules/preprocessing.html\n",
      "  self.n_iter_ = _check_optimize_result(\"lbfgs\", opt_res, self.max_iter)\n"
     ]
    }
   ],
   "source": [
    "print(\"\\n ------- All datas ------- \\n\")\n",
    "best_all_estimator = grid_search_train_test(data_all, grid_search)\n",
    "\n",
    "print(\" ------- Best all estimator on regional data ------- \\n\")\n",
    "apply_trained_model(datas_closest_point, best_all_estimator)"
   ]
  },
  {
   "cell_type": "code",
   "execution_count": 40,
   "metadata": {},
   "outputs": [],
   "source": [
    "\n",
    "all_score_nn = [0.843, 0.167, 0.295, 0.577]\n",
    "all_score_nn_log = [0.896, 0.234, 0.384, 0.638]"
   ]
  },
  {
   "cell_type": "markdown",
   "metadata": {},
   "source": [
    "### Plot results"
   ]
  },
  {
   "cell_type": "code",
   "execution_count": 48,
   "metadata": {},
   "outputs": [],
   "source": [
    "regional_score = np.array([regional_score_dtr, regional_score_rfr, regional_score_svm, regional_score_nn])\n",
    "regional_score_log = np.array([regional_score_dtr_log, regional_score_rfr_log, regional_score_svm_log, regional_score_nn_log])\n",
    "\n",
    "all_score = np.array([all_score_dtr, all_score_rfr,  all_score_svm, all_score_nn])\n",
    "regional_label = ['bulgaria', 'finland', 'france', 'italy']\n",
    "model_label = ['decision tree', 'random forest', 'SVM', 'neural network']"
   ]
  },
  {
   "cell_type": "code",
   "execution_count": 51,
   "metadata": {},
   "outputs": [],
   "source": [
    "def plot_score(scores, x_label, bar_label, y_label):\n",
    "    N = len(x_label)\n",
    "    ind = np.arange(N)  # the x locations for the groups\n",
    "    width = 0.15 \n",
    "    fig = plt.figure(figsize=((20, 5)))\n",
    "\n",
    "    ax = fig.add_subplot(111)\n",
    "\n",
    "    axs = []\n",
    "\n",
    "    for i, score in enumerate(scores):\n",
    "        axs += [ax.bar(ind+width*i, score, width)]\n",
    "\n",
    "    ax.set_ylabel(y_label)\n",
    "    ax.legend((x for x in axs), (bar_label))\n",
    "    ax.set_xticks(ind+width*2.5)\n",
    "    ax.set_xticklabels( (x_label) )\n",
    "\n",
    "    def autolabel(rects):\n",
    "        for rect in rects:\n",
    "            h = rect.get_height()\n",
    "            ax.text(rect.get_x()+rect.get_width()/2., h + np.sign(h)*0.05, \"{:.3f}\".format(h),\n",
    "                    ha='center', va='bottom')\n",
    "    y_lim1 = np.min(scores) -0.1 if np.min(scores) -0.1 < 0 else 0\n",
    "    y_lim2 = np.max(scores) + 0.1 if np.max(scores) + 0.1 < 1.1 else 1.1\n",
    "    plt.ylim(y_lim1, y_lim2)\n",
    "    for x in axs:\n",
    "        autolabel(x)"
   ]
  },
  {
   "cell_type": "code",
   "execution_count": 52,
   "metadata": {},
   "outputs": [
    {
     "data": {
      "image/png": "[encoded data removed]",
      "text/plain": [
       "<Figure size 1440x360 with 1 Axes>"
      ]
     },
     "metadata": {
      "needs_background": "light"
     },
     "output_type": "display_data"
    }
   ],
   "source": [
    "plot_score(regional_score, regional_label, model_label, 'score')"
   ]
  },
  {
   "cell_type": "code",
   "execution_count": 53,
   "metadata": {},
   "outputs": [
    {
     "data": {
      "image/png": "[encoded data removed]",
      "text/plain": [
       "<Figure size 1440x360 with 1 Axes>"
      ]
     },
     "metadata": {
      "needs_background": "light"
     },
     "output_type": "display_data"
    }
   ],
   "source": [
    "plot_score(regional_score_log, regional_label, model_label, 'score')"
   ]
  },
  {
   "cell_type": "code",
   "execution_count": null,
   "metadata": {},
   "outputs": [],
   "source": []
  },
  {
   "cell_type": "code",
   "execution_count": 54,
   "metadata": {},
   "outputs": [
    {
     "data": {
      "image/png": "[encoded data removed]",
      "text/plain": [
       "<Figure size 1440x360 with 1 Axes>"
      ]
     },
     "metadata": {
      "needs_background": "light"
     },
     "output_type": "display_data"
    }
   ],
   "source": [
    "plot_score(all_score, regional_label, model_label, 'score')"
   ]
  },
  {
   "cell_type": "code",
   "execution_count": 55,
   "metadata": {},
   "outputs": [
    {
     "data": {
      "image/png": "[encoded data removed]",
      "text/plain": [
       "<Figure size 1440x360 with 1 Axes>"
      ]
     },
     "metadata": {
      "needs_background": "light"
     },
     "output_type": "display_data"
    }
   ],
   "source": [
    "diff = all_score - regional_score\n",
    "plot_score(diff, regional_label, model_label, 'score difference')"
   ]
  },
  {
   "cell_type": "markdown",
   "metadata": {},
   "source": [
    "### Leave one region out"
   ]
  },
  {
   "cell_type": "code",
   "execution_count": 9,
   "metadata": {},
   "outputs": [],
   "source": [
    "reg_idx = [0,1,2,3]\n",
    "comb = combinations(reg_idx, 3)\n",
    "\n",
    "for c in list(comb):\n",
    "    X_train = []\n",
    "    y_train = []\n",
    "    for i in c:\n",
    "        X_train.append(datas[i]['X'])\n",
    "        y_train.append(datas[i]['y'])\n",
    "        \n",
    "    X_train = np.vstack(X_train)\n",
    "    y_train = np.hstack(y_train)\n",
    "    \n",
    "    test_idx = list(set(reg_idx) - set(c))[0]\n",
    "   \n",
    "    X_test = datas[test_idx]['X']\n",
    "    y_test = datas[test_idx]['y']\n",
    "    \n",
    "    rfr = RandomForestRegressor(random_state = 42)\n",
    "    model = make_pipeline(scaler, rfr)\n",
    "    model.fit(X_train, y_train)\n",
    "    test_score = model.score(X_test, y_test)\n",
    "\n",
    "    print(\"Prediction of\", datas[test_idx]['name'], \"score: \", \"{:.3f}\".format(test_score))\n",
    "    print('------------------------------')"
   ]
  }
 ],
 "metadata": {
  "kernelspec": {
   "display_name": "Python 3",
   "language": "python",
   "name": "python3"
  },
  "language_info": {
   "codemirror_mode": {
    "name": "ipython",
    "version": 3
   },
   "file_extension": ".py",
   "mimetype": "text/x-python",
   "name": "python",
   "nbconvert_exporter": "python",
   "pygments_lexer": "ipython3",
   "version": "3.8.3"
  }
 },
 "nbformat": 4,
 "nbformat_minor": 4
}
