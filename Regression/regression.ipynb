{
 "cells": [
  {
   "cell_type": "markdown",
   "metadata": {},
   "source": [
    "# Regression on biodiversity index"
   ]
  },
  {
   "cell_type": "markdown",
   "metadata": {},
   "source": [
    "We are going to test different models on our dataset, trying to get a better results using a grid search and the testing the models on a dataset of a different region.\n",
    "\n",
    "For each model we're going to use a RandomizedSearchCV to narrow our parameters research and the the GridSearchCV to find the best one."
   ]
  },
  {
   "cell_type": "code",
   "execution_count": 79,
   "metadata": {},
   "outputs": [],
   "source": [
    "import pandas as pd\n",
    "import numpy as np\n",
    "import glob\n",
    "import os\n",
    "import sys\n",
    "import torch\n",
    "from itertools import combinations \n",
    "\n",
    "from scipy.stats import uniform, randint\n",
    "from sklearn.decomposition import PCA\n",
    "\n",
    "from sklearn import preprocessing\n",
    "\n",
    "from sklearn.pipeline import make_pipeline, Pipeline\n",
    "\n",
    "from sklearn.model_selection import train_test_split\n",
    "from sklearn.model_selection import cross_val_score\n",
    "from sklearn.model_selection import KFold\n",
    "from sklearn.model_selection import RandomizedSearchCV\n",
    "from sklearn.model_selection import GridSearchCV\n",
    "\n",
    "from sklearn.linear_model import LinearRegression\n",
    "from sklearn.ensemble import RandomForestRegressor \n",
    "from sklearn.tree import DecisionTreeRegressor\n",
    "from sklearn.neural_network import MLPRegressor\n",
    "\n",
    "import xgboost as xgb\n",
    "\n",
    "module_this = os.path.abspath(os.path.join(os.getcwd()))\n",
    "modules = [ module_this]\n",
    "\n",
    "for module in modules:\n",
    "    if module not in sys.path:\n",
    "        sys.path.append(module)\n",
    "\n",
    "import utils as ut"
   ]
  },
  {
   "cell_type": "code",
   "execution_count": 15,
   "metadata": {},
   "outputs": [],
   "source": [
    "def report_best_scores(results, n_top=3):\n",
    "    for i in range(1, n_top + 1):\n",
    "        candidates = np.flatnonzero(results['rank_test_score'] == i)\n",
    "        for candidate in candidates:\n",
    "            print(\"Model with rank: {0}\".format(i))\n",
    "            print(\"Mean validation score: {0:.3f} (std: {1:.3f})\".format(\n",
    "                  results['mean_test_score'][candidate],\n",
    "                  results['std_test_score'][candidate]))\n",
    "            print(\"Parameters: {0}\".format(results['params'][candidate]))\n",
    "            print(\"\")"
   ]
  },
  {
   "cell_type": "markdown",
   "metadata": {},
   "source": [
    "## Load Datasets"
   ]
  },
  {
   "cell_type": "code",
   "execution_count": 36,
   "metadata": {},
   "outputs": [],
   "source": [
    "folder = \"../Dataset\"\n",
    "regression_label = 'habitat_richness'\n",
    "test_size = 0.2\n",
    "swi_labels = ['SWI1km-SWI-002', 'SWI1km-SWI-100', 'SWI1km-SWI-040', 'SWI1km-SWI-005', \n",
    "              'SWI1km-SWI-010', 'SWI1km-SWI-060', 'SWI1km-SWI-015', 'SWI1km-SWI-020']\n",
    "\n",
    "datas = []\n",
    "\n",
    "paths = [f for f in glob.glob(folder + \"/*.csv\") if 'closest_point_mean' in f and 'finland' not in f]\n",
    "paths += [f for f in glob.glob(folder + \"/*.csv\") if 'remove' in f and 'finland' in f]\n",
    "for path in paths:\n",
    "    df = pd.read_csv(path, index_col=['longitude', 'latitude'])\n",
    "\n",
    "    if(df.isna().any().any()):\n",
    "        print(path, '\\t has ', df.isna().any().sum(), ' row with null values')\n",
    "    \n",
    "    y = df[regression_label].values\n",
    "    X = df.drop(columns=[regression_label]).values\n",
    "    \n",
    "    X_train, X_test, y_train, y_test = train_test_split(X, y, test_size=test_size, random_state=42, shuffle=True)\n",
    "    datas.append({'name': path[11:-4], 'dataframe': df, 'y': y, 'X': X, \n",
    "                'X_train': X_train, 'X_test': X_test, \n",
    "            'y_train': y_train, 'y_test': y_test})"
   ]
  },
  {
   "cell_type": "code",
   "execution_count": 37,
   "metadata": {},
   "outputs": [
    {
     "name": "stdout",
     "output_type": "stream",
     "text": [
      "bulgaria_out_closest_point_mean_handle_custom_set \t--\t (14458, 47)\n",
      "france_out_closest_point_mean_handle_custom_set \t--\t (1882, 47)\n",
      "italy_out_closest_point_mean_handle_custom_set \t--\t (17387, 47)\n",
      "finland_out_remove_handle_set_null \t--\t (17654, 47)\n"
     ]
    },
    {
     "data": {
      "text/plain": [
       "[None, None, None, None]"
      ]
     },
     "execution_count": 37,
     "metadata": {},
     "output_type": "execute_result"
    }
   ],
   "source": [
    "[print(x['name'], \"\\t--\\t\",x['dataframe'].shape) for x in datas]"
   ]
  },
  {
   "cell_type": "markdown",
   "metadata": {},
   "source": [
    "## Random Forest Regressor"
   ]
  },
  {
   "cell_type": "code",
   "execution_count": 38,
   "metadata": {},
   "outputs": [],
   "source": [
    "cv = KFold(n_splits=5, shuffle=True, random_state = 42)\n",
    "scaler = preprocessing.MinMaxScaler()"
   ]
  },
  {
   "cell_type": "markdown",
   "metadata": {},
   "source": [
    "Testing datasets with all available features"
   ]
  },
  {
   "cell_type": "code",
   "execution_count": 34,
   "metadata": {},
   "outputs": [
    {
     "name": "stdout",
     "output_type": "stream",
     "text": [
      "finland_out_closest_point_mean_handle_custom_set \t validation score: \t 0.717  +/-  0.003\n",
      "finland_out_closest_point_mean_handle_custom_set \t test score: \t\t 0.712\n",
      "--------------------------------------------\n",
      "finland_out_knn_handle_custom_set \t validation score: \t 0.716  +/-  0.003\n",
      "finland_out_knn_handle_custom_set \t test score: \t\t 0.712\n",
      "--------------------------------------------\n",
      "finland_out_mean_handle_custom_set \t validation score: \t 0.717  +/-  0.003\n",
      "finland_out_mean_handle_custom_set \t test score: \t\t 0.711\n",
      "--------------------------------------------\n",
      "finland_out_remove_handle_set_null \t validation score: \t 0.711  +/-  0.008\n",
      "finland_out_remove_handle_set_null \t test score: \t\t 0.720\n",
      "--------------------------------------------\n"
     ]
    }
   ],
   "source": [
    "for data in datas:\n",
    "    rfr = RandomForestRegressor(random_state = 42)\n",
    "    model = make_pipeline(scaler, rfr)\n",
    "    val_score = cross_val_score(model, data['X_train'], data['y_train'], cv=cv, n_jobs=-1, verbose=0)\n",
    "    data['val_score'] = val_score\n",
    "    print(data['name'], \"\\t validation score: \\t\", \"{:.3f}\".format(val_score.mean()), \" +/- \", \"{:.3f}\".format(val_score.std()))\n",
    "    model.fit(data['X_train'], data['y_train'])\n",
    "    #print(model.score(data['X_train'], data['y_train']))\n",
    "    test_score = model.score(data['X_test'], data['y_test'])\n",
    "    print(data['name'], \"\\t test score: \\t\\t\", \"{:.3f}\".format(test_score))\n",
    "    print('--------------------------------------------')"
   ]
  },
  {
   "cell_type": "markdown",
   "metadata": {},
   "source": [
    "Parameters for RandomSearch"
   ]
  },
  {
   "cell_type": "code",
   "execution_count": 9,
   "metadata": {},
   "outputs": [
    {
     "data": {
      "text/plain": [
       "{'rfr__n_estimators': [50, 100, 200, 500, 1000],\n",
       " 'rfr__max_features': ['auto', 'sqrt'],\n",
       " 'rfr__max_depth': [50, None],\n",
       " 'rfr__min_samples_split': [2, 5, 10],\n",
       " 'rfr__min_samples_leaf': [1, 2, 4],\n",
       " 'rfr__bootstrap': [True, False]}"
      ]
     },
     "execution_count": 9,
     "metadata": {},
     "output_type": "execute_result"
    }
   ],
   "source": [
    "n_estimators = [50, 100, 200, 500, 1000]\n",
    "max_features = ['auto', 'sqrt']\n",
    "max_depth = [10, 20, 50, 100, None]\n",
    "max_depth = [50]\n",
    "max_depth.append(None)\n",
    "min_samples_split = [2, 5, 10]\n",
    "min_samples_leaf = [1, 2, 4]\n",
    "bootstrap = [True, False]\n",
    "\n",
    "grid_params = {'rfr__n_estimators': n_estimators,\n",
    "               'rfr__max_features': max_features,\n",
    "               'rfr__max_depth': max_depth,\n",
    "               'rfr__min_samples_split': min_samples_split,\n",
    "               'rfr__min_samples_leaf': min_samples_leaf,\n",
    "               'rfr__bootstrap': bootstrap}\n",
    "grid_params"
   ]
  },
  {
   "cell_type": "code",
   "execution_count": null,
   "metadata": {},
   "outputs": [
    {
     "name": "stdout",
     "output_type": "stream",
     "text": [
      "Fitting 5 folds for each of 360 candidates, totalling 1800 fits\n"
     ]
    },
    {
     "name": "stderr",
     "output_type": "stream",
     "text": [
      "[Parallel(n_jobs=-1)]: Using backend LokyBackend with 4 concurrent workers.\n",
      "[Parallel(n_jobs=-1)]: Done  42 tasks      | elapsed: 25.6min\n",
      "[Parallel(n_jobs=-1)]: Done 192 tasks      | elapsed: 123.9min\n",
      "[Parallel(n_jobs=-1)]: Done 442 tasks      | elapsed: 168.7min\n",
      "[Parallel(n_jobs=-1)]: Done 792 tasks      | elapsed: 325.9min\n"
     ]
    }
   ],
   "source": [
    "\n",
    "for data in datas:\n",
    "    rfr = RandomForestRegressor()\n",
    "    model = Pipeline([('scaler', scaler), ('rfr', rfr)])\n",
    "\n",
    "    grid_search = GridSearchCV(estimator = model, param_grid = grid_params, \n",
    "                              cv = cv, n_jobs = -1, verbose = 1)\n",
    "    grid_search.fit(data['X_train'], data['y_train'])\n",
    "    print(data['name'], ' cross validation best score: \\t',  \"{:.3f}\".format(grid_search.best_score_))\n",
    "    torch.save(grid_search.best_params_, data['name'] + \"__bset_params\")\n",
    "    data['rfr_best'] = grid_search.best_params_\n",
    "    \n",
    "    best_model = grid_search.best_estimator_\n",
    "    best_model.fit(data['X_train'], data['y_train'])\n",
    "    test_score = best_model.score(data['X_test'], data['y_test'])\n",
    "    print(data['name'], \"\\t best model test score: \\t\\t\", \"{:.3f}\".format(test_score))\n",
    "    print('--------------------------------------------')\n",
    "    "
   ]
  },
  {
   "cell_type": "markdown",
   "metadata": {},
   "source": [
    "## Working with all data"
   ]
  },
  {
   "cell_type": "code",
   "execution_count": 76,
   "metadata": {},
   "outputs": [],
   "source": [
    "X_all = np.vstack((datas[0]['X'], datas[1]['X'], datas[2]['X'], datas[3]['X']))\n",
    "y_all = np.concatenate((datas[0]['y'], datas[1]['y'], datas[2]['y'], datas[3]['y']))\n",
    "\n",
    "region_id = np.hstack(np.array([[i] * d['X'].shape[0] for i, d in enumerate(datas)]))\n",
    "\n",
    "X_train, X_test, y_train, y_test = train_test_split(X_all, y_all, test_size=0.2, stratify=region_id, random_state=42)\n"
   ]
  },
  {
   "cell_type": "code",
   "execution_count": 77,
   "metadata": {},
   "outputs": [],
   "source": [
    "cv = KFold(n_splits=5, shuffle=True, random_state = 42)\n",
    "scaler = preprocessing.MinMaxScaler()"
   ]
  },
  {
   "cell_type": "code",
   "execution_count": 78,
   "metadata": {},
   "outputs": [
    {
     "name": "stdout",
     "output_type": "stream",
     "text": [
      "All data validation score: \t 0.962  +/-  0.001\n",
      "finland_out_remove_handle_set_null \t test score: \t\t -0.070\n",
      "--------------------------------------------\n"
     ]
    }
   ],
   "source": [
    "rfr = RandomForestRegressor(random_state = 42)\n",
    "model = make_pipeline(scaler, rfr)\n",
    "val_score = cross_val_score(model, X_train, y_train, cv=cv, n_jobs=-1, verbose=0)\n",
    "print(\"All data validation score: \\t\", \"{:.3f}\".format(val_score.mean()), \" +/- \", \"{:.3f}\".format(val_score.std()))\n",
    "model.fit(X_train, y_train)\n",
    "test_score = model.score(X_test, y_test)\n",
    "print(data['name'], \"\\t test score: \\t\\t\", \"{:.3f}\".format(test_score))\n",
    "print('--------------------------------------------')"
   ]
  },
  {
   "cell_type": "markdown",
   "metadata": {},
   "source": [
    "### Leave one region out"
   ]
  },
  {
   "cell_type": "code",
   "execution_count": 114,
   "metadata": {},
   "outputs": [
    {
     "name": "stdout",
     "output_type": "stream",
     "text": [
      "Prediction of finland_out_remove_handle_set_null score:  -26.166\n",
      "------------------------------\n",
      "Prediction of italy_out_closest_point_mean_handle_custom_set score:  -5.524\n",
      "------------------------------\n",
      "Prediction of france_out_closest_point_mean_handle_custom_set score:  -0.908\n",
      "------------------------------\n",
      "Prediction of bulgaria_out_closest_point_mean_handle_custom_set score:  -2.060\n",
      "------------------------------\n"
     ]
    }
   ],
   "source": [
    "reg_idx = [0,1,2,3]\n",
    "comb = combinations(reg_idx, 3)\n",
    "\n",
    "for c in list(comb):\n",
    "    X_train = []\n",
    "    y_train = []\n",
    "    for i in c:\n",
    "        X_train.append(datas[i]['X'])\n",
    "        y_train.append(datas[i]['y'])\n",
    "        \n",
    "    X_train = np.vstack(X_train)\n",
    "    y_train = np.hstack(y_train)\n",
    "    \n",
    "    test_idx = list(set(reg_idx) - set(c))[0]\n",
    "   \n",
    "    X_test = datas[test_idx]['X']\n",
    "    y_test = datas[test_idx]['y']\n",
    "    \n",
    "    rfr = RandomForestRegressor(random_state = 42)\n",
    "    model = make_pipeline(scaler, rfr)\n",
    "    model.fit(X_train, y_train)\n",
    "    test_score = model.score(X_test, y_test)\n",
    "\n",
    "    print(\"Prediction of\", datas[test_idx]['name'], \"score: \", \"{:.3f}\".format(test_score))\n",
    "    print('------------------------------')\n",
    "    \n",
    "    "
   ]
  },
  {
   "cell_type": "code",
   "execution_count": null,
   "metadata": {},
   "outputs": [],
   "source": []
  }
 ],
 "metadata": {
  "kernelspec": {
   "display_name": "Python 3",
   "language": "python",
   "name": "python3"
  },
  "language_info": {
   "codemirror_mode": {
    "name": "ipython",
    "version": 3
   },
   "file_extension": ".py",
   "mimetype": "text/x-python",
   "name": "python",
   "nbconvert_exporter": "python",
   "pygments_lexer": "ipython3",
   "version": "3.8.5"
  }
 },
 "nbformat": 4,
 "nbformat_minor": 4
}
