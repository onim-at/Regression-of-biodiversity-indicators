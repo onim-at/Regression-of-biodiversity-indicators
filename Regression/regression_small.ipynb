{
 "cells": [
  {
   "cell_type": "markdown",
   "metadata": {},
   "source": [
    "# Regression on biodiversity index"
   ]
  },
  {
   "cell_type": "markdown",
   "metadata": {},
   "source": [
    "We are going to test different models on our dataset, trying to get a better results using a grid search and the testing the models on a dataset of a different region.\n",
    "\n",
    "For each model we're going to use a RandomizedSearchCV to narrow our parameters research and the the GridSearchCV to find the best one."
   ]
  },
  {
   "cell_type": "code",
   "execution_count": 1,
   "metadata": {},
   "outputs": [],
   "source": [
    "import pandas as pd\n",
    "import numpy as np\n",
    "import glob\n",
    "import os\n",
    "import sys\n",
    "import torch\n",
    "\n",
    "import matplotlib.pyplot  as plt \n",
    "from itertools import combinations \n",
    "from typing import Dict, Any\n",
    "from scipy.stats import uniform, randint\n",
    "from sklearn.decomposition import PCA\n",
    "\n",
    "from sklearn import preprocessing\n",
    "\n",
    "from sklearn.pipeline import make_pipeline, Pipeline\n",
    "\n",
    "from sklearn.model_selection import train_test_split\n",
    "from sklearn.model_selection import cross_val_score\n",
    "from sklearn.model_selection import KFold\n",
    "from sklearn.model_selection import RandomizedSearchCV\n",
    "from sklearn.model_selection import GridSearchCV\n",
    "\n",
    "from sklearn.linear_model import LinearRegression\n",
    "from sklearn.ensemble import RandomForestRegressor \n",
    "from sklearn.tree import DecisionTreeRegressor\n",
    "from sklearn.neural_network import MLPRegressor\n",
    "from sklearn.svm import SVR\n",
    "\n",
    "module_this = os.path.abspath(os.path.join(os.getcwd()))\n",
    "modules = [ module_this]\n",
    "\n",
    "for module in modules:\n",
    "    if module not in sys.path:\n",
    "        sys.path.append(module)\n",
    "\n",
    "import utils as ut"
   ]
  },
  {
   "cell_type": "markdown",
   "metadata": {},
   "source": [
    "## Load Datasets"
   ]
  },
  {
   "cell_type": "code",
   "execution_count": 24,
   "metadata": {},
   "outputs": [],
   "source": [
    "folder = \"../Dataset/images/\"\n",
    "regression_label = 'habitat_richness'\n",
    "test_size = 0.2\n",
    "#swi_labels = ['SWI1km-SWI-002', 'SWI1km-SWI-100', 'SWI1km-SWI-040', 'SWI1km-SWI-005', \n",
    "#              'SWI1km-SWI-010', 'SWI1km-SWI-060', 'SWI1km-SWI-015', 'SWI1km-SWI-020']\n",
    "\n",
    "\n",
    "\n",
    "\n",
    "df_train = pd.read_csv(folder + \"/italy_train.csv\", index_col=['longitude', 'latitude'])\n",
    "df_val = pd.read_csv(folder + \"/italy_validation.csv\", index_col=['longitude', 'latitude'])\n",
    "df_test = pd.read_csv(folder + \"/italy_test.csv\", index_col=['longitude', 'latitude'])\n",
    "df_train.append(df_val)\n",
    "X_train = df_train.drop(columns=[regression_label]).values\n",
    "y_train = df_train[regression_label].values\n",
    "X_test = df_test.drop(columns=[regression_label]).values\n",
    "y_test = df_test[regression_label].values\n",
    "\n",
    "\n",
    "data = {'name': 'italy',  'X_train': X_train, 'X_test': X_test, \n",
    "            'y_train': y_train, 'y_test': y_test}\n",
    "\n",
    "cv = KFold(n_splits=4, shuffle=True, random_state = 42)\n",
    "scaler = preprocessing.MinMaxScaler()\n"
   ]
  },
  {
   "cell_type": "markdown",
   "metadata": {},
   "source": [
    "## Grid search"
   ]
  },
  {
   "cell_type": "code",
   "execution_count": 49,
   "metadata": {},
   "outputs": [],
   "source": [
    "def grid_search_train_test(data, grid_search):\n",
    "    print(data['name'])\n",
    "    grid_search.fit(data['X_train'], np.log(data['y_train']))\n",
    "    print('\\tcross validation best score: \\t',  \"{:.3f}\".format(grid_search.best_score_))\n",
    "    print('\\tbest params: ', grid_search.best_params_)\n",
    "    best_model = grid_search.best_estimator_\n",
    "    test_score = best_model.score(data['X_test'], np.log(data['y_test']))\n",
    "    train_score = best_model.score(data['X_train'], np.log(data['y_train']))\n",
    "    print(\"\\tbest model train score: \\t\\t\", \"{:.3f}\".format(train_score))\n",
    "    print(\"\\tbest model test score: \\t\\t\", \"{:.3f}\".format(test_score))\n",
    "    print('--------------------------------------------')\n",
    "    return grid_search.best_estimator_\n",
    "\n",
    "def model_train_test(data, model, cv):\n",
    "    print(data['name'])\n",
    "    val_score = cross_val_score(model, data['X_train'], np.log(data['y_train']), cv=cv, n_jobs=-1, verbose=0)\n",
    "    print('all scores:', val_score)\n",
    "    print(\"\\t validation score: \\t\", \"{:.3f}\".format(val_score.mean()), \" +/- \", \"{:.3f}\".format(val_score.std()*2))\n",
    "    model.fit(data['X_train'], data['y_train'])\n",
    "    test_score = model.score(data['X_test'], np.log(data['y_test']))\n",
    "    print(\"\\tbest model test score: \\t\\t\", \"{:.3f}\".format(test_score))\n",
    "    print('--------------------------------------------')\n",
    "    return model\n",
    "\n",
    "def apply_trained_model(datas, model):\n",
    "    for data in datas:\n",
    "        test_score = model.score(data['X_test'], np.log(data['y_test']))\n",
    "        print(data['name'], \"\\tbest all data model score: \\t\\t\", \"{:.3f}\".format(test_score))\n",
    "        print('--------------------------------------------')"
   ]
  },
  {
   "cell_type": "markdown",
   "metadata": {},
   "source": [
    "### Decision Tree"
   ]
  },
  {
   "cell_type": "code",
   "execution_count": 47,
   "metadata": {},
   "outputs": [
    {
     "data": {
      "text/plain": [
       "{'dtr__max_features': ['auto', 'sqrt'],\n",
       " 'dtr__criterion': ['mse', 'friedman_mse'],\n",
       " 'dtr__max_depth': [4, 8, 16, 32, None]}"
      ]
     },
     "execution_count": 47,
     "metadata": {},
     "output_type": "execute_result"
    }
   ],
   "source": [
    "max_features = ['auto', 'sqrt']\n",
    "criterion = ['mse', 'friedman_mse']\n",
    "max_depth = [4, 8, 16, 32, None]\n",
    "\n",
    "grid_params = {'dtr__max_features': max_features,\n",
    "              'dtr__criterion': criterion,\n",
    "              'dtr__max_depth': max_depth}\n",
    "grid_params"
   ]
  },
  {
   "cell_type": "code",
   "execution_count": 48,
   "metadata": {},
   "outputs": [
    {
     "name": "stdout",
     "output_type": "stream",
     "text": [
      " ------- Regional datas ------- \n",
      "\n",
      "italy\n",
      "\tcross validation best score: \t 0.718\n",
      "\tbest params:  {'dtr__criterion': 'mse', 'dtr__max_depth': 8, 'dtr__max_features': 'auto'}\n",
      "\tbest model test score: \t\t 0.820\n",
      "\tbest model test score: \t\t 0.729\n",
      "--------------------------------------------\n"
     ]
    },
    {
     "data": {
      "text/plain": [
       "Pipeline(steps=[('scaler', MinMaxScaler()),\n",
       "                ('dtr',\n",
       "                 DecisionTreeRegressor(max_depth=8, max_features='auto'))])"
      ]
     },
     "execution_count": 48,
     "metadata": {},
     "output_type": "execute_result"
    }
   ],
   "source": [
    "print(\" ------- Regional datas ------- \\n\")\n",
    "dtr = DecisionTreeRegressor()\n",
    "model = Pipeline([('scaler', scaler), ('dtr', dtr)])\n",
    "\n",
    "grid_search = GridSearchCV(estimator = model, param_grid = grid_params, \n",
    "                              cv = cv, n_jobs = -1, verbose = 0)\n",
    "grid_search_train_test(data, grid_search)"
   ]
  },
  {
   "cell_type": "markdown",
   "metadata": {},
   "source": [
    "### Random Forest Regressor"
   ]
  },
  {
   "cell_type": "code",
   "execution_count": 28,
   "metadata": {},
   "outputs": [],
   "source": [
    "n_estimators = [50, 100, 200]\n",
    "max_features = ['auto', 'sqrt']\n",
    "max_depth = [20, 50, None]\n",
    "min_samples_split = [2, 5]\n",
    "min_samples_leaf = [1, 4]\n",
    "bootstrap = [False, True]\n",
    "\n",
    "grid_params = {'rfr__n_estimators': n_estimators,\n",
    "               'rfr__max_features': max_features,\n",
    "               'rfr__max_depth': max_depth,\n",
    "               'rfr__min_samples_split': min_samples_split,\n",
    "               'rfr__min_samples_leaf': min_samples_leaf,\n",
    "               'rfr__bootstrap': bootstrap\n",
    "              }"
   ]
  },
  {
   "cell_type": "code",
   "execution_count": 29,
   "metadata": {},
   "outputs": [
    {
     "name": "stdout",
     "output_type": "stream",
     "text": [
      " ------- Regional datas ------- \n",
      "\n",
      "italy\n",
      "\tcross validation best score: \t 0.832\n",
      "\tbest params:  {'rfr__bootstrap': False, 'rfr__max_depth': 20, 'rfr__max_features': 'sqrt', 'rfr__min_samples_leaf': 1, 'rfr__min_samples_split': 2, 'rfr__n_estimators': 200}\n",
      "\tbest model test score: \t\t 0.850\n",
      "--------------------------------------------\n"
     ]
    },
    {
     "data": {
      "text/plain": [
       "Pipeline(steps=[('scaler', MinMaxScaler()),\n",
       "                ('rfr',\n",
       "                 RandomForestRegressor(bootstrap=False, max_depth=20,\n",
       "                                       max_features='sqrt',\n",
       "                                       n_estimators=200))])"
      ]
     },
     "execution_count": 29,
     "metadata": {},
     "output_type": "execute_result"
    }
   ],
   "source": [
    "print(\" ------- Regional datas ------- \\n\")\n",
    "rfr = RandomForestRegressor()\n",
    "model = Pipeline([('scaler', scaler), ('rfr', rfr)])\n",
    "\n",
    "grid_search = GridSearchCV(estimator = model, param_grid = grid_params, \n",
    "                              cv = cv, n_jobs = -1, verbose = 0)\n",
    "grid_search_train_test(data, grid_search)"
   ]
  },
  {
   "cell_type": "markdown",
   "metadata": {},
   "source": [
    "### SVM"
   ]
  },
  {
   "cell_type": "code",
   "execution_count": 30,
   "metadata": {},
   "outputs": [
    {
     "data": {
      "text/plain": [
       "{'svr__C': [0.1, 1, 10],\n",
       " 'svr__gamma': ['auto', 0.1, 0.01],\n",
       " 'svr__kernel': ['linear', 'rbf']}"
      ]
     },
     "execution_count": 30,
     "metadata": {},
     "output_type": "execute_result"
    }
   ],
   "source": [
    "C = [0.1, 1, 10]\n",
    "gamma = ['auto', 0.1, 0.01]\n",
    "kernel = ['linear', 'rbf']\n",
    "\n",
    "grid_params = {'svr__C': C,  \n",
    "              'svr__gamma': gamma, \n",
    "              'svr__kernel': kernel}  \n",
    "grid_params"
   ]
  },
  {
   "cell_type": "code",
   "execution_count": 31,
   "metadata": {},
   "outputs": [
    {
     "name": "stdout",
     "output_type": "stream",
     "text": [
      " ------- Regional datas ------- \n",
      "\n",
      "italy\n",
      "\tcross validation best score: \t 0.718\n",
      "\tbest params:  {'svr__C': 10, 'svr__gamma': 0.1, 'svr__kernel': 'rbf'}\n",
      "\tbest model test score: \t\t 0.714\n",
      "--------------------------------------------\n"
     ]
    },
    {
     "data": {
      "text/plain": [
       "Pipeline(steps=[('scaler', MinMaxScaler()), ('svr', SVR(C=10, gamma=0.1))])"
      ]
     },
     "execution_count": 31,
     "metadata": {},
     "output_type": "execute_result"
    }
   ],
   "source": [
    "print(\" ------- Regional datas ------- \\n\")\n",
    "svr = SVR()\n",
    "model = Pipeline([('scaler', scaler), ('svr', svr)])\n",
    "\n",
    "grid_search = GridSearchCV(estimator = model, param_grid = grid_params, \n",
    "                              cv = cv, n_jobs = -1, verbose = 0)\n",
    "\n",
    "grid_search_train_test(data, grid_search)"
   ]
  },
  {
   "cell_type": "markdown",
   "metadata": {},
   "source": [
    "## Neural Network"
   ]
  },
  {
   "cell_type": "code",
   "execution_count": 32,
   "metadata": {},
   "outputs": [
    {
     "data": {
      "text/plain": [
       "{'nn__solver': ['lbfgs'],\n",
       " 'nn__max_iter': [1000],\n",
       " 'nn__alpha': [0.001, 0.0001, 1e-05],\n",
       " 'nn__hidden_layer_sizes': [(100, 50), (46, 100, 46), (46, 100, 46, 20)]}"
      ]
     },
     "execution_count": 32,
     "metadata": {},
     "output_type": "execute_result"
    }
   ],
   "source": [
    "max_iter = [1000]\n",
    "alpha = [0.001, 0.0001, 0.00001]\n",
    "solver = ['lbfgs']\n",
    "hidden_layer_sizes = [(100, 50), (46, 100, 46), (46, 100, 46, 20)]\n",
    "\n",
    "grid_params = {'nn__solver': solver, \n",
    "               'nn__max_iter': max_iter,\n",
    "               'nn__alpha': alpha, \n",
    "               'nn__hidden_layer_sizes': hidden_layer_sizes\n",
    "              }\n",
    "grid_params"
   ]
  },
  {
   "cell_type": "code",
   "execution_count": 33,
   "metadata": {},
   "outputs": [
    {
     "name": "stdout",
     "output_type": "stream",
     "text": [
      " ------- Regional datas ------- \n",
      "\n",
      "italy\n",
      "\tcross validation best score: \t 0.774\n",
      "\tbest params:  {'nn__alpha': 0.001, 'nn__hidden_layer_sizes': (46, 100, 46, 20), 'nn__max_iter': 1000, 'nn__solver': 'lbfgs'}\n",
      "\tbest model test score: \t\t 0.779\n",
      "--------------------------------------------\n"
     ]
    },
    {
     "name": "stderr",
     "output_type": "stream",
     "text": [
      "C:\\Users\\minoc\\anaconda3\\lib\\site-packages\\sklearn\\neural_network\\_multilayer_perceptron.py:471: ConvergenceWarning: lbfgs failed to converge (status=1):\n",
      "STOP: TOTAL NO. of ITERATIONS REACHED LIMIT.\n",
      "\n",
      "Increase the number of iterations (max_iter) or scale the data as shown in:\n",
      "    https://scikit-learn.org/stable/modules/preprocessing.html\n",
      "  self.n_iter_ = _check_optimize_result(\"lbfgs\", opt_res, self.max_iter)\n"
     ]
    },
    {
     "data": {
      "text/plain": [
       "Pipeline(steps=[('scaler', MinMaxScaler()),\n",
       "                ('nn',\n",
       "                 MLPRegressor(alpha=0.001, hidden_layer_sizes=(46, 100, 46, 20),\n",
       "                              max_iter=1000, solver='lbfgs'))])"
      ]
     },
     "execution_count": 33,
     "metadata": {},
     "output_type": "execute_result"
    }
   ],
   "source": [
    "print(\" ------- Regional datas ------- \\n\")\n",
    "nn = MLPRegressor()\n",
    "model = Pipeline([('scaler', scaler), ('nn', nn)])\n",
    "best params =  {'nn__alpha': [0.001], 'nn__hidden_layer_sizes': [(46, 100, 46, 20)], 'nn__max_iter': [1000, 2000], 'nn__solver': ['lbfgs']}\n",
    "grid_search = GridSearchCV(estimator = model, param_grid = grid_params, \n",
    "                              cv = cv, n_jobs = -1, verbose = 0)\n",
    "grid_search_train_test(data, grid_search)"
   ]
  },
  {
   "cell_type": "markdown",
   "metadata": {},
   "source": [
    "### Plot results"
   ]
  },
  {
   "cell_type": "code",
   "execution_count": 32,
   "metadata": {},
   "outputs": [],
   "source": [
    "score = np.array([0.73, 0.85, 0.714, 0.799, 0.784])\n",
    "regional_label = ['italy']\n",
    "model_label = ['a', 'decision tree', 'random forest', 'SVM', 'neural network', 'Images + Feature NN']"
   ]
  },
  {
   "cell_type": "code",
   "execution_count": 33,
   "metadata": {},
   "outputs": [],
   "source": [
    "def plot_score(scores, x_label, bar_label, y_label):\n",
    "    N = len(x_label)\n",
    "    ind = np.arange(N)  # the x locations for the groups\n",
    "    width = 0.15 \n",
    "    fig = plt.figure(figsize=((10, 5)))\n",
    "\n",
    "    ax = fig.add_subplot(111)\n",
    "\n",
    "    axs = []\n",
    "\n",
    "    for i, score in enumerate(scores):\n",
    "        axs += [ax.bar(ind+width*i, score, width)]\n",
    "\n",
    "    ax.set_ylabel(y_label)\n",
    "    ax.legend((x for x in axs), (bar_label))\n",
    "    ax.set_xticks(ind+width*2.5)\n",
    "    ax.set_xticklabels( (x_label) )\n",
    "\n",
    "    def autolabel(rects):\n",
    "        for rect in rects:\n",
    "            h = rect.get_height()\n",
    "            ax.text(rect.get_x()+rect.get_width()/2., h + np.sign(h)*0.05, \"{:.3f}\".format(h),\n",
    "                    ha='center', va='bottom')\n",
    "    y_lim1 = np.min(scores) -0.1 if np.min(scores) -0.1 < 0 else 0\n",
    "    y_lim2 = np.max(scores) + 0.1 if np.max(scores) + 0.1 < 1.1 else 1.1\n",
    "    plt.ylim(y_lim1, y_lim2)\n",
    "    for x in axs:\n",
    "        autolabel(x)"
   ]
  },
  {
   "cell_type": "code",
   "execution_count": 34,
   "metadata": {},
   "outputs": [
    {
     "name": "stderr",
     "output_type": "stream",
     "text": [
      "<ipython-input-34-3019b595db66>:6: UserWarning: FixedFormatter should only be used together with FixedLocator\n",
      "  ax.set_xticklabels(model_label)\n"
     ]
    },
    {
     "data": {
      "image/png": "[encoded data removed]",
      "text/plain": [
       "<Figure size 720x360 with 1 Axes>"
      ]
     },
     "metadata": {
      "needs_background": "light"
     },
     "output_type": "display_data"
    }
   ],
   "source": [
    "x = np.arange(len(score))\n",
    "\n",
    "fig, ax = plt.subplots(figsize=(10,5))\n",
    "#ax.yaxis.set_major_formatter(formatter)\n",
    "x = ax.bar(x, score)\n",
    "ax.set_xticklabels(model_label)\n",
    "\n",
    "def autolabel(rects):\n",
    "    for rect in rects:\n",
    "        h = rect.get_height()\n",
    "        ax.text(rect.get_x()+rect.get_width()/2., h + np.sign(h)*0.01, \"{:.3f}\".format(h),\n",
    "                ha='center', va='bottom')\n",
    "autolabel(x)\n",
    "plt.ylim(0, 1)\n",
    "plt.show()"
   ]
  },
  {
   "cell_type": "code",
   "execution_count": 4,
   "metadata": {},
   "outputs": [
    {
     "data": {
      "image/png": "[encoded data removed]",
      "text/plain": [
       "<Figure size 720x360 with 1 Axes>"
      ]
     },
     "metadata": {
      "needs_background": "light"
     },
     "output_type": "display_data"
    }
   ],
   "source": [
    "plot_score(score, regional_label, model_label, 'score')"
   ]
  },
  {
   "cell_type": "code",
   "execution_count": null,
   "metadata": {},
   "outputs": [],
   "source": []
  }
 ],
 "metadata": {
  "kernelspec": {
   "display_name": "Python 3",
   "language": "python",
   "name": "python3"
  },
  "language_info": {
   "codemirror_mode": {
    "name": "ipython",
    "version": 3
   },
   "file_extension": ".py",
   "mimetype": "text/x-python",
   "name": "python",
   "nbconvert_exporter": "python",
   "pygments_lexer": "ipython3",
   "version": "3.8.5"
  }
 },
 "nbformat": 4,
 "nbformat_minor": 4
}
