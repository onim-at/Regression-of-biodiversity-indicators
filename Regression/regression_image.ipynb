{
 "cells": [
  {
   "cell_type": "markdown",
   "metadata": {},
   "source": [
    "# Regression using satellite images"
   ]
  },
  {
   "cell_type": "code",
   "execution_count": 2,
   "metadata": {},
   "outputs": [],
   "source": [
    "import sklearn.preprocessing as preprocessing\n",
    "from PIL import Image\n",
    "import torch\n",
    "import torch.nn as nn\n",
    "import torch.optim as optim\n",
    "from torch.optim import lr_scheduler\n",
    "import torch.nn.functional as F\n",
    "import numpy as np\n",
    "import torchvision\n",
    "from torchvision import datasets, models, transforms\n",
    "from torch.utils.data import Dataset, DataLoader\n",
    "import matplotlib.pyplot as plt\n",
    "import time\n",
    "import os\n",
    "import copy\n",
    "import pandas as pd\n",
    "from sklearn.metrics import r2_score"
   ]
  },
  {
   "cell_type": "markdown",
   "metadata": {},
   "source": [
    "## train_model"
   ]
  },
  {
   "cell_type": "code",
   "execution_count": 2,
   "metadata": {},
   "outputs": [],
   "source": [
    "def train_model(dataloader, model, optimizer, criterion,  out_scaler, feature_scaler, epochs=20, print_step=1000):\n",
    "    for epoch in range(epochs): \n",
    "\n",
    "        running_loss = 0.0\n",
    "        for i, sample_batched in enumerate(dataloader):\n",
    "            \n",
    "            expected_outputs = out_scaler.transform(sample_batched['out'])\n",
    "            features = feature_scaler.transform(sample_batched['features'])\n",
    "            # zero the parameter gradients\n",
    "            optimizer.zero_grad()\n",
    "            # forward + backward + optimize\n",
    "            outputs = model(sample_batched['image'].to(device), features.to(device))\n",
    "            loss = criterion(outputs, expected_outputs)\n",
    "            loss.backward()\n",
    "            optimizer.step()\n",
    "\n",
    "            # print statistics\n",
    "            running_loss += loss.item()\n",
    "            if i % print_step == print_step-1:    # print every 500 mini-batches\n",
    "                print('[%d, %5d] loss: %.3f' %\n",
    "                      (epoch + 1, i + 1, running_loss / print_step))\n",
    "                running_loss = 0.0\n",
    "    \n",
    "    print('Finished Training')"
   ]
  },
  {
   "cell_type": "markdown",
   "metadata": {},
   "source": [
    "## test_model"
   ]
  },
  {
   "cell_type": "code",
   "execution_count": 13,
   "metadata": {},
   "outputs": [],
   "source": [
    "def test_model(dataloader, model):\n",
    "    with torch.no_grad():\n",
    "        expected_outputs = []\n",
    "        outputs = []\n",
    "        for sample_batched in iter(dataloader):\n",
    "            expected_outputs += out_scaler.transform(sample_batched['out'])\n",
    "            features = feature_scaler.transform(sample_batched['features'])\n",
    "\n",
    "            outputs += net(sample_batched['image'].to(device), features.to(device))\n",
    "    print(expected_outputs)\n",
    "    print(outputs)\n",
    "    print(f\"R2 score: {r2_score(outputs, expected_outputs)}\")"
   ]
  },
  {
   "cell_type": "markdown",
   "metadata": {},
   "source": [
    "## BiodiversityDataset"
   ]
  },
  {
   "cell_type": "code",
   "execution_count": 4,
   "metadata": {},
   "outputs": [],
   "source": [
    "class BiodiversityDataset(Dataset):\n",
    "\n",
    "    def __init__(self, csv_file, img_dir, image_transform=None):\n",
    "        \"\"\"\n",
    "        Args:\n",
    "            csv_file (string): Path to the csv file with features.\n",
    "            root_dir (string): Directory with all the images.\n",
    "            transform (callable, optional): Optional transform to be applied\n",
    "                on a image.\n",
    "        \"\"\"\n",
    "        self.features = pd.read_csv(csv_file)\n",
    "        self.img_dir = img_dir\n",
    "        self.image_transform = image_transform\n",
    "        \n",
    "    def __len__(self):\n",
    "        return len(self.features)\n",
    "\n",
    "    def __getitem__(self, idx):\n",
    "        lon = self.features.loc[idx].longitude\n",
    "        lat = self.features.loc[idx].latitude\n",
    "        img_name = str(lon) + \"_\" + str(lat) + \".jpg\"\n",
    "        img_path = os.path.join(self.img_dir, img_name)\n",
    "        \n",
    "        image = Image.open(img_path)\n",
    "        if self.image_transform:\n",
    "            image = self.image_transform(image)\n",
    "\n",
    "        out = torch.from_numpy(np.array([self.features.loc[idx]['habitat_richness']])).detach().clone().reshape([-1])\n",
    "        features = self.features.drop(columns=['habitat_richness', 'longitude', 'latitude']).loc[idx].values\n",
    "        features = torch.from_numpy(features.astype('float').reshape(-1, 46)).detach().clone().reshape([-1])\n",
    "        sample = {'image': image, 'features': features, 'out': out}\n",
    "\n",
    "        return sample\n",
    "    \n",
    "    def get_feature(self):\n",
    "         return torch.from_numpy(self.features.drop(columns=['habitat_richness', 'longitude', 'latitude']).values).detach().clone()\n",
    "    \n",
    "    def get_out(self):\n",
    "        return torch.from_numpy(self.features['habitat_richness'].values).detach().clone()\n",
    "    "
   ]
  },
  {
   "cell_type": "markdown",
   "metadata": {},
   "source": [
    "## FeatureImageNet"
   ]
  },
  {
   "cell_type": "code",
   "execution_count": 5,
   "metadata": {},
   "outputs": [],
   "source": [
    "class FeatureImageNet(nn.Module):\n",
    "\n",
    "    def __init__(self, image_net, feature_input_size, output_size):\n",
    "        super(FeatureImageNet, self).__init__()\n",
    "        self.image_net = image_net\n",
    "    \n",
    "        self.feat_fc1 = nn.Linear(feature_input_size, 46)  \n",
    "        self.feat_fc2 = nn.Linear(46, 100)\n",
    "        self.feat_fc3 = nn.Linear(100, 128)\n",
    "\n",
    "        self.fc1 = nn.Linear(256, 256)\n",
    "        self.fc2 = nn.Linear(256, 128)\n",
    "        self.fc3 = nn.Linear(128, 1)\n",
    "\n",
    "    def forward(self, images, features):\n",
    "        x_features = F.relu(self.feat_fc1(features))\n",
    "        x_features = F.relu(self.feat_fc2(x_features))\n",
    "        x_features = F.relu(self.feat_fc3(x_features))\n",
    "        \n",
    "        x_image = self.image_net(images)\n",
    "      \n",
    "        x = torch.cat([x_features, x_image] , dim=1, out=None)\n",
    "\n",
    "        x = F.relu(self.fc1(x))\n",
    "        x = F.relu(self.fc2(x))\n",
    "        x = F.relu(self.fc3(x))\n",
    "        return x\n"
   ]
  },
  {
   "cell_type": "markdown",
   "metadata": {},
   "source": [
    "## PyTMinMaxScaler"
   ]
  },
  {
   "cell_type": "code",
   "execution_count": 6,
   "metadata": {},
   "outputs": [],
   "source": [
    "class PyTMinMaxScaler():\n",
    "    \"\"\"\n",
    "    Transforms each channel to the range [0, 1].\n",
    "    \"\"\"\n",
    "    def transform(self, tensor):\n",
    "        tensor.mul_(self.scale).sub_(self.subtract)\n",
    "        return tensor.float() \n",
    "    \n",
    "    def fit(self, tensor):\n",
    "        t = tensor.detach().clone()\n",
    "        self.scale = 1.0 / (t.max(dim=0, keepdim=True)[0] - t.min(dim=0, keepdim=True)[0])\n",
    "        self.scale[self.scale == float(\"Inf\")] = 0\n",
    "        t.mul_(self.scale)\n",
    "        self.subtract = t.min(dim=0, keepdim=True)[0]\n",
    "        \n",
    "    def fit_transform(self, tensor):\n",
    "        self.scale = 1.0 / (tensor.max(dim=0, keepdim=True)[0] - tensor.min(dim=0, keepdim=True)[0])\n",
    "        self.scale[self.scale == float(\"Inf\")] = 0\n",
    "        tensor.mul_(self.scale)\n",
    "        self.subtract = tensor.min(dim=0, keepdim=True)[0]\n",
    "        tensor.sub_(self.subtract)\n",
    "        return tensor.float() \n",
    "        "
   ]
  },
  {
   "cell_type": "markdown",
   "metadata": {},
   "source": [
    "## Loading data"
   ]
  },
  {
   "cell_type": "code",
   "execution_count": 7,
   "metadata": {},
   "outputs": [
    {
     "name": "stdout",
     "output_type": "stream",
     "text": [
      "cpu\n"
     ]
    }
   ],
   "source": [
    "device = torch.device(\"cuda:0\" if torch.cuda.is_available() else \"cpu\")\n",
    "print(device)"
   ]
  },
  {
   "cell_type": "code",
   "execution_count": 8,
   "metadata": {},
   "outputs": [
    {
     "name": "stderr",
     "output_type": "stream",
     "text": [
      "Using cache found in C:\\Users\\minoc/.cache\\torch\\hub\\pytorch_vision_v0.6.0\n"
     ]
    }
   ],
   "source": [
    "data_dir = \"../Dataset/images\"\n",
    "\n",
    "image_transform = transforms.Compose([\n",
    "        transforms.RandomResizedCrop(224),\n",
    "        transforms.RandomHorizontalFlip(),\n",
    "        transforms.ToTensor(),\n",
    "        transforms.Normalize([0.485, 0.456, 0.406], [0.229, 0.224, 0.225])\n",
    "    ])\n",
    "\n",
    "feature_scaler = PyTMinMaxScaler()\n",
    "out_scaler = PyTMinMaxScaler()\n",
    "\n",
    "dataset = BiodiversityDataset(data_dir+\"/test.csv\", data_dir+\"/test\", image_transform)\n",
    "\n",
    "feature_scaler.fit(dataset.get_feature())\n",
    "out_scaler.fit(dataset.get_out().reshape([-1, 1]))\n",
    "\n",
    "\n",
    "resnet = torch.hub.load('pytorch/vision:v0.6.0', 'resnet18', pretrained=True)\n",
    "resnet.fc = nn.Linear(512, 128)\n",
    "\n",
    "net = FeatureImageNet(image_net=resnet, feature_input_size=46, output_size=1)\n",
    "net.to(device)\n",
    "criterion = nn.MSELoss()\n",
    "optimizer = optim.Adam(net.parameters(), lr=0.001)\n"
   ]
  },
  {
   "cell_type": "code",
   "execution_count": 9,
   "metadata": {},
   "outputs": [],
   "source": [
    "dataloader = DataLoader(dataset, batch_size=4, shuffle=True, num_workers=0)"
   ]
  },
  {
   "cell_type": "code",
   "execution_count": 15,
   "metadata": {},
   "outputs": [
    {
     "name": "stdout",
     "output_type": "stream",
     "text": [
      "[1,     2] loss: 0.039\n",
      "[2,     2] loss: 0.016\n",
      "[3,     2] loss: 0.254\n",
      "[4,     2] loss: 0.035\n",
      "[5,     2] loss: 0.236\n",
      "[6,     2] loss: 0.157\n",
      "[7,     2] loss: 0.103\n",
      "[8,     2] loss: 0.197\n",
      "[9,     2] loss: 0.279\n",
      "[10,     2] loss: 0.196\n",
      "[11,     2] loss: 0.195\n",
      "[12,     2] loss: 0.147\n",
      "[13,     2] loss: 0.076\n",
      "[14,     2] loss: 0.209\n",
      "[15,     2] loss: 0.059\n",
      "[16,     2] loss: 0.136\n",
      "[17,     2] loss: 0.049\n",
      "[18,     2] loss: 0.061\n",
      "[19,     2] loss: 0.183\n",
      "[20,     2] loss: 0.033\n",
      "Finished Training\n"
     ]
    }
   ],
   "source": [
    "train_model(dataloader=dataloader, model=net, optimizer=optimizer,  out_scaler=out_scaler, \n",
    "            feature_scaler=feature_scaler, criterion=criterion, epochs=20, print_step=2)"
   ]
  },
  {
   "cell_type": "code",
   "execution_count": 16,
   "metadata": {},
   "outputs": [
    {
     "name": "stdout",
     "output_type": "stream",
     "text": [
      "[tensor([0.9366]), tensor([0.9366]), tensor([1.]), tensor([0.]), tensor([1.]), tensor([0.]), tensor([0.4845])]\n",
      "[tensor([0.8534]), tensor([0.3932]), tensor([1.0400]), tensor([0.0380]), tensor([0.7545]), tensor([0.1191]), tensor([0.8299])]\n",
      "R2 score: 0.45784441850545543\n"
     ]
    }
   ],
   "source": [
    "test_model(dataloader, net)"
   ]
  },
  {
   "cell_type": "code",
   "execution_count": null,
   "metadata": {},
   "outputs": [],
   "source": []
  }
 ],
 "metadata": {
  "kernelspec": {
   "display_name": "Python 3",
   "language": "python",
   "name": "python3"
  },
  "language_info": {
   "codemirror_mode": {
    "name": "ipython",
    "version": 3
   },
   "file_extension": ".py",
   "mimetype": "text/x-python",
   "name": "python",
   "nbconvert_exporter": "python",
   "pygments_lexer": "ipython3",
   "version": "3.8.5"
  }
 },
 "nbformat": 4,
 "nbformat_minor": 4
}
